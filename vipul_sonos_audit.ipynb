{
 "cells": [
  {
   "cell_type": "code",
   "execution_count": 3,
   "metadata": {
    "collapsed": true
   },
   "outputs": [],
   "source": [
    "from pandas import Series, DataFrame"
   ]
  },
  {
   "cell_type": "code",
   "execution_count": 4,
   "metadata": {
    "collapsed": false
   },
   "outputs": [],
   "source": [
    "import pandas as pd"
   ]
  },
  {
   "cell_type": "code",
   "execution_count": 5,
   "metadata": {
    "collapsed": true
   },
   "outputs": [],
   "source": [
    "import numpy as np"
   ]
  },
  {
   "cell_type": "code",
   "execution_count": 6,
   "metadata": {
    "collapsed": true
   },
   "outputs": [],
   "source": [
    "import csv"
   ]
  },
  {
   "cell_type": "code",
   "execution_count": 7,
   "metadata": {
    "collapsed": true
   },
   "outputs": [],
   "source": [
    "from IPython.display import display, HTML"
   ]
  },
  {
   "cell_type": "code",
   "execution_count": 8,
   "metadata": {
    "collapsed": true
   },
   "outputs": [],
   "source": [
    "import string"
   ]
  },
  {
   "cell_type": "code",
   "execution_count": 9,
   "metadata": {
    "collapsed": true
   },
   "outputs": [],
   "source": [
    "import re"
   ]
  },
  {
   "cell_type": "code",
   "execution_count": 36,
   "metadata": {
    "collapsed": false
   },
   "outputs": [],
   "source": [
    "df_com_2016 = pd.read_excel('../com_booking_mapped2016.xlsx')"
   ]
  },
  {
   "cell_type": "code",
   "execution_count": 55,
   "metadata": {
    "collapsed": false
   },
   "outputs": [
    {
     "data": {
      "text/html": [
       "<div>\n",
       "<table border=\"1\" class=\"dataframe\">\n",
       "  <thead>\n",
       "    <tr style=\"text-align: right;\">\n",
       "      <th></th>\n",
       "      <th>customer_name</th>\n",
       "      <th>unique_name</th>\n",
       "      <th>mapable</th>\n",
       "      <th>mapped_name</th>\n",
       "      <th>gaining_sub_scms</th>\n",
       "      <th>remarks</th>\n",
       "      <th>where_to</th>\n",
       "      <th>gaining_sales_level_2</th>\n",
       "      <th>gaining_sales_level_3</th>\n",
       "      <th>gaining_sales_level_4</th>\n",
       "      <th>gaining_sales_level_5</th>\n",
       "      <th>gaining_sales_level_6</th>\n",
       "    </tr>\n",
       "  </thead>\n",
       "  <tbody>\n",
       "    <tr>\n",
       "      <th>0</th>\n",
       "      <td>GUAVUS NETWORK SYSTEMS PVT LTD</td>\n",
       "      <td>GUAVUS INDIA</td>\n",
       "      <td>No</td>\n",
       "      <td>NaN</td>\n",
       "      <td>NaN</td>\n",
       "      <td>NaN</td>\n",
       "      <td>NaN</td>\n",
       "      <td>NaN</td>\n",
       "      <td>NaN</td>\n",
       "      <td>NaN</td>\n",
       "      <td>NaN</td>\n",
       "      <td>NaN</td>\n",
       "    </tr>\n",
       "  </tbody>\n",
       "</table>\n",
       "</div>"
      ],
      "text/plain": [
       "                    customer_name   unique_name mapable mapped_name  \\\n",
       "0  GUAVUS NETWORK SYSTEMS PVT LTD  GUAVUS INDIA      No         NaN   \n",
       "\n",
       "  gaining_sub_scms remarks where_to gaining_sales_level_2  \\\n",
       "0              NaN     NaN      NaN                   NaN   \n",
       "\n",
       "   gaining_sales_level_3 gaining_sales_level_4  gaining_sales_level_5  \\\n",
       "0                    NaN                   NaN                    NaN   \n",
       "\n",
       "   gaining_sales_level_6  \n",
       "0                    NaN  "
      ]
     },
     "execution_count": 55,
     "metadata": {},
     "output_type": "execute_result"
    }
   ],
   "source": [
    "df_com_mapping.loc[:0]"
   ]
  },
  {
   "cell_type": "code",
   "execution_count": 47,
   "metadata": {
    "collapsed": false
   },
   "outputs": [],
   "source": [
    "df_com_mapping = pd.read_excel('../com_mapping_list_working.xlsx')"
   ]
  },
  {
   "cell_type": "code",
   "execution_count": 95,
   "metadata": {
    "collapsed": false
   },
   "outputs": [
    {
     "data": {
      "text/plain": [
       "u'PEPSICO INDIA HOLDINGS PRIVATE LIMITED'"
      ]
     },
     "execution_count": 95,
     "metadata": {},
     "output_type": "execute_result"
    }
   ],
   "source": [
    "df_temp = df_com_mapping[df_com_mapping.mapped_name.str.contains('PEPSICO INDIA HOLDINGS PRIVATE LIMITED', case=False).fillna(False)]\n",
    "df_temp = df_temp[['mapable', 'mapped_name', 'gaining_sub_scms', 'remarks','where_to','gaining_sales_level_2','gaining_sales_level_3','gaining_sales_level_4','gaining_sales_level_5','gaining_sales_level_6']]\n",
    "mapped_name = df_temp.mapped_name.unique()\n",
    "mapped_name[0]"
   ]
  },
  {
   "cell_type": "code",
   "execution_count": 10,
   "metadata": {
    "collapsed": false,
    "scrolled": true
   },
   "outputs": [
    {
     "ename": "NameError",
     "evalue": "global name 'df_com_mapping' is not defined",
     "output_type": "error",
     "traceback": [
      "\u001b[1;31m---------------------------------------------------------------------------\u001b[0m",
      "\u001b[1;31mNameError\u001b[0m                                 Traceback (most recent call last)",
      "\u001b[1;32m<ipython-input-10-7aa7be85eee9>\u001b[0m in \u001b[0;36m<module>\u001b[1;34m()\u001b[0m\n\u001b[0;32m     58\u001b[0m     \u001b[1;32mreturn\u001b[0m \u001b[0mdf_final\u001b[0m\u001b[1;33m\u001b[0m\u001b[0m\n\u001b[0;32m     59\u001b[0m \u001b[1;33m\u001b[0m\u001b[0m\n\u001b[1;32m---> 60\u001b[1;33m \u001b[0mget_so_nos_from_file\u001b[0m\u001b[1;33m(\u001b[0m\u001b[1;33m)\u001b[0m\u001b[1;33m\u001b[0m\u001b[0m\n\u001b[0m\u001b[0;32m     61\u001b[0m \u001b[1;33m\u001b[0m\u001b[0m\n\u001b[0;32m     62\u001b[0m \u001b[1;33m\u001b[0m\u001b[0m\n",
      "\u001b[1;32m<ipython-input-10-7aa7be85eee9>\u001b[0m in \u001b[0;36mget_so_nos_from_file\u001b[1;34m()\u001b[0m\n\u001b[0;32m     46\u001b[0m     \u001b[0mrqd_fields\u001b[0m \u001b[1;33m=\u001b[0m \u001b[1;33m[\u001b[0m\u001b[1;34m'mapable'\u001b[0m\u001b[1;33m,\u001b[0m \u001b[1;34m'mapped_name'\u001b[0m\u001b[1;33m,\u001b[0m \u001b[1;34m'gaining_sub_scms'\u001b[0m\u001b[1;33m,\u001b[0m \u001b[1;34m'remarks'\u001b[0m\u001b[1;33m,\u001b[0m\u001b[1;34m'where_to'\u001b[0m\u001b[1;33m,\u001b[0m\u001b[1;34m'gaining_sales_level_2'\u001b[0m\u001b[1;33m,\u001b[0m\u001b[1;34m'gaining_sales_level_3'\u001b[0m\u001b[1;33m,\u001b[0m\u001b[1;34m'gaining_sales_level_4'\u001b[0m\u001b[1;33m,\u001b[0m\u001b[1;34m'gaining_sales_level_5'\u001b[0m\u001b[1;33m,\u001b[0m\u001b[1;34m'gaining_sales_level_6'\u001b[0m\u001b[1;33m]\u001b[0m\u001b[1;33m\u001b[0m\u001b[0m\n\u001b[0;32m     47\u001b[0m     \u001b[1;32mfor\u001b[0m \u001b[0mname\u001b[0m \u001b[1;32min\u001b[0m \u001b[0msrs_mapped_name\u001b[0m\u001b[1;33m:\u001b[0m\u001b[1;33m\u001b[0m\u001b[0m\n\u001b[1;32m---> 48\u001b[1;33m         \u001b[0mdf_temp\u001b[0m \u001b[1;33m=\u001b[0m \u001b[0mdf_com_mapping\u001b[0m\u001b[1;33m[\u001b[0m\u001b[0mdf_com_mapping\u001b[0m\u001b[1;33m.\u001b[0m\u001b[0mmapped_name\u001b[0m\u001b[1;33m.\u001b[0m\u001b[0mstr\u001b[0m\u001b[1;33m.\u001b[0m\u001b[0mcontains\u001b[0m\u001b[1;33m(\u001b[0m\u001b[0mname\u001b[0m\u001b[1;33m,\u001b[0m \u001b[0mcase\u001b[0m\u001b[1;33m=\u001b[0m\u001b[0mFalse\u001b[0m\u001b[1;33m)\u001b[0m\u001b[1;33m.\u001b[0m\u001b[0mfillna\u001b[0m\u001b[1;33m(\u001b[0m\u001b[0mFalse\u001b[0m\u001b[1;33m)\u001b[0m\u001b[1;33m]\u001b[0m\u001b[1;33m\u001b[0m\u001b[0m\n\u001b[0m\u001b[0;32m     49\u001b[0m         \u001b[1;32mif\u001b[0m \u001b[1;32mnot\u001b[0m \u001b[0mdf_temp\u001b[0m\u001b[1;33m.\u001b[0m\u001b[0mempty\u001b[0m\u001b[1;33m:\u001b[0m\u001b[1;33m\u001b[0m\u001b[0m\n\u001b[0;32m     50\u001b[0m             \u001b[0mdf_temp\u001b[0m \u001b[1;33m=\u001b[0m \u001b[0mdf_temp\u001b[0m\u001b[1;33m[\u001b[0m\u001b[0mrqd_fields\u001b[0m\u001b[1;33m]\u001b[0m\u001b[1;33m\u001b[0m\u001b[0m\n",
      "\u001b[1;31mNameError\u001b[0m: global name 'df_com_mapping' is not defined"
     ]
    }
   ],
   "source": [
    "def extract_sonos(cell_value):\n",
    "    pattern = re.compile(r\"[\\(,\\s]*(\\d{5,})[\\),\\s]\")\n",
    "    match = pattern.findall(cell_value)\n",
    "    return match\n",
    "\n",
    "def get_sos_file_to_dict(file_names):\n",
    "    data_dict = {}\n",
    "    for filename in file_names:\n",
    "        df = pd.read_excel('../'+filename)\n",
    "        for index, row in df.iterrows():\n",
    "            temp_dict = {row[0] : row[2]}\n",
    "            data_dict.update(temp_dict)\n",
    "    return data_dict\n",
    "    \n",
    "def get_sos_file_to_dict_by_pattern(file_name):\n",
    "    data_dict = {}\n",
    "    df = pd.read_excel('../'+file_name)\n",
    "    df.rename(columns=string.lower, inplace=True)\n",
    "    for index, row in df.iterrows():\n",
    "        if row['remarks'] != '' and pd.notnull(row['remarks']):\n",
    "            cus_name = row[0]\n",
    "            so_nos = extract_sonos(row['remarks'])\n",
    "            temp_dict = {so_no: cus_name for so_no in so_nos}\n",
    "    return data_dict\n",
    "    \n",
    "def get_so_nos_from_file():\n",
    "    data_dict = {}\n",
    "    # Get SO_Nos from Vipul's update file\n",
    "    data_dict.update(get_sos_file_to_dict_by_pattern('vipul_feedback.xlsx'))\n",
    "    \n",
    "    # Get ADP/Fidelity/Amway so numbers into Dataframe\n",
    "    filenames = ['adp_sos.xlsx','fidelity_sos.xlsx','amway_sos.xlsx']\n",
    "    data_dict.update(get_sos_file_to_dict(filenames))\n",
    "\n",
    "    df_final = DataFrame.from_dict(data_dict, orient='index') # Dictionary to Dataframe will not have column names\n",
    "    df_final.columns = ['mapped_name'] # Assign column names\n",
    "    df_final['sales_order_number_detail'] = df_final.index # Make Index as column\n",
    "    # Add More columns to the existing df_final dataframe\n",
    "    empty_columns = ['mapped_name','mapable', 'gaining_sub_scms', 'remarks','where_to','gaining_sales_level_2','gaining_sales_level_3','gaining_sales_level_4','gaining_sales_level_5','gaining_sales_level_6']\n",
    "    df_empty = pd.DataFrame(columns=empty_columns)\n",
    "    \n",
    "    df_final = pd.concat([df_final, df_empty]) # Concatenate df_final and df_empty to make df_final with all reqrd. columns\n",
    "    srs_mapped_name = df_final['mapped_name'].unique() # Assign all unique customer_names from df_final into a list\n",
    "    \n",
    "    # Iterate over customers list, obtain other fields data from mapping list dataframe and assign them in df_final\n",
    "    rqd_fields = ['mapable', 'mapped_name', 'gaining_sub_scms', 'remarks','where_to','gaining_sales_level_2','gaining_sales_level_3','gaining_sales_level_4','gaining_sales_level_5','gaining_sales_level_6']\n",
    "    for name in srs_mapped_name:\n",
    "        df_temp = df_com_mapping[df_com_mapping.mapped_name.str.contains(name, case=False).fillna(False)]\n",
    "        if not df_temp.empty:\n",
    "            df_temp = df_temp[rqd_fields]\n",
    "            rqd_data = [df_temp.mapable.unique()[0],df_temp.mapped_name.unique()[0],df_temp.gaining_sub_scms.unique()[0],df_temp.remarks.unique()[0],df_temp.where_to.unique()[0],df_temp.gaining_sales_level_2.unique()[0],df_temp.gaining_sales_level_3.unique()[0],df_temp.gaining_sales_level_4.unique()[0],df_temp.gaining_sales_level_5.unique()[0],df_temp.gaining_sales_level_6.unique()[0]]\n",
    "            df_final.ix[df_final.mapped_name.str.contains(name, case=False).fillna(False),rqd_fields] = rqd_data\n",
    "    \n",
    "    # Resetting and droping Index being sales order number and keep normal index\n",
    "    df_final.reset_index(inplace=True) \n",
    "    df_final.drop(['index'], inplace=True, axis=1)\n",
    "    df_final['sales_order_number_detail'] = df_final['sales_order_number_detail'].astype(int)\n",
    "    return df_final\n",
    "\n",
    "get_so_nos_from_file()\n",
    "\n",
    "\n",
    "#extract_sonos(df_vipul.remarks[0])"
   ]
  },
  {
   "cell_type": "code",
   "execution_count": 19,
   "metadata": {
    "collapsed": true
   },
   "outputs": [],
   "source": []
  },
  {
   "cell_type": "code",
   "execution_count": null,
   "metadata": {
    "collapsed": false
   },
   "outputs": [],
   "source": []
  },
  {
   "cell_type": "code",
   "execution_count": null,
   "metadata": {
    "collapsed": true
   },
   "outputs": [],
   "source": []
  }
 ],
 "metadata": {
  "anaconda-cloud": {},
  "kernelspec": {
   "display_name": "Python [Root]",
   "language": "python",
   "name": "Python [Root]"
  },
  "language_info": {
   "codemirror_mode": {
    "name": "ipython",
    "version": 2
   },
   "file_extension": ".py",
   "mimetype": "text/x-python",
   "name": "python",
   "nbconvert_exporter": "python",
   "pygments_lexer": "ipython2",
   "version": "2.7.11"
  }
 },
 "nbformat": 4,
 "nbformat_minor": 0
}
