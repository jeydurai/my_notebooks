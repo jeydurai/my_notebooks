{
 "cells": [
  {
   "cell_type": "code",
   "execution_count": 1,
   "metadata": {
    "collapsed": false
   },
   "outputs": [
    {
     "name": "stdout",
     "output_type": "stream",
     "text": [
      "Populating the interactive namespace from numpy and matplotlib\n"
     ]
    }
   ],
   "source": [
    "from pandas import Series, DataFrame\n",
    "import pandas as pd\n",
    "import numpy as np\n",
    "from sqlalchemy import create_engine\n",
    "import csv\n",
    "from IPython.display import display, HTML\n",
    "from matplotlib import pyplot as plt\n",
    "%pylab inline\n",
    "pylab.rcParams['figure.figsize'] = (10, 6)\n",
    "import string\n",
    "import re\n",
    "pd.options.display.float_format = '${:10,.0f}'.format"
   ]
  },
  {
   "cell_type": "code",
   "execution_count": 26,
   "metadata": {
    "collapsed": false,
    "scrolled": true
   },
   "outputs": [],
   "source": [
    "xl = pd.ExcelFile('../com_booking_mapped_2016_Q3M3W3+.xlsx')\n",
    "df_com = xl.parse('com_booking_mapped_2016')"
   ]
  },
  {
   "cell_type": "code",
   "execution_count": 27,
   "metadata": {
    "collapsed": false,
    "scrolled": true
   },
   "outputs": [],
   "source": [
    "xl = pd.ExcelFile('../ent_booking_mapped_2016_Q3M3W3+.xlsx')\n",
    "df_ent = xl.parse('ent_booking_mapped_2016')"
   ]
  },
  {
   "cell_type": "code",
   "execution_count": 28,
   "metadata": {
    "collapsed": false
   },
   "outputs": [
    {
     "data": {
      "text/plain": [
       "305992440.5323061"
      ]
     },
     "execution_count": 28,
     "metadata": {},
     "output_type": "execute_result"
    }
   ],
   "source": [
    "grouped_a = df_com.groupby('fiscal_quarter_id')['booking_net'].sum()\n",
    "grouped_a.sum()"
   ]
  },
  {
   "cell_type": "code",
   "execution_count": 29,
   "metadata": {
    "collapsed": false
   },
   "outputs": [
    {
     "data": {
      "text/plain": [
       "308739002.4983982"
      ]
     },
     "execution_count": 29,
     "metadata": {},
     "output_type": "execute_result"
    }
   ],
   "source": [
    "grouped_b = df_ent.groupby('fiscal_quarter_id')['booking_net'].sum()\n",
    "grouped_b.sum()"
   ]
  },
  {
   "cell_type": "code",
   "execution_count": 30,
   "metadata": {
    "collapsed": false
   },
   "outputs": [
    {
     "data": {
      "text/plain": [
       "299161"
      ]
     },
     "execution_count": 30,
     "metadata": {},
     "output_type": "execute_result"
    }
   ],
   "source": [
    "len(df_com.index)"
   ]
  },
  {
   "cell_type": "code",
   "execution_count": 31,
   "metadata": {
    "collapsed": false
   },
   "outputs": [
    {
     "data": {
      "text/plain": [
       "218064"
      ]
     },
     "execution_count": 31,
     "metadata": {},
     "output_type": "execute_result"
    }
   ],
   "source": [
    "len(df_ent.index)"
   ]
  },
  {
   "cell_type": "code",
   "execution_count": 32,
   "metadata": {
    "collapsed": false
   },
   "outputs": [
    {
     "data": {
      "text/plain": [
       "Index([u'id', u'bookings_adjustments_code',\n",
       "       u'bookings_adjustments_description', u'bookings_adjustments_type',\n",
       "       u'at_attach', u'business_unit', u'customer_name', u'erp_deal_id',\n",
       "       u'sales_order_number_detail', u'fiscal_period_id', u'fiscal_quarter_id',\n",
       "       u'fiscal_week_id', u'partner_name', u'product_family', u'product_id',\n",
       "       u'tbm', u'sales_level_2', u'sales_level_3', u'sales_level_4',\n",
       "       u'sales_level_5', u'sales_level_6', u'scms', u'sub_scms',\n",
       "       u'tms_level_1_sales_allocated', u'tms_level_2_sales_allocated',\n",
       "       u'tms_level_3_sales_allocated', u'tms_level_4_sales_allocated',\n",
       "       u'technology_group', u'partner_tier_code', u'partner_certification',\n",
       "       u'partner_type', u'bill_to_site_city', u'ship_to_city', u'cbn_flag',\n",
       "       u'booking_net', u'internal_business_entity_name',\n",
       "       u'internal_sub_business_entity_name', u'services_indicator',\n",
       "       u'unique_name', u'mapable', u'mapped_name', u'gaining_sub_scms',\n",
       "       u'remarks', u'where_to', u'gaining_sales_level_2',\n",
       "       u'gaining_sales_level_3', u'gaining_sales_level_4',\n",
       "       u'gaining_sales_level_5', u'gaining_sales_level_6',\n",
       "       u'gaining_new_sales_level_2', u'gaining_new_sales_level_3',\n",
       "       u'gaining_new_sales_level_4', u'gaining_new_sales_level_5',\n",
       "       u'gaining_new_sales_level_6'],\n",
       "      dtype='object')"
      ]
     },
     "execution_count": 32,
     "metadata": {},
     "output_type": "execute_result"
    }
   ],
   "source": [
    "df_ent.columns"
   ]
  },
  {
   "cell_type": "code",
   "execution_count": 33,
   "metadata": {
    "collapsed": false
   },
   "outputs": [],
   "source": [
    "def create_new_com_cols(df):\n",
    "    #df.gaining_sales_level_2.fillna(df.new_sales_level_2, inplace=True)\n",
    "    df.gaining_sales_level_3.fillna(df.sales_level_3, inplace=True)\n",
    "    df.gaining_sales_level_4.fillna(df.sales_level_4, inplace=True)\n",
    "    df.gaining_sales_level_5.fillna(df.sales_level_5, inplace=True)\n",
    "    df.gaining_sales_level_6.fillna(df.sales_level_6, inplace=True)\n",
    "    return df\n",
    "\n",
    "def create_new_com_cols2(df):\n",
    "    #df.gaining_sales_level_2.fillna(df.sales_level_2, inplace=True)\n",
    "    df.gaining_sales_level_3.fillna(df.sales_level_3, inplace=True)\n",
    "    df.gaining_sales_level_4.fillna(df.sales_level_4, inplace=True)\n",
    "    df.gaining_sales_level_5.fillna(df.sales_level_5, inplace=True)\n",
    "    df.gaining_sales_level_6.fillna(df.sales_level_6, inplace=True)\n",
    "    return df\n",
    "\n",
    "df_com1 = create_new_com_cols(df_com)\n",
    "df_ent1 = create_new_com_cols2(df_ent)\n"
   ]
  },
  {
   "cell_type": "code",
   "execution_count": 34,
   "metadata": {
    "collapsed": true
   },
   "outputs": [],
   "source": [
    "df_com_no_cloud = df_com1[-df_com1.bookings_adjustments_code.str.startswith('LC')]\n",
    "df_ent_no_cloud = df_ent1[-df_ent1.bookings_adjustments_code.str.startswith('LC')]"
   ]
  },
  {
   "cell_type": "code",
   "execution_count": 35,
   "metadata": {
    "collapsed": true
   },
   "outputs": [],
   "source": [
    "df_all = pd.concat([df_com1, df_ent1])"
   ]
  },
  {
   "cell_type": "code",
   "execution_count": 36,
   "metadata": {
    "collapsed": true
   },
   "outputs": [],
   "source": [
    "df_all_no_cloud = pd.concat([df_com_no_cloud, df_ent_no_cloud])"
   ]
  },
  {
   "cell_type": "code",
   "execution_count": 37,
   "metadata": {
    "collapsed": false
   },
   "outputs": [
    {
     "data": {
      "text/html": [
       "<div>\n",
       "<table border=\"1\" class=\"dataframe\">\n",
       "  <thead>\n",
       "    <tr style=\"text-align: right;\">\n",
       "      <th>gaining_sales_level_3</th>\n",
       "      <th>GSP</th>\n",
       "      <th>INDIA_COMM_1</th>\n",
       "      <th>INDIA_ENTERPRISE_1</th>\n",
       "      <th>All</th>\n",
       "    </tr>\n",
       "    <tr>\n",
       "      <th>mapable</th>\n",
       "      <th></th>\n",
       "      <th></th>\n",
       "      <th></th>\n",
       "      <th></th>\n",
       "    </tr>\n",
       "  </thead>\n",
       "  <tbody>\n",
       "    <tr>\n",
       "      <th>No</th>\n",
       "      <td>$         0</td>\n",
       "      <td>$244,641,611</td>\n",
       "      <td>$         0</td>\n",
       "      <td>$244,641,611</td>\n",
       "    </tr>\n",
       "    <tr>\n",
       "      <th>Yes</th>\n",
       "      <td>$ 1,748,245</td>\n",
       "      <td>$         0</td>\n",
       "      <td>$49,088,386</td>\n",
       "      <td>$50,836,631</td>\n",
       "    </tr>\n",
       "    <tr>\n",
       "      <th>All</th>\n",
       "      <td>$ 1,748,245</td>\n",
       "      <td>$244,641,611</td>\n",
       "      <td>$49,088,386</td>\n",
       "      <td>$295,478,243</td>\n",
       "    </tr>\n",
       "  </tbody>\n",
       "</table>\n",
       "</div>"
      ],
      "text/plain": [
       "gaining_sales_level_3         GSP  INDIA_COMM_1  INDIA_ENTERPRISE_1  \\\n",
       "mapable                                                               \n",
       "No                    $         0  $244,641,611         $         0   \n",
       "Yes                   $ 1,748,245   $         0         $49,088,386   \n",
       "All                   $ 1,748,245  $244,641,611         $49,088,386   \n",
       "\n",
       "gaining_sales_level_3          All  \n",
       "mapable                             \n",
       "No                    $244,641,611  \n",
       "Yes                    $50,836,631  \n",
       "All                   $295,478,243  "
      ]
     },
     "execution_count": 37,
     "metadata": {},
     "output_type": "execute_result"
    }
   ],
   "source": [
    "df_com_no_cloud.pivot_table('booking_net', index=['mapable'], columns=['gaining_sales_level_3'], aggfunc=sum, margins=True, fill_value=0)"
   ]
  },
  {
   "cell_type": "code",
   "execution_count": 38,
   "metadata": {
    "collapsed": false
   },
   "outputs": [
    {
     "data": {
      "text/html": [
       "<div>\n",
       "<table border=\"1\" class=\"dataframe\">\n",
       "  <thead>\n",
       "    <tr style=\"text-align: right;\">\n",
       "      <th>fiscal_quarter_id</th>\n",
       "      <th>2016Q1</th>\n",
       "      <th>2016Q2</th>\n",
       "      <th>2016Q3</th>\n",
       "      <th>2016Q4</th>\n",
       "      <th>All</th>\n",
       "    </tr>\n",
       "    <tr>\n",
       "      <th>sales_level_3</th>\n",
       "      <th></th>\n",
       "      <th></th>\n",
       "      <th></th>\n",
       "      <th></th>\n",
       "      <th></th>\n",
       "    </tr>\n",
       "  </thead>\n",
       "  <tbody>\n",
       "    <tr>\n",
       "      <th>CLOUD OFFSET INDIA A</th>\n",
       "      <td>$-3,932,963</td>\n",
       "      <td>$-5,828,150</td>\n",
       "      <td>$-6,539,560</td>\n",
       "      <td>$-3,228,840</td>\n",
       "      <td>$-19,529,513</td>\n",
       "    </tr>\n",
       "    <tr>\n",
       "      <th>INDIA_AREA-MISCL3</th>\n",
       "      <td>$         0</td>\n",
       "      <td>$         0</td>\n",
       "      <td>$   -11,772</td>\n",
       "      <td>$   -49,298</td>\n",
       "      <td>$   -61,071</td>\n",
       "    </tr>\n",
       "    <tr>\n",
       "      <th>INDIA_COMM_1</th>\n",
       "      <td>$71,976,542</td>\n",
       "      <td>$76,795,124</td>\n",
       "      <td>$90,426,648</td>\n",
       "      <td>$66,794,126</td>\n",
       "      <td>$305,992,441</td>\n",
       "    </tr>\n",
       "    <tr>\n",
       "      <th>INDIA_ENTERPRISE_1</th>\n",
       "      <td>$73,582,364</td>\n",
       "      <td>$94,969,394</td>\n",
       "      <td>$108,192,484</td>\n",
       "      <td>$69,316,242</td>\n",
       "      <td>$346,060,484</td>\n",
       "    </tr>\n",
       "    <tr>\n",
       "      <th>INDIA_GROWTH_VERTICA</th>\n",
       "      <td>$ 3,605,264</td>\n",
       "      <td>$ 7,709,337</td>\n",
       "      <td>$   -60,951</td>\n",
       "      <td>$ 1,907,388</td>\n",
       "      <td>$13,161,037</td>\n",
       "    </tr>\n",
       "    <tr>\n",
       "      <th>INDIA_MISC</th>\n",
       "      <td>$-7,836,981</td>\n",
       "      <td>$-8,822,129</td>\n",
       "      <td>$-7,720,161</td>\n",
       "      <td>$-6,512,664</td>\n",
       "      <td>$-30,891,935</td>\n",
       "    </tr>\n",
       "    <tr>\n",
       "      <th>All</th>\n",
       "      <td>$137,394,226</td>\n",
       "      <td>$164,823,575</td>\n",
       "      <td>$184,286,688</td>\n",
       "      <td>$128,226,954</td>\n",
       "      <td>$614,731,443</td>\n",
       "    </tr>\n",
       "  </tbody>\n",
       "</table>\n",
       "</div>"
      ],
      "text/plain": [
       "fiscal_quarter_id          2016Q1       2016Q2       2016Q3       2016Q4  \\\n",
       "sales_level_3                                                              \n",
       "CLOUD OFFSET INDIA A  $-3,932,963  $-5,828,150  $-6,539,560  $-3,228,840   \n",
       "INDIA_AREA-MISCL3     $         0  $         0  $   -11,772  $   -49,298   \n",
       "INDIA_COMM_1          $71,976,542  $76,795,124  $90,426,648  $66,794,126   \n",
       "INDIA_ENTERPRISE_1    $73,582,364  $94,969,394 $108,192,484  $69,316,242   \n",
       "INDIA_GROWTH_VERTICA  $ 3,605,264  $ 7,709,337  $   -60,951  $ 1,907,388   \n",
       "INDIA_MISC            $-7,836,981  $-8,822,129  $-7,720,161  $-6,512,664   \n",
       "All                  $137,394,226 $164,823,575 $184,286,688 $128,226,954   \n",
       "\n",
       "fiscal_quarter_id             All  \n",
       "sales_level_3                      \n",
       "CLOUD OFFSET INDIA A $-19,529,513  \n",
       "INDIA_AREA-MISCL3     $   -61,071  \n",
       "INDIA_COMM_1         $305,992,441  \n",
       "INDIA_ENTERPRISE_1   $346,060,484  \n",
       "INDIA_GROWTH_VERTICA  $13,161,037  \n",
       "INDIA_MISC           $-30,891,935  \n",
       "All                  $614,731,443  "
      ]
     },
     "execution_count": 38,
     "metadata": {},
     "output_type": "execute_result"
    }
   ],
   "source": [
    "df_all.pivot_table(values='booking_net', index='sales_level_3', columns='fiscal_quarter_id', aggfunc=sum, margins=True)"
   ]
  },
  {
   "cell_type": "code",
   "execution_count": 39,
   "metadata": {
    "collapsed": false
   },
   "outputs": [
    {
     "data": {
      "text/html": [
       "<div>\n",
       "<table border=\"1\" class=\"dataframe\">\n",
       "  <thead>\n",
       "    <tr style=\"text-align: right;\">\n",
       "      <th>gaining_sales_level_3</th>\n",
       "      <th>GSP</th>\n",
       "      <th>INDIA_AREA-MISCL3</th>\n",
       "      <th>INDIA_COMM_1</th>\n",
       "      <th>INDIA_ENTERPRISE_1</th>\n",
       "      <th>INDIA_GROWTH_VERTICA</th>\n",
       "      <th>INDIA_MISC</th>\n",
       "      <th>All</th>\n",
       "    </tr>\n",
       "    <tr>\n",
       "      <th>mapable</th>\n",
       "      <th></th>\n",
       "      <th></th>\n",
       "      <th></th>\n",
       "      <th></th>\n",
       "      <th></th>\n",
       "      <th></th>\n",
       "      <th></th>\n",
       "    </tr>\n",
       "  </thead>\n",
       "  <tbody>\n",
       "    <tr>\n",
       "      <th>No</th>\n",
       "      <td>$         0</td>\n",
       "      <td>$   -61,071</td>\n",
       "      <td>$244,641,611</td>\n",
       "      <td>$325,584,805</td>\n",
       "      <td>$13,132,066</td>\n",
       "      <td>$-30,937,262</td>\n",
       "      <td>$552,360,151</td>\n",
       "    </tr>\n",
       "    <tr>\n",
       "      <th>Yes</th>\n",
       "      <td>$ 1,748,245</td>\n",
       "      <td>$         0</td>\n",
       "      <td>$11,534,661</td>\n",
       "      <td>$49,088,386</td>\n",
       "      <td>$         0</td>\n",
       "      <td>$         0</td>\n",
       "      <td>$62,371,292</td>\n",
       "    </tr>\n",
       "    <tr>\n",
       "      <th>All</th>\n",
       "      <td>$ 1,748,245</td>\n",
       "      <td>$   -61,071</td>\n",
       "      <td>$256,176,273</td>\n",
       "      <td>$374,673,191</td>\n",
       "      <td>$13,132,066</td>\n",
       "      <td>$-30,937,262</td>\n",
       "      <td>$614,731,443</td>\n",
       "    </tr>\n",
       "  </tbody>\n",
       "</table>\n",
       "</div>"
      ],
      "text/plain": [
       "gaining_sales_level_3         GSP  INDIA_AREA-MISCL3  INDIA_COMM_1  \\\n",
       "mapable                                                              \n",
       "No                    $         0        $   -61,071  $244,641,611   \n",
       "Yes                   $ 1,748,245        $         0   $11,534,661   \n",
       "All                   $ 1,748,245        $   -61,071  $256,176,273   \n",
       "\n",
       "gaining_sales_level_3  INDIA_ENTERPRISE_1  INDIA_GROWTH_VERTICA   INDIA_MISC  \\\n",
       "mapable                                                                        \n",
       "No                           $325,584,805           $13,132,066 $-30,937,262   \n",
       "Yes                           $49,088,386           $         0  $         0   \n",
       "All                          $374,673,191           $13,132,066 $-30,937,262   \n",
       "\n",
       "gaining_sales_level_3          All  \n",
       "mapable                             \n",
       "No                    $552,360,151  \n",
       "Yes                    $62,371,292  \n",
       "All                   $614,731,443  "
      ]
     },
     "execution_count": 39,
     "metadata": {},
     "output_type": "execute_result"
    }
   ],
   "source": [
    "df_all_no_cloud.pivot_table('booking_net', index=['mapable'], columns=['gaining_sales_level_3'], aggfunc=sum, margins=True, fill_value=0)"
   ]
  },
  {
   "cell_type": "code",
   "execution_count": 41,
   "metadata": {
    "collapsed": false
   },
   "outputs": [
    {
     "data": {
      "text/html": [
       "<div>\n",
       "<table border=\"1\" class=\"dataframe\">\n",
       "  <thead>\n",
       "    <tr style=\"text-align: right;\">\n",
       "      <th>sales_level_3</th>\n",
       "      <th>INDIA_AREA-MISCL3</th>\n",
       "      <th>INDIA_COMM_1</th>\n",
       "      <th>INDIA_ENTERPRISE_1</th>\n",
       "      <th>INDIA_GROWTH_VERTICA</th>\n",
       "      <th>INDIA_MISC</th>\n",
       "      <th>All</th>\n",
       "    </tr>\n",
       "    <tr>\n",
       "      <th>gaining_sales_level_3</th>\n",
       "      <th></th>\n",
       "      <th></th>\n",
       "      <th></th>\n",
       "      <th></th>\n",
       "      <th></th>\n",
       "      <th></th>\n",
       "    </tr>\n",
       "  </thead>\n",
       "  <tbody>\n",
       "    <tr>\n",
       "      <th>GSP</th>\n",
       "      <td>$         0</td>\n",
       "      <td>$ 1,748,245</td>\n",
       "      <td>$         0</td>\n",
       "      <td>$         0</td>\n",
       "      <td>$         0</td>\n",
       "      <td>$ 1,748,245</td>\n",
       "    </tr>\n",
       "    <tr>\n",
       "      <th>INDIA_AREA-MISCL3</th>\n",
       "      <td>$   -61,071</td>\n",
       "      <td>$         0</td>\n",
       "      <td>$         0</td>\n",
       "      <td>$         0</td>\n",
       "      <td>$         0</td>\n",
       "      <td>$   -61,071</td>\n",
       "    </tr>\n",
       "    <tr>\n",
       "      <th>INDIA_COMM_1</th>\n",
       "      <td>$         0</td>\n",
       "      <td>$244,641,611</td>\n",
       "      <td>$11,489,335</td>\n",
       "      <td>$         0</td>\n",
       "      <td>$    45,326</td>\n",
       "      <td>$256,176,273</td>\n",
       "    </tr>\n",
       "    <tr>\n",
       "      <th>INDIA_ENTERPRISE_1</th>\n",
       "      <td>$         0</td>\n",
       "      <td>$49,088,386</td>\n",
       "      <td>$325,584,805</td>\n",
       "      <td>$         0</td>\n",
       "      <td>$         0</td>\n",
       "      <td>$374,673,191</td>\n",
       "    </tr>\n",
       "    <tr>\n",
       "      <th>INDIA_GROWTH_VERTICA</th>\n",
       "      <td>$         0</td>\n",
       "      <td>$         0</td>\n",
       "      <td>$         0</td>\n",
       "      <td>$13,132,066</td>\n",
       "      <td>$         0</td>\n",
       "      <td>$13,132,066</td>\n",
       "    </tr>\n",
       "    <tr>\n",
       "      <th>INDIA_MISC</th>\n",
       "      <td>$         0</td>\n",
       "      <td>$         0</td>\n",
       "      <td>$         0</td>\n",
       "      <td>$         0</td>\n",
       "      <td>$-30,937,262</td>\n",
       "      <td>$-30,937,262</td>\n",
       "    </tr>\n",
       "    <tr>\n",
       "      <th>All</th>\n",
       "      <td>$   -61,071</td>\n",
       "      <td>$295,478,243</td>\n",
       "      <td>$337,074,140</td>\n",
       "      <td>$13,132,066</td>\n",
       "      <td>$-30,891,935</td>\n",
       "      <td>$614,731,443</td>\n",
       "    </tr>\n",
       "  </tbody>\n",
       "</table>\n",
       "</div>"
      ],
      "text/plain": [
       "sales_level_3          INDIA_AREA-MISCL3  INDIA_COMM_1  INDIA_ENTERPRISE_1  \\\n",
       "gaining_sales_level_3                                                        \n",
       "GSP                          $         0   $ 1,748,245         $         0   \n",
       "INDIA_AREA-MISCL3            $   -61,071   $         0         $         0   \n",
       "INDIA_COMM_1                 $         0  $244,641,611         $11,489,335   \n",
       "INDIA_ENTERPRISE_1           $         0   $49,088,386        $325,584,805   \n",
       "INDIA_GROWTH_VERTICA         $         0   $         0         $         0   \n",
       "INDIA_MISC                   $         0   $         0         $         0   \n",
       "All                          $   -61,071  $295,478,243        $337,074,140   \n",
       "\n",
       "sales_level_3          INDIA_GROWTH_VERTICA   INDIA_MISC          All  \n",
       "gaining_sales_level_3                                                  \n",
       "GSP                             $         0  $         0  $ 1,748,245  \n",
       "INDIA_AREA-MISCL3               $         0  $         0  $   -61,071  \n",
       "INDIA_COMM_1                    $         0  $    45,326 $256,176,273  \n",
       "INDIA_ENTERPRISE_1              $         0  $         0 $374,673,191  \n",
       "INDIA_GROWTH_VERTICA            $13,132,066  $         0  $13,132,066  \n",
       "INDIA_MISC                      $         0 $-30,937,262 $-30,937,262  \n",
       "All                             $13,132,066 $-30,891,935 $614,731,443  "
      ]
     },
     "execution_count": 41,
     "metadata": {},
     "output_type": "execute_result"
    }
   ],
   "source": [
    "df_all_no_cloud.pivot_table(values='booking_net', index=['gaining_sales_level_3'], columns='sales_level_3', aggfunc=sum, margins=True, fill_value=0)"
   ]
  },
  {
   "cell_type": "code",
   "execution_count": 42,
   "metadata": {
    "collapsed": true
   },
   "outputs": [],
   "source": [
    "df_prod_no_cloud = df_all_no_cloud[df_all_no_cloud.services_indicator == 'N']"
   ]
  },
  {
   "cell_type": "code",
   "execution_count": 44,
   "metadata": {
    "collapsed": false
   },
   "outputs": [
    {
     "data": {
      "text/html": [
       "<div>\n",
       "<table border=\"1\" class=\"dataframe\">\n",
       "  <thead>\n",
       "    <tr style=\"text-align: right;\">\n",
       "      <th>sales_level_3</th>\n",
       "      <th>INDIA_COMM_1</th>\n",
       "      <th>All</th>\n",
       "    </tr>\n",
       "    <tr>\n",
       "      <th>gaining_sales_level_3</th>\n",
       "      <th></th>\n",
       "      <th></th>\n",
       "    </tr>\n",
       "  </thead>\n",
       "  <tbody>\n",
       "    <tr>\n",
       "      <th>GSP</th>\n",
       "      <td>$   805,473</td>\n",
       "      <td>$   805,473</td>\n",
       "    </tr>\n",
       "    <tr>\n",
       "      <th>INDIA_COMM_1</th>\n",
       "      <td>$195,217,615</td>\n",
       "      <td>$195,217,615</td>\n",
       "    </tr>\n",
       "    <tr>\n",
       "      <th>INDIA_ENTERPRISE_1</th>\n",
       "      <td>$41,480,157</td>\n",
       "      <td>$41,480,157</td>\n",
       "    </tr>\n",
       "    <tr>\n",
       "      <th>All</th>\n",
       "      <td>$237,503,245</td>\n",
       "      <td>$237,503,245</td>\n",
       "    </tr>\n",
       "  </tbody>\n",
       "</table>\n",
       "</div>"
      ],
      "text/plain": [
       "sales_level_3          INDIA_COMM_1          All\n",
       "gaining_sales_level_3                           \n",
       "GSP                     $   805,473  $   805,473\n",
       "INDIA_COMM_1           $195,217,615 $195,217,615\n",
       "INDIA_ENTERPRISE_1      $41,480,157  $41,480,157\n",
       "All                    $237,503,245 $237,503,245"
      ]
     },
     "execution_count": 44,
     "metadata": {},
     "output_type": "execute_result"
    }
   ],
   "source": [
    "df_com_prod_no_cloud = df_com_no_cloud[df_com_no_cloud.services_indicator == 'N']\n",
    "df_com_prod_no_cloud.pivot_table(values='booking_net', index=['gaining_sales_level_3'], columns='sales_level_3', aggfunc=sum, margins=True, fill_value=0)"
   ]
  },
  {
   "cell_type": "code",
   "execution_count": 43,
   "metadata": {
    "collapsed": false
   },
   "outputs": [
    {
     "data": {
      "text/html": [
       "<div>\n",
       "<table border=\"1\" class=\"dataframe\">\n",
       "  <thead>\n",
       "    <tr style=\"text-align: right;\">\n",
       "      <th>sales_level_3</th>\n",
       "      <th>INDIA_AREA-MISCL3</th>\n",
       "      <th>INDIA_COMM_1</th>\n",
       "      <th>INDIA_ENTERPRISE_1</th>\n",
       "      <th>INDIA_GROWTH_VERTICA</th>\n",
       "      <th>INDIA_MISC</th>\n",
       "      <th>All</th>\n",
       "    </tr>\n",
       "    <tr>\n",
       "      <th>gaining_sales_level_3</th>\n",
       "      <th></th>\n",
       "      <th></th>\n",
       "      <th></th>\n",
       "      <th></th>\n",
       "      <th></th>\n",
       "      <th></th>\n",
       "    </tr>\n",
       "  </thead>\n",
       "  <tbody>\n",
       "    <tr>\n",
       "      <th>GSP</th>\n",
       "      <td>$         0</td>\n",
       "      <td>$   805,473</td>\n",
       "      <td>$         0</td>\n",
       "      <td>$         0</td>\n",
       "      <td>$         0</td>\n",
       "      <td>$   805,473</td>\n",
       "    </tr>\n",
       "    <tr>\n",
       "      <th>INDIA_AREA-MISCL3</th>\n",
       "      <td>$  -180,499</td>\n",
       "      <td>$         0</td>\n",
       "      <td>$         0</td>\n",
       "      <td>$         0</td>\n",
       "      <td>$         0</td>\n",
       "      <td>$  -180,499</td>\n",
       "    </tr>\n",
       "    <tr>\n",
       "      <th>INDIA_COMM_1</th>\n",
       "      <td>$         0</td>\n",
       "      <td>$195,217,615</td>\n",
       "      <td>$ 8,326,259</td>\n",
       "      <td>$         0</td>\n",
       "      <td>$   -20,238</td>\n",
       "      <td>$203,523,636</td>\n",
       "    </tr>\n",
       "    <tr>\n",
       "      <th>INDIA_ENTERPRISE_1</th>\n",
       "      <td>$         0</td>\n",
       "      <td>$41,480,157</td>\n",
       "      <td>$245,585,242</td>\n",
       "      <td>$         0</td>\n",
       "      <td>$         0</td>\n",
       "      <td>$287,065,399</td>\n",
       "    </tr>\n",
       "    <tr>\n",
       "      <th>INDIA_GROWTH_VERTICA</th>\n",
       "      <td>$         0</td>\n",
       "      <td>$         0</td>\n",
       "      <td>$         0</td>\n",
       "      <td>$12,877,924</td>\n",
       "      <td>$         0</td>\n",
       "      <td>$12,877,924</td>\n",
       "    </tr>\n",
       "    <tr>\n",
       "      <th>INDIA_MISC</th>\n",
       "      <td>$         0</td>\n",
       "      <td>$         0</td>\n",
       "      <td>$         0</td>\n",
       "      <td>$         0</td>\n",
       "      <td>$-22,998,704</td>\n",
       "      <td>$-22,998,704</td>\n",
       "    </tr>\n",
       "    <tr>\n",
       "      <th>All</th>\n",
       "      <td>$  -180,499</td>\n",
       "      <td>$237,503,245</td>\n",
       "      <td>$253,911,501</td>\n",
       "      <td>$12,877,924</td>\n",
       "      <td>$-23,018,942</td>\n",
       "      <td>$481,093,228</td>\n",
       "    </tr>\n",
       "  </tbody>\n",
       "</table>\n",
       "</div>"
      ],
      "text/plain": [
       "sales_level_3          INDIA_AREA-MISCL3  INDIA_COMM_1  INDIA_ENTERPRISE_1  \\\n",
       "gaining_sales_level_3                                                        \n",
       "GSP                          $         0   $   805,473         $         0   \n",
       "INDIA_AREA-MISCL3            $  -180,499   $         0         $         0   \n",
       "INDIA_COMM_1                 $         0  $195,217,615         $ 8,326,259   \n",
       "INDIA_ENTERPRISE_1           $         0   $41,480,157        $245,585,242   \n",
       "INDIA_GROWTH_VERTICA         $         0   $         0         $         0   \n",
       "INDIA_MISC                   $         0   $         0         $         0   \n",
       "All                          $  -180,499  $237,503,245        $253,911,501   \n",
       "\n",
       "sales_level_3          INDIA_GROWTH_VERTICA   INDIA_MISC          All  \n",
       "gaining_sales_level_3                                                  \n",
       "GSP                             $         0  $         0  $   805,473  \n",
       "INDIA_AREA-MISCL3               $         0  $         0  $  -180,499  \n",
       "INDIA_COMM_1                    $         0  $   -20,238 $203,523,636  \n",
       "INDIA_ENTERPRISE_1              $         0  $         0 $287,065,399  \n",
       "INDIA_GROWTH_VERTICA            $12,877,924  $         0  $12,877,924  \n",
       "INDIA_MISC                      $         0 $-22,998,704 $-22,998,704  \n",
       "All                             $12,877,924 $-23,018,942 $481,093,228  "
      ]
     },
     "execution_count": 43,
     "metadata": {},
     "output_type": "execute_result"
    }
   ],
   "source": [
    "df_prod_no_cloud.pivot_table(values='booking_net', index=['gaining_sales_level_3'], columns='sales_level_3', aggfunc=sum, margins=True, fill_value=0)"
   ]
  },
  {
   "cell_type": "code",
   "execution_count": 45,
   "metadata": {
    "collapsed": false
   },
   "outputs": [],
   "source": [
    "df_com_funnel = pd.read_excel('../com_funnel_mapped.xlsx')\n",
    "df_ent_funnel = pd.read_excel('../ent_funnel_mapped.xlsx')"
   ]
  },
  {
   "cell_type": "code",
   "execution_count": 46,
   "metadata": {
    "collapsed": false
   },
   "outputs": [
    {
     "data": {
      "text/plain": [
       "Index([u'sales coverage code', u'level 01 territory', u'level 02 territory',\n",
       "       u'level 03 territory', u'level 04 territory', u'level 05 territory',\n",
       "       u'level 06 territory', u'opportunity owner', u'opportunity owner alias',\n",
       "       u'forecasting position', u'customer_name', u'account name (english)',\n",
       "       u'primary partner', u'expected product ($000s) (converted) currency',\n",
       "       u'expected product ($000s) (converted)',\n",
       "       u'opportunity line value ($000s) (converted) currency',\n",
       "       u'opportunity line value ($000s) (converted)',\n",
       "       u'expected product discount%', u'deal id', u'sales path',\n",
       "       u'technology & service name', u'mix %', u'opportunity status',\n",
       "       u'forecast status', u'stage', u'opportunity name',\n",
       "       u'expected book date', u'created date', u'fiscal period',\n",
       "       u'fiscal month', u'fiscal week of month', u'fiscal week',\n",
       "       u'fiscal month of qtr', u'deals desk status',\n",
       "       u'opportunity owner email', u'opportunity id', u'product family',\n",
       "       u'close probability %', u'waves', u'competitors', u'cloud deal?',\n",
       "       u'is cisco capital engaged?', u'unique oppid', u'range', u'arch map',\n",
       "       u'account name.', u'sub be', u'fiscal week of qtr', u'account_id',\n",
       "       u'dl_date', u'unique_name', u'mapable', u'mapped_name',\n",
       "       u'gaining_sub_scms', u'remarks', u'where_to', u'gaining_sales_level_2',\n",
       "       u'gaining_sales_level_3', u'gaining_sales_level_4',\n",
       "       u'gaining_sales_level_5', u'gaining_sales_level_6',\n",
       "       u'gaining_new_sales_level_2', u'gaining_new_sales_level_3',\n",
       "       u'gaining_new_sales_level_4', u'gaining_new_sales_level_5',\n",
       "       u'gaining_new_sales_level_6'],\n",
       "      dtype='object')"
      ]
     },
     "execution_count": 46,
     "metadata": {},
     "output_type": "execute_result"
    }
   ],
   "source": [
    "df_com_funnel.columns"
   ]
  },
  {
   "cell_type": "code",
   "execution_count": 49,
   "metadata": {
    "collapsed": false
   },
   "outputs": [
    {
     "data": {
      "text/html": [
       "<div>\n",
       "<table border=\"1\" class=\"dataframe\">\n",
       "  <thead>\n",
       "    <tr style=\"text-align: right;\">\n",
       "      <th>forecast status</th>\n",
       "      <th>Commit</th>\n",
       "      <th>Not Forecastable</th>\n",
       "      <th>Upside</th>\n",
       "      <th>All</th>\n",
       "    </tr>\n",
       "    <tr>\n",
       "      <th>level 03 territory</th>\n",
       "      <th></th>\n",
       "      <th></th>\n",
       "      <th></th>\n",
       "      <th></th>\n",
       "    </tr>\n",
       "  </thead>\n",
       "  <tbody>\n",
       "    <tr>\n",
       "      <th>INDIA_COMM_1</th>\n",
       "      <td>$    68,519</td>\n",
       "      <td>$    22,252</td>\n",
       "      <td>$   185,803</td>\n",
       "      <td>$   276,574</td>\n",
       "    </tr>\n",
       "    <tr>\n",
       "      <th>INDIA_ENTERPRISE_1</th>\n",
       "      <td>$   106,000</td>\n",
       "      <td>$   443,771</td>\n",
       "      <td>$   412,052</td>\n",
       "      <td>$   961,823</td>\n",
       "    </tr>\n",
       "    <tr>\n",
       "      <th>INDIA_GROWTH_VERTICAL</th>\n",
       "      <td>$     2,500</td>\n",
       "      <td>$    30,002</td>\n",
       "      <td>$    11,163</td>\n",
       "      <td>$    43,665</td>\n",
       "    </tr>\n",
       "    <tr>\n",
       "      <th>All</th>\n",
       "      <td>$   177,019</td>\n",
       "      <td>$   496,025</td>\n",
       "      <td>$   609,018</td>\n",
       "      <td>$ 1,282,062</td>\n",
       "    </tr>\n",
       "  </tbody>\n",
       "</table>\n",
       "</div>"
      ],
      "text/plain": [
       "forecast status            Commit  Not Forecastable      Upside         All\n",
       "level 03 territory                                                         \n",
       "INDIA_COMM_1          $    68,519       $    22,252 $   185,803 $   276,574\n",
       "INDIA_ENTERPRISE_1    $   106,000       $   443,771 $   412,052 $   961,823\n",
       "INDIA_GROWTH_VERTICAL $     2,500       $    30,002 $    11,163 $    43,665\n",
       "All                   $   177,019       $   496,025 $   609,018 $ 1,282,062"
      ]
     },
     "execution_count": 49,
     "metadata": {},
     "output_type": "execute_result"
    }
   ],
   "source": [
    "df_com_funnel.pivot_table(values='opportunity line value ($000s) (converted)', index='level 03 territory', columns='forecast status', aggfunc=sum, margins=True, fill_value=0)"
   ]
  },
  {
   "cell_type": "code",
   "execution_count": 174,
   "metadata": {
    "collapsed": true
   },
   "outputs": [],
   "source": [
    "df_com_funnel = df_com_funnel[df_com_funnel['level 03 territory'] == 'INDIA_COMM_1']\n",
    "df_ent_funnel = df_ent_funnel[-(df_ent_funnel['level 03 territory'] == 'INDIA_COMM_1')]"
   ]
  },
  {
   "cell_type": "code",
   "execution_count": 173,
   "metadata": {
    "collapsed": false
   },
   "outputs": [
    {
     "data": {
      "text/html": [
       "<div>\n",
       "<table border=\"1\" class=\"dataframe\">\n",
       "  <thead>\n",
       "    <tr style=\"text-align: right;\">\n",
       "      <th>forecast status</th>\n",
       "      <th>Commit</th>\n",
       "      <th>Not Forecastable</th>\n",
       "      <th>Upside</th>\n",
       "      <th>All</th>\n",
       "    </tr>\n",
       "    <tr>\n",
       "      <th>level 03 territory</th>\n",
       "      <th></th>\n",
       "      <th></th>\n",
       "      <th></th>\n",
       "      <th></th>\n",
       "    </tr>\n",
       "  </thead>\n",
       "  <tbody>\n",
       "    <tr>\n",
       "      <th>INDIA_COMM_1</th>\n",
       "      <td>$   126,756</td>\n",
       "      <td>$    43,368</td>\n",
       "      <td>$   376,833</td>\n",
       "      <td>$   546,957</td>\n",
       "    </tr>\n",
       "    <tr>\n",
       "      <th>All</th>\n",
       "      <td>$   126,756</td>\n",
       "      <td>$    43,368</td>\n",
       "      <td>$   376,833</td>\n",
       "      <td>$   546,957</td>\n",
       "    </tr>\n",
       "  </tbody>\n",
       "</table>\n",
       "</div>"
      ],
      "text/plain": [
       "forecast status         Commit  Not Forecastable      Upside         All\n",
       "level 03 territory                                                      \n",
       "INDIA_COMM_1       $   126,756       $    43,368 $   376,833 $   546,957\n",
       "All                $   126,756       $    43,368 $   376,833 $   546,957"
      ]
     },
     "execution_count": 173,
     "metadata": {},
     "output_type": "execute_result"
    }
   ],
   "source": [
    "df_com_funnel.pivot_table(values='expected product ($000s) (converted)', index='level 03 territory', columns='forecast status', aggfunc=sum, margins=True, fill_value=0)"
   ]
  },
  {
   "cell_type": "code",
   "execution_count": 175,
   "metadata": {
    "collapsed": true
   },
   "outputs": [],
   "source": [
    "df_funnel = pd.concat([df_com_funnel, df_ent_funnel])"
   ]
  },
  {
   "cell_type": "code",
   "execution_count": 197,
   "metadata": {
    "collapsed": false
   },
   "outputs": [
    {
     "data": {
      "text/html": [
       "<div>\n",
       "<table border=\"1\" class=\"dataframe\">\n",
       "  <thead>\n",
       "    <tr>\n",
       "      <th>forecast status</th>\n",
       "      <th colspan=\"5\" halign=\"left\">Commit</th>\n",
       "      <th colspan=\"5\" halign=\"left\">Not Forecastable</th>\n",
       "      <th colspan=\"5\" halign=\"left\">Upside</th>\n",
       "      <th>All</th>\n",
       "    </tr>\n",
       "    <tr>\n",
       "      <th>fiscal period</th>\n",
       "      <th>Q1-2017</th>\n",
       "      <th>Q2-2017</th>\n",
       "      <th>Q3-2017</th>\n",
       "      <th>Q4-2016</th>\n",
       "      <th>Q4-2017</th>\n",
       "      <th>Q1-2017</th>\n",
       "      <th>Q2-2017</th>\n",
       "      <th>Q3-2017</th>\n",
       "      <th>Q4-2016</th>\n",
       "      <th>Q4-2017</th>\n",
       "      <th>Q1-2017</th>\n",
       "      <th>Q2-2017</th>\n",
       "      <th>Q3-2017</th>\n",
       "      <th>Q4-2016</th>\n",
       "      <th>Q4-2017</th>\n",
       "      <th></th>\n",
       "    </tr>\n",
       "    <tr>\n",
       "      <th>gaining_sales_level_3</th>\n",
       "      <th></th>\n",
       "      <th></th>\n",
       "      <th></th>\n",
       "      <th></th>\n",
       "      <th></th>\n",
       "      <th></th>\n",
       "      <th></th>\n",
       "      <th></th>\n",
       "      <th></th>\n",
       "      <th></th>\n",
       "      <th></th>\n",
       "      <th></th>\n",
       "      <th></th>\n",
       "      <th></th>\n",
       "      <th></th>\n",
       "      <th></th>\n",
       "    </tr>\n",
       "  </thead>\n",
       "  <tbody>\n",
       "    <tr>\n",
       "      <th>GET</th>\n",
       "      <td>$         0</td>\n",
       "      <td>$         0</td>\n",
       "      <td>$         0</td>\n",
       "      <td>$         0</td>\n",
       "      <td>$         0</td>\n",
       "      <td>$         0</td>\n",
       "      <td>$         0</td>\n",
       "      <td>$         0</td>\n",
       "      <td>$        10</td>\n",
       "      <td>$         0</td>\n",
       "      <td>$         0</td>\n",
       "      <td>$         0</td>\n",
       "      <td>$         0</td>\n",
       "      <td>$         0</td>\n",
       "      <td>$         0</td>\n",
       "      <td>$        10</td>\n",
       "    </tr>\n",
       "    <tr>\n",
       "      <th>GSP</th>\n",
       "      <td>$       537</td>\n",
       "      <td>$       482</td>\n",
       "      <td>$       220</td>\n",
       "      <td>$        25</td>\n",
       "      <td>$        60</td>\n",
       "      <td>$       200</td>\n",
       "      <td>$         0</td>\n",
       "      <td>$       100</td>\n",
       "      <td>$        20</td>\n",
       "      <td>$         0</td>\n",
       "      <td>$       246</td>\n",
       "      <td>$     1,697</td>\n",
       "      <td>$         0</td>\n",
       "      <td>$       186</td>\n",
       "      <td>$         0</td>\n",
       "      <td>$     3,773</td>\n",
       "    </tr>\n",
       "    <tr>\n",
       "      <th>INDIA_COMM_1</th>\n",
       "      <td>$    23,799</td>\n",
       "      <td>$    23,449</td>\n",
       "      <td>$     3,626</td>\n",
       "      <td>$    56,317</td>\n",
       "      <td>$     7,639</td>\n",
       "      <td>$     5,639</td>\n",
       "      <td>$     4,228</td>\n",
       "      <td>$    10,735</td>\n",
       "      <td>$    15,943</td>\n",
       "      <td>$     5,046</td>\n",
       "      <td>$   122,534</td>\n",
       "      <td>$   122,553</td>\n",
       "      <td>$     6,077</td>\n",
       "      <td>$    67,707</td>\n",
       "      <td>$     5,204</td>\n",
       "      <td>$   480,496</td>\n",
       "    </tr>\n",
       "    <tr>\n",
       "      <th>INDIA_ENTERPRISE_1</th>\n",
       "      <td>$    45,426</td>\n",
       "      <td>$    33,629</td>\n",
       "      <td>$    16,254</td>\n",
       "      <td>$    82,546</td>\n",
       "      <td>$    26,947</td>\n",
       "      <td>$    61,916</td>\n",
       "      <td>$   158,731</td>\n",
       "      <td>$    51,402</td>\n",
       "      <td>$    18,504</td>\n",
       "      <td>$   995,135</td>\n",
       "      <td>$   382,696</td>\n",
       "      <td>$   133,885</td>\n",
       "      <td>$    59,242</td>\n",
       "      <td>$   115,405</td>\n",
       "      <td>$   633,455</td>\n",
       "      <td>$ 2,815,173</td>\n",
       "    </tr>\n",
       "    <tr>\n",
       "      <th>INDIA_GROWTH_VERTICAL</th>\n",
       "      <td>$         0</td>\n",
       "      <td>$         0</td>\n",
       "      <td>$         0</td>\n",
       "      <td>$     5,875</td>\n",
       "      <td>$         0</td>\n",
       "      <td>$       100</td>\n",
       "      <td>$    60,000</td>\n",
       "      <td>$         2</td>\n",
       "      <td>$         0</td>\n",
       "      <td>$         0</td>\n",
       "      <td>$         3</td>\n",
       "      <td>$     2,000</td>\n",
       "      <td>$         0</td>\n",
       "      <td>$    10,450</td>\n",
       "      <td>$         0</td>\n",
       "      <td>$    78,430</td>\n",
       "    </tr>\n",
       "    <tr>\n",
       "      <th>All</th>\n",
       "      <td>$    69,762</td>\n",
       "      <td>$    57,560</td>\n",
       "      <td>$    20,100</td>\n",
       "      <td>$   144,763</td>\n",
       "      <td>$    34,646</td>\n",
       "      <td>$    67,855</td>\n",
       "      <td>$   222,959</td>\n",
       "      <td>$    62,239</td>\n",
       "      <td>$    34,477</td>\n",
       "      <td>$ 1,000,181</td>\n",
       "      <td>$   505,479</td>\n",
       "      <td>$   260,135</td>\n",
       "      <td>$    65,319</td>\n",
       "      <td>$   193,748</td>\n",
       "      <td>$   638,659</td>\n",
       "      <td>$ 3,377,882</td>\n",
       "    </tr>\n",
       "  </tbody>\n",
       "</table>\n",
       "</div>"
      ],
      "text/plain": [
       "forecast status            Commit                                      \\\n",
       "fiscal period             Q1-2017     Q2-2017     Q3-2017     Q4-2016   \n",
       "gaining_sales_level_3                                                   \n",
       "GET                   $         0 $         0 $         0 $         0   \n",
       "GSP                   $       537 $       482 $       220 $        25   \n",
       "INDIA_COMM_1          $    23,799 $    23,449 $     3,626 $    56,317   \n",
       "INDIA_ENTERPRISE_1    $    45,426 $    33,629 $    16,254 $    82,546   \n",
       "INDIA_GROWTH_VERTICAL $         0 $         0 $         0 $     5,875   \n",
       "All                   $    69,762 $    57,560 $    20,100 $   144,763   \n",
       "\n",
       "forecast status                   Not Forecastable                          \\\n",
       "fiscal period             Q4-2017          Q1-2017     Q2-2017     Q3-2017   \n",
       "gaining_sales_level_3                                                        \n",
       "GET                   $         0      $         0 $         0 $         0   \n",
       "GSP                   $        60      $       200 $         0 $       100   \n",
       "INDIA_COMM_1          $     7,639      $     5,639 $     4,228 $    10,735   \n",
       "INDIA_ENTERPRISE_1    $    26,947      $    61,916 $   158,731 $    51,402   \n",
       "INDIA_GROWTH_VERTICAL $         0      $       100 $    60,000 $         2   \n",
       "All                   $    34,646      $    67,855 $   222,959 $    62,239   \n",
       "\n",
       "forecast status                                    Upside              \\\n",
       "fiscal period             Q4-2016     Q4-2017     Q1-2017     Q2-2017   \n",
       "gaining_sales_level_3                                                   \n",
       "GET                   $        10 $         0 $         0 $         0   \n",
       "GSP                   $        20 $         0 $       246 $     1,697   \n",
       "INDIA_COMM_1          $    15,943 $     5,046 $   122,534 $   122,553   \n",
       "INDIA_ENTERPRISE_1    $    18,504 $   995,135 $   382,696 $   133,885   \n",
       "INDIA_GROWTH_VERTICAL $         0 $         0 $         3 $     2,000   \n",
       "All                   $    34,477 $ 1,000,181 $   505,479 $   260,135   \n",
       "\n",
       "forecast status                                                   All  \n",
       "fiscal period             Q3-2017     Q4-2016     Q4-2017              \n",
       "gaining_sales_level_3                                                  \n",
       "GET                   $         0 $         0 $         0 $        10  \n",
       "GSP                   $         0 $       186 $         0 $     3,773  \n",
       "INDIA_COMM_1          $     6,077 $    67,707 $     5,204 $   480,496  \n",
       "INDIA_ENTERPRISE_1    $    59,242 $   115,405 $   633,455 $ 2,815,173  \n",
       "INDIA_GROWTH_VERTICAL $         0 $    10,450 $         0 $    78,430  \n",
       "All                   $    65,319 $   193,748 $   638,659 $ 3,377,882  "
      ]
     },
     "execution_count": 197,
     "metadata": {},
     "output_type": "execute_result"
    }
   ],
   "source": [
    "#df_funnel.columns\n",
    "df_funnel.pivot_table(values='expected product ($000s) (converted)', index='gaining_sales_level_3', columns=['forecast status','fiscal period'], aggfunc=sum, margins=True, fill_value=0)"
   ]
  },
  {
   "cell_type": "code",
   "execution_count": 178,
   "metadata": {
    "collapsed": true
   },
   "outputs": [],
   "source": [
    "def create_new_com_cols(df):\n",
    "    #df.gaining_sales_level_2.fillna(df.new_sales_level_2, inplace=True)\n",
    "    df.gaining_sales_level_3.fillna(df['level 03 territory'], inplace=True)\n",
    "    df.gaining_sales_level_4.fillna(df['level 04 territory'], inplace=True)\n",
    "    df.gaining_sales_level_5.fillna(df['level 05 territory'], inplace=True)\n",
    "    df.gaining_sales_level_6.fillna(df['level 06 territory'], inplace=True)\n",
    "    return df\n",
    "\n",
    "df_funnel = create_new_com_cols(df_funnel)"
   ]
  },
  {
   "cell_type": "code",
   "execution_count": 230,
   "metadata": {
    "collapsed": false
   },
   "outputs": [
    {
     "data": {
      "text/html": [
       "<div>\n",
       "<table border=\"1\" class=\"dataframe\">\n",
       "  <thead>\n",
       "    <tr style=\"text-align: right;\">\n",
       "      <th>fiscal period</th>\n",
       "      <th>Q1-2017</th>\n",
       "      <th>Q2-2017</th>\n",
       "      <th>Q3-2017</th>\n",
       "      <th>Q4-2016</th>\n",
       "      <th>Q4-2017</th>\n",
       "      <th>All</th>\n",
       "    </tr>\n",
       "    <tr>\n",
       "      <th>gaining_sales_level_4</th>\n",
       "      <th></th>\n",
       "      <th></th>\n",
       "      <th></th>\n",
       "      <th></th>\n",
       "      <th></th>\n",
       "      <th></th>\n",
       "    </tr>\n",
       "  </thead>\n",
       "  <tbody>\n",
       "    <tr>\n",
       "      <th>GET</th>\n",
       "      <td>$         0</td>\n",
       "      <td>$         0</td>\n",
       "      <td>$         0</td>\n",
       "      <td>$        10</td>\n",
       "      <td>$         0</td>\n",
       "      <td>$        10</td>\n",
       "    </tr>\n",
       "    <tr>\n",
       "      <th>GSP</th>\n",
       "      <td>$       983</td>\n",
       "      <td>$     2,179</td>\n",
       "      <td>$       320</td>\n",
       "      <td>$       231</td>\n",
       "      <td>$        60</td>\n",
       "      <td>$     3,773</td>\n",
       "    </tr>\n",
       "    <tr>\n",
       "      <th>INDIA_COMM_EU1_SOUTH</th>\n",
       "      <td>$    30,053</td>\n",
       "      <td>$    17,995</td>\n",
       "      <td>$     3,900</td>\n",
       "      <td>$    34,809</td>\n",
       "      <td>$     2,212</td>\n",
       "      <td>$    88,969</td>\n",
       "    </tr>\n",
       "    <tr>\n",
       "      <th>INDIA_COMM_EU2_WEST</th>\n",
       "      <td>$    14,338</td>\n",
       "      <td>$     4,383</td>\n",
       "      <td>$     3,870</td>\n",
       "      <td>$    48,049</td>\n",
       "      <td>$     3,722</td>\n",
       "      <td>$    74,362</td>\n",
       "    </tr>\n",
       "    <tr>\n",
       "      <th>INDIA_COMM_EU3_NE_SAARC</th>\n",
       "      <td>$   107,581</td>\n",
       "      <td>$   127,852</td>\n",
       "      <td>$    12,668</td>\n",
       "      <td>$    57,109</td>\n",
       "      <td>$    11,955</td>\n",
       "      <td>$   317,165</td>\n",
       "    </tr>\n",
       "    <tr>\n",
       "      <th>INDIA_ENT_FSI</th>\n",
       "      <td>$     3,744</td>\n",
       "      <td>$     7,875</td>\n",
       "      <td>$       115</td>\n",
       "      <td>$     4,629</td>\n",
       "      <td>$         0</td>\n",
       "      <td>$    16,363</td>\n",
       "    </tr>\n",
       "    <tr>\n",
       "      <th>INDIA_ENT_FSI_MFG_ECOMM</th>\n",
       "      <td>$    20,491</td>\n",
       "      <td>$    21,051</td>\n",
       "      <td>$     1,012</td>\n",
       "      <td>$    34,362</td>\n",
       "      <td>$    42,583</td>\n",
       "      <td>$   119,499</td>\n",
       "    </tr>\n",
       "    <tr>\n",
       "      <th>INDIA_ENT_GI</th>\n",
       "      <td>$    24,582</td>\n",
       "      <td>$     2,579</td>\n",
       "      <td>$       199</td>\n",
       "      <td>$    17,610</td>\n",
       "      <td>$     2,982</td>\n",
       "      <td>$    47,952</td>\n",
       "    </tr>\n",
       "    <tr>\n",
       "      <th>INDIA_ENT_ITS _INDST</th>\n",
       "      <td>$     3,766</td>\n",
       "      <td>$     5,960</td>\n",
       "      <td>$    19,356</td>\n",
       "      <td>$    12,507</td>\n",
       "      <td>$       725</td>\n",
       "      <td>$    42,314</td>\n",
       "    </tr>\n",
       "    <tr>\n",
       "      <th>INDIA_GROWTH_TELECOM</th>\n",
       "      <td>$       103</td>\n",
       "      <td>$    62,000</td>\n",
       "      <td>$         2</td>\n",
       "      <td>$    16,325</td>\n",
       "      <td>$         0</td>\n",
       "      <td>$    78,430</td>\n",
       "    </tr>\n",
       "    <tr>\n",
       "      <th>INDIA_ITS_ACCTS</th>\n",
       "      <td>$    71,061</td>\n",
       "      <td>$    48,743</td>\n",
       "      <td>$    18,208</td>\n",
       "      <td>$    16,225</td>\n",
       "      <td>$     9,437</td>\n",
       "      <td>$   163,674</td>\n",
       "    </tr>\n",
       "    <tr>\n",
       "      <th>INDIA_ITS_STRATEGIC</th>\n",
       "      <td>$     1,089</td>\n",
       "      <td>$     1,401</td>\n",
       "      <td>$       122</td>\n",
       "      <td>$    12,313</td>\n",
       "      <td>$        20</td>\n",
       "      <td>$    14,945</td>\n",
       "    </tr>\n",
       "    <tr>\n",
       "      <th>INDIA_ITS_TA_ACCTS</th>\n",
       "      <td>$     5,227</td>\n",
       "      <td>$    10,751</td>\n",
       "      <td>$        12</td>\n",
       "      <td>$    19,209</td>\n",
       "      <td>$    56,500</td>\n",
       "      <td>$    91,699</td>\n",
       "    </tr>\n",
       "    <tr>\n",
       "      <th>INDIA_PS</th>\n",
       "      <td>$   360,078</td>\n",
       "      <td>$   227,885</td>\n",
       "      <td>$    87,874</td>\n",
       "      <td>$    99,600</td>\n",
       "      <td>$ 1,543,290</td>\n",
       "      <td>$ 2,318,727</td>\n",
       "    </tr>\n",
       "    <tr>\n",
       "      <th>All</th>\n",
       "      <td>$   643,096</td>\n",
       "      <td>$   540,654</td>\n",
       "      <td>$   147,658</td>\n",
       "      <td>$   372,988</td>\n",
       "      <td>$ 1,673,486</td>\n",
       "      <td>$ 3,377,882</td>\n",
       "    </tr>\n",
       "  </tbody>\n",
       "</table>\n",
       "</div>"
      ],
      "text/plain": [
       "fiscal period               Q1-2017     Q2-2017     Q3-2017     Q4-2016  \\\n",
       "gaining_sales_level_4                                                     \n",
       "GET                     $         0 $         0 $         0 $        10   \n",
       "GSP                     $       983 $     2,179 $       320 $       231   \n",
       "INDIA_COMM_EU1_SOUTH    $    30,053 $    17,995 $     3,900 $    34,809   \n",
       "INDIA_COMM_EU2_WEST     $    14,338 $     4,383 $     3,870 $    48,049   \n",
       "INDIA_COMM_EU3_NE_SAARC $   107,581 $   127,852 $    12,668 $    57,109   \n",
       "INDIA_ENT_FSI           $     3,744 $     7,875 $       115 $     4,629   \n",
       "INDIA_ENT_FSI_MFG_ECOMM $    20,491 $    21,051 $     1,012 $    34,362   \n",
       "INDIA_ENT_GI            $    24,582 $     2,579 $       199 $    17,610   \n",
       "INDIA_ENT_ITS _INDST    $     3,766 $     5,960 $    19,356 $    12,507   \n",
       "INDIA_GROWTH_TELECOM    $       103 $    62,000 $         2 $    16,325   \n",
       "INDIA_ITS_ACCTS         $    71,061 $    48,743 $    18,208 $    16,225   \n",
       "INDIA_ITS_STRATEGIC     $     1,089 $     1,401 $       122 $    12,313   \n",
       "INDIA_ITS_TA_ACCTS      $     5,227 $    10,751 $        12 $    19,209   \n",
       "INDIA_PS                $   360,078 $   227,885 $    87,874 $    99,600   \n",
       "All                     $   643,096 $   540,654 $   147,658 $   372,988   \n",
       "\n",
       "fiscal period               Q4-2017         All  \n",
       "gaining_sales_level_4                            \n",
       "GET                     $         0 $        10  \n",
       "GSP                     $        60 $     3,773  \n",
       "INDIA_COMM_EU1_SOUTH    $     2,212 $    88,969  \n",
       "INDIA_COMM_EU2_WEST     $     3,722 $    74,362  \n",
       "INDIA_COMM_EU3_NE_SAARC $    11,955 $   317,165  \n",
       "INDIA_ENT_FSI           $         0 $    16,363  \n",
       "INDIA_ENT_FSI_MFG_ECOMM $    42,583 $   119,499  \n",
       "INDIA_ENT_GI            $     2,982 $    47,952  \n",
       "INDIA_ENT_ITS _INDST    $       725 $    42,314  \n",
       "INDIA_GROWTH_TELECOM    $         0 $    78,430  \n",
       "INDIA_ITS_ACCTS         $     9,437 $   163,674  \n",
       "INDIA_ITS_STRATEGIC     $        20 $    14,945  \n",
       "INDIA_ITS_TA_ACCTS      $    56,500 $    91,699  \n",
       "INDIA_PS                $ 1,543,290 $ 2,318,727  \n",
       "All                     $ 1,673,486 $ 3,377,882  "
      ]
     },
     "execution_count": 230,
     "metadata": {},
     "output_type": "execute_result"
    }
   ],
   "source": [
    "df_funnel.pivot_table(values='expected product ($000s) (converted)', index='gaining_sales_level_4', columns='fiscal period', aggfunc=sum, margins=True, fill_value=0)"
   ]
  },
  {
   "cell_type": "code",
   "execution_count": 201,
   "metadata": {
    "collapsed": false
   },
   "outputs": [
    {
     "data": {
      "text/plain": [
       "gaining_sales_level_3\n",
       "INDIA_COMM_1   $56,317,000\n",
       "All            $56,317,000\n",
       "Name: expected product ($000s) (converted), dtype: float64"
      ]
     },
     "execution_count": 201,
     "metadata": {},
     "output_type": "execute_result"
    }
   ],
   "source": [
    "#df_funnel\n",
    "#df_funnel.pivot_table(values='expected product ($000s) (converted)', index='gaining_sales_level_3', columns='fiscal period', aggfunc=sum, margins=True, fill_value=0)\n",
    "#df_funnel_q4_m12 = df_funnel[(df_funnel['fiscal period'] == 'Q4-2016') & (df_funnel['forecast status'] == 'Commit') & (df_funnel['gaining_sales_level_3'] == 'INDIA_COMM_1')]\n",
    "df_funnel_q4_m12.pivot_table(values='expected product ($000s) (converted)', index='gaining_sales_level_3', aggfunc=sum, margins=True, fill_value=0)"
   ]
  },
  {
   "cell_type": "code",
   "execution_count": 227,
   "metadata": {
    "collapsed": false
   },
   "outputs": [],
   "source": [
    "def correct_quarter(val):\n",
    "    val = val[-4:] + val[:2]\n",
    "    return val\n",
    "\n",
    "def correct_month(val):\n",
    "    val = '2016'+str(val)\n",
    "    return val\n",
    "\n",
    "def correct_week(val):\n",
    "    val = '2016'+str(val)\n",
    "    return val\n",
    "\n",
    "#df_funnel_q4_m12['fiscal week']\n",
    "#df_funnel_q4_m12['Opportunity Line Value ($000s) (converted)'] = df_funnel_q4_m12['Opportunity Line Value ($000s) (converted)'].apply(lambda x: x*1000)\n",
    "#df_funnel_q4_m12['fiscal period'] = df_funnel_q4_m12['fiscal period'].apply(lambda x: correct_quarter(x))\n",
    "#df_funnel_q4_m12['fiscal month'] = df_funnel_q4_m12['fiscal month'].apply(lambda x: correct_month(x))\n",
    "#df_funnel_q4_m12['fiscal week'] = df_funnel_q4_m12['fiscal week'].apply(lambda x: correct_week(x))\n",
    "#df_funnel_q4_m12[['fiscal period', 'fiscal month', 'fiscal week']]"
   ]
  },
  {
   "cell_type": "code",
   "execution_count": 238,
   "metadata": {
    "collapsed": false
   },
   "outputs": [],
   "source": [
    "cols_change = {\n",
    "    'level 02 territory' : 'sales_level_2',\n",
    "    'level 03 territory' : 'sales_level_3',\n",
    "    'level 04 territory' : 'sales_level_4',\n",
    "    'level 05 territory' : 'sales_level_5',\n",
    "    'level 06 territory' : 'sales_level_6',\n",
    "    'gaining_sales_level_2': 'gaining_sales_level_2_y',\n",
    "    'gaining_sales_level_3': 'gaining_sales_level_3_y',\n",
    "    'gaining_sales_level_4': 'gaining_sales_level_4_y',\n",
    "    'gaining_sales_level_5': 'gaining_sales_level_5_y',\n",
    "    'gaining_sales_level_6': 'gaining_sales_level_6_y',\n",
    "    'opportunity line value ($000s) (converted)' : 'booking_net',\n",
    "    'opportunity owner': 'sales agent name',\n",
    "    'deal id' : 'erp_deal_id',\n",
    "    'technology & service name': 'internal_sub_business_entity_name',\n",
    "    'fiscal period' : 'fiscal_quarter_id',\n",
    "    'fiscal month' : 'fiscal_period_id',\n",
    "    'fiscal week': 'fiscal_week_id',\n",
    "    'product family': 'product_family'\n",
    "}\n",
    "#df_funnel_q4_m12.rename(columns=cols_change, inplace=True)"
   ]
  },
  {
   "cell_type": "code",
   "execution_count": 245,
   "metadata": {
    "collapsed": false
   },
   "outputs": [],
   "source": [
    "#df_anil_all.pivot_table(values='booking_net', index='gaining_sales_level_3_y', aggfunc=sum, margins=True, fill_value=0)\n",
    "#df_fy16_ytd = df_anil_all[df_anil_all.gaining_sales_level_3_y == 'INDIA_COMM_1']\n",
    "#df_fy16_ytd.pivot_table(values='booking_net', index=['sales_level_3', 'sales_level_4', 'sales_level_6'], aggfunc=sum, margins=True, fill_value=0)\n",
    "#df_fy16_ytd['record_type'] = 'booking'\n",
    "#df_funnel_q4_m12['record_type'] = 'forecast'"
   ]
  },
  {
   "cell_type": "code",
   "execution_count": 248,
   "metadata": {
    "collapsed": false
   },
   "outputs": [],
   "source": [
    "def create_new_com_cols(df):\n",
    "    df.sales_level_2 = df.gaining_sales_level_2_y\n",
    "    df.sales_level_3 = df.gaining_sales_level_3_y\n",
    "    df.sales_level_4 = df.gaining_sales_level_4_y\n",
    "    df.sales_level_5 = df.gaining_sales_level_5_y\n",
    "    df.sales_level_6 = df.gaining_sales_level_6_y\n",
    "    return df\n",
    "\n",
    "#df_fy16_ytd = create_new_com_cols(df_fy16_ytd)\n",
    "df_funnel_q4_m12 = create_new_com_cols(df_funnel_q4_m12)"
   ]
  },
  {
   "cell_type": "code",
   "execution_count": 249,
   "metadata": {
    "collapsed": true
   },
   "outputs": [],
   "source": [
    "df_fy16_exit_proj = pd.concat([df_fy16_ytd, df_funnel_q4_m12])"
   ]
  },
  {
   "cell_type": "code",
   "execution_count": 257,
   "metadata": {
    "collapsed": false,
    "scrolled": true
   },
   "outputs": [
    {
     "data": {
      "text/html": [
       "<div>\n",
       "<table border=\"1\" class=\"dataframe\">\n",
       "  <thead>\n",
       "    <tr style=\"text-align: right;\">\n",
       "      <th></th>\n",
       "      <th>record_type</th>\n",
       "      <th>booking</th>\n",
       "      <th>forecast</th>\n",
       "      <th>All</th>\n",
       "    </tr>\n",
       "    <tr>\n",
       "      <th>sales_level_3</th>\n",
       "      <th>sales_level_4</th>\n",
       "      <th></th>\n",
       "      <th></th>\n",
       "      <th></th>\n",
       "    </tr>\n",
       "  </thead>\n",
       "  <tbody>\n",
       "    <tr>\n",
       "      <th rowspan=\"4\" valign=\"top\">INDIA_COMM_1</th>\n",
       "      <th>INDIA_COMM_EU1_SOUTH</th>\n",
       "      <td>$61,269,446</td>\n",
       "      <td>$18,068,000</td>\n",
       "      <td>$79,337,446</td>\n",
       "    </tr>\n",
       "    <tr>\n",
       "      <th>INDIA_COMM_EU2_WEST</th>\n",
       "      <td>$66,734,748</td>\n",
       "      <td>$12,446,000</td>\n",
       "      <td>$79,180,748</td>\n",
       "    </tr>\n",
       "    <tr>\n",
       "      <th>INDIA_COMM_EU3_NE_SAARC</th>\n",
       "      <td>$72,973,245</td>\n",
       "      <td>$25,803,000</td>\n",
       "      <td>$98,776,245</td>\n",
       "    </tr>\n",
       "    <tr>\n",
       "      <th>INDIA_COMM_MISC</th>\n",
       "      <td>$  -106,470</td>\n",
       "      <td>$         0</td>\n",
       "      <td>$  -106,470</td>\n",
       "    </tr>\n",
       "    <tr>\n",
       "      <th>All</th>\n",
       "      <th></th>\n",
       "      <td>$200,870,969</td>\n",
       "      <td>$56,317,000</td>\n",
       "      <td>$257,187,969</td>\n",
       "    </tr>\n",
       "  </tbody>\n",
       "</table>\n",
       "</div>"
      ],
      "text/plain": [
       "record_type                                booking    forecast          All\n",
       "sales_level_3 sales_level_4                                                \n",
       "INDIA_COMM_1  INDIA_COMM_EU1_SOUTH     $61,269,446 $18,068,000  $79,337,446\n",
       "              INDIA_COMM_EU2_WEST      $66,734,748 $12,446,000  $79,180,748\n",
       "              INDIA_COMM_EU3_NE_SAARC  $72,973,245 $25,803,000  $98,776,245\n",
       "              INDIA_COMM_MISC          $  -106,470 $         0  $  -106,470\n",
       "All                                   $200,870,969 $56,317,000 $257,187,969"
      ]
     },
     "execution_count": 257,
     "metadata": {},
     "output_type": "execute_result"
    }
   ],
   "source": [
    "df_fy16_exit_proj.pivot_table(values='booking_net', index=['sales_level_3', 'sales_level_4'], columns='record_type', aggfunc=sum, margins=True, fill_value=0)\n",
    "#df_fy16_exit_proj_no_cloud = df_fy16_exit_proj[-(df_fy16_exit_proj.bookings_adjustments_code.str.startswith('LC')).fillna(False)]\n",
    "#df_fy16_exit_proj_no_cloud.pivot_table(values='booking_net', index=['sales_level_3', 'sales_level_4'], columns='record_type', aggfunc=sum, margins=True, fill_value=0)"
   ]
  },
  {
   "cell_type": "code",
   "execution_count": 352,
   "metadata": {
    "collapsed": false
   },
   "outputs": [],
   "source": [
    "#df_fy16_exit_proj.to_csv('../FY16_Restated_Projected_Exit.csv', sep=',', encoding='utf8')"
   ]
  },
  {
   "cell_type": "code",
   "execution_count": 365,
   "metadata": {
    "collapsed": false
   },
   "outputs": [
    {
     "data": {
      "text/plain": [
       "<matplotlib.axes._subplots.AxesSubplot at 0x365181d0>"
      ]
     },
     "execution_count": 365,
     "metadata": {},
     "output_type": "execute_result"
    },
    {
     "data": {
      "image/png": "[encoded data removed]",
      "text/plain": [
       "<matplotlib.figure.Figure at 0x1b71d1d0>"
      ]
     },
     "metadata": {},
     "output_type": "display_data"
    }
   ],
   "source": [
    "result = df_fy16_exit_proj.groupby(['sales_level_4','fiscal_week_id'])['booking_net'].sum()\n",
    "result.unstack('sales_level_4').fillna(0).cumsum().plot()"
   ]
  },
  {
   "cell_type": "code",
   "execution_count": null,
   "metadata": {
    "collapsed": true
   },
   "outputs": [],
   "source": []
  }
 ],
 "metadata": {
  "anaconda-cloud": {},
  "kernelspec": {
   "display_name": "Python [Root]",
   "language": "python",
   "name": "Python [Root]"
  },
  "language_info": {
   "codemirror_mode": {
    "name": "ipython",
    "version": 2
   },
   "file_extension": ".py",
   "mimetype": "text/x-python",
   "name": "python",
   "nbconvert_exporter": "python",
   "pygments_lexer": "ipython2",
   "version": "2.7.11"
  }
 },
 "nbformat": 4,
 "nbformat_minor": 0
}
