{
 "cells": [
  {
   "cell_type": "markdown",
   "metadata": {},
   "source": [
    "# SFDC Funnel Cleanup"
   ]
  },
  {
   "cell_type": "code",
   "execution_count": 1,
   "metadata": {
    "collapsed": true
   },
   "outputs": [],
   "source": [
    "%matplotlib inline\n",
    "from pandas import Series, DataFrame\n",
    "import pandas as pd\n",
    "import numpy as np\n",
    "import matplotlib.pyplot as plt\n",
    "from pandas import set_option\n",
    "import string\n",
    "import re\n",
    "set_option('display.max_rows', 16)\n",
    "LARGE_FIGSIZE = (12, 8)"
   ]
  },
  {
   "cell_type": "markdown",
   "metadata": {},
   "source": [
    "#### Reading SFDC Files"
   ]
  },
  {
   "cell_type": "code",
   "execution_count": 3,
   "metadata": {
    "collapsed": true
   },
   "outputs": [],
   "source": [
    "apath = 'C:\\\\Jeyaraj\\\\Analysis\\\\SFDC_Dump\\\\'"
   ]
  },
  {
   "cell_type": "code",
   "execution_count": 5,
   "metadata": {
    "collapsed": false
   },
   "outputs": [],
   "source": [
    "file_name = apath+'funnel_report_2016-07-12.xlsx'\n",
    "sheet_name = 'funnel_dump'\n",
    "xl = pd.ExcelFile(file_name)\n",
    "df_funnel = xl.parse(sheet_name)"
   ]
  },
  {
   "cell_type": "markdown",
   "metadata": {},
   "source": [
    "#### Clinical Checkup"
   ]
  },
  {
   "cell_type": "code",
   "execution_count": 6,
   "metadata": {
    "collapsed": false
   },
   "outputs": [
    {
     "data": {
      "text/plain": [
       "(6962, 93)"
      ]
     },
     "execution_count": 6,
     "metadata": {},
     "output_type": "execute_result"
    }
   ],
   "source": [
    "df_funnel.shape"
   ]
  },
  {
   "cell_type": "code",
   "execution_count": 7,
   "metadata": {
    "collapsed": false
   },
   "outputs": [
    {
     "data": {
      "text/plain": [
       "Sales Coverage Code           object\n",
       "Level 01 Territory            object\n",
       "Level 02 Territory            object\n",
       "Level 03 Territory            object\n",
       "Level 04 Territory            object\n",
       "Level 05 Territory            object\n",
       "Level 06 Territory            object\n",
       "Level 07 Territory            object\n",
       "                              ...   \n",
       "Has Competitors              float64\n",
       "Cloud Deal?                   object\n",
       "Is Cisco Capital Engaged?     object\n",
       "SFDC Account ID               object\n",
       "Source Account ID             object\n",
       "Parent Account ID            float64\n",
       "De Dup Winning Account ID    float64\n",
       "Parent Account ID.1           object\n",
       "dtype: object"
      ]
     },
     "execution_count": 7,
     "metadata": {},
     "output_type": "execute_result"
    }
   ],
   "source": [
    "df_funnel.dtypes"
   ]
  },
  {
   "cell_type": "code",
   "execution_count": 8,
   "metadata": {
    "collapsed": false
   },
   "outputs": [
    {
     "name": "stdout",
     "output_type": "stream",
     "text": [
      "<class 'pandas.core.frame.DataFrame'>\n",
      "RangeIndex: 6962 entries, 0 to 6961\n",
      "Data columns (total 93 columns):\n",
      "Sales Coverage Code                        6960 non-null object\n",
      "Level 01 Territory                         6955 non-null object\n",
      "Level 02 Territory                         6955 non-null object\n",
      "Level 03 Territory                         6955 non-null object\n",
      "Level 04 Territory                         6955 non-null object\n",
      "Level 05 Territory                         6955 non-null object\n",
      "Level 06 Territory                         6955 non-null object\n",
      "Level 07 Territory                         6955 non-null object\n",
      "Opportunity Owner                          6955 non-null object\n",
      "Opportunity Owner Alias                    6955 non-null object\n",
      "Forecasting Position                       6949 non-null object\n",
      "Forecasting Positions                      6951 non-null object\n",
      "Account Name                               6955 non-null object\n",
      "Account Name (English)                     5488 non-null object\n",
      "Primary Partner                            6339 non-null object\n",
      "Has Partners                               6955 non-null object\n",
      "Partner 2                                  912 non-null object\n",
      "Partner 3                                  297 non-null object\n",
      "Expected Product $ (converted) Currency    6955 non-null object\n",
      "Expected Product $ (converted)             6955 non-null float64\n",
      "Expected Product Discount%                 5979 non-null float64\n",
      "Expected Service $ (converted) Currency    6955 non-null object\n",
      "Expected Service $ (converted)             6955 non-null float64\n",
      "Expected Total $ (converted) Currency      6955 non-null object\n",
      "Expected Total $ (converted)               6955 non-null float64\n",
      "Deal ID                                    6938 non-null float64\n",
      "Deal ID Obtainted Timestamp                4580 non-null datetime64[ns]\n",
      "Sales Path                                 6005 non-null object\n",
      "Technologies                               6691 non-null object\n",
      "Services                                   1514 non-null object\n",
      "Technology  Total Mix%                     6955 non-null float64\n",
      "Service Total Mix%                         6955 non-null float64\n",
      "Opportunity Status                         6955 non-null object\n",
      "Opportunity ID                             6955 non-null object\n",
      "Forecast Status                            6955 non-null object\n",
      "Forecast City                              6952 non-null object\n",
      "Forecast Country                           6955 non-null object\n",
      "Forecast State                             6831 non-null object\n",
      "Forecast Zip Postal Code                   6849 non-null object\n",
      "Forecast Account Name                      6955 non-null object\n",
      "Forecast Address Line 1                    6955 non-null object\n",
      "Forecast Address Line 2                    4034 non-null object\n",
      "Opportunity Owner: Title                   6955 non-null object\n",
      "Opportunity Owner: Department              6955 non-null object\n",
      "Opportunity Owner: Profile                 6955 non-null object\n",
      "Opportunity Owner: Active                  6955 non-null float64\n",
      "Opportunity Owner: Division                6955 non-null object\n",
      "Opportunity Owner: Phone                   6955 non-null object\n",
      "Opportunity Owner: Mobile Phone            1189 non-null object\n",
      "Opportunity Owner Email                    6955 non-null object\n",
      "Opportunity Count                          6955 non-null float64\n",
      "Opportunity Flags                          255 non-null object\n",
      "Opportunity Visibility Days                6955 non-null float64\n",
      "Opportunity Quantity                       6916 non-null float64\n",
      "Opportunity Record Type                    6955 non-null object\n",
      "Opportunity Currency                       6955 non-null object\n",
      "Opportunity Name                           6955 non-null object\n",
      "Opportunity Value Range                    6955 non-null object\n",
      "Opportunity Access Level                   6955 non-null object\n",
      "Confine Opportunity Assignment             6955 non-null float64\n",
      "Merged/Cloned from Opportunity             493 non-null object\n",
      "Last Stage Change Date                     3398 non-null datetime64[ns]\n",
      "Stage                                      6955 non-null object\n",
      "Stage Duration                             6955 non-null float64\n",
      "Expected Book Date                         6955 non-null datetime64[ns]\n",
      "Expected Book Date (2)                     6955 non-null datetime64[ns]\n",
      "Created Date                               6955 non-null datetime64[ns]\n",
      "Account: Created Date                      6955 non-null datetime64[ns]\n",
      "Sales Account View: Created Date           6955 non-null datetime64[ns]\n",
      "Last Modified Date                         6955 non-null datetime64[ns]\n",
      "End Date                                   222 non-null object\n",
      "Lost/Cancelled Date/Time                   1135 non-null object\n",
      "Expiration Date                            5045 non-null datetime64[ns]\n",
      "FY Start Date                              6955 non-null datetime64[ns]\n",
      "Fiscal Month                               6955 non-null float64\n",
      "Fiscal Month of QTR                        6955 non-null float64\n",
      "Fiscal Period                              6950 non-null object\n",
      "Fiscal Quarter                             6955 non-null float64\n",
      "Fiscal Week                                6950 non-null float64\n",
      "Fiscal Week of Month                       6955 non-null float64\n",
      "Fiscal Year                                6955 non-null float64\n",
      "Deals Desk Status                          3324 non-null object\n",
      "Close Probability %                        377 non-null float64\n",
      "Waves                                      3266 non-null object\n",
      "Competitors                                6944 non-null object\n",
      "Has Competitors                            6955 non-null float64\n",
      "Cloud Deal?                                6835 non-null object\n",
      "Is Cisco Capital Engaged?                  6857 non-null object\n",
      "SFDC Account ID                            6955 non-null object\n",
      "Source Account ID                          1369 non-null object\n",
      "Parent Account ID                          45 non-null float64\n",
      "De Dup Winning Account ID                  0 non-null float64\n",
      "Parent Account ID.1                        6829 non-null object\n",
      "dtypes: datetime64[ns](10), float64(23), object(60)\n",
      "memory usage: 4.9+ MB\n"
     ]
    }
   ],
   "source": [
    "df_funnel.info()"
   ]
  },
  {
   "cell_type": "markdown",
   "metadata": {},
   "source": [
    "#### Cleaning Headers"
   ]
  },
  {
   "cell_type": "code",
   "execution_count": 10,
   "metadata": {
    "collapsed": false
   },
   "outputs": [
    {
     "data": {
      "text/plain": [
       "Index([u'sales_coverage_code', u'level_01_territory', u'level_02_territory',\n",
       "       u'level_03_territory', u'level_04_territory', u'level_05_territory',\n",
       "       u'level_06_territory', u'level_07_territory', u'opportunity_owner',\n",
       "       u'opportunity_owner_alias', u'forecasting_position',\n",
       "       u'forecasting_positions', u'account_name', u'account_name_(english)',\n",
       "       u'primary_partner', u'has_partners', u'partner_2', u'partner_3',\n",
       "       u'expected_product_$_(converted)_currency',\n",
       "       u'expected_product_$_(converted)', u'expected_product_discount%',\n",
       "       u'expected_service_$_(converted)_currency',\n",
       "       u'expected_service_$_(converted)',\n",
       "       u'expected_total_$_(converted)_currency',\n",
       "       u'expected_total_$_(converted)', u'deal_id',\n",
       "       u'deal_id_obtainted_timestamp', u'sales_path', u'technologies',\n",
       "       u'services', u'technology_total_mix%', u'service_total_mix%',\n",
       "       u'opportunity_status', u'opportunity_id', u'forecast_status',\n",
       "       u'forecast_city', u'forecast_country', u'forecast_state',\n",
       "       u'forecast_zip_postal_code', u'forecast_account_name',\n",
       "       u'forecast_address_line_1', u'forecast_address_line_2',\n",
       "       u'opportunity_owner:_title', u'opportunity_owner:_department',\n",
       "       u'opportunity_owner:_profile', u'opportunity_owner:_active',\n",
       "       u'opportunity_owner:_division', u'opportunity_owner:_phone',\n",
       "       u'opportunity_owner:_mobile_phone', u'opportunity_owner_email',\n",
       "       u'opportunity_count', u'opportunity_flags',\n",
       "       u'opportunity_visibility_days', u'opportunity_quantity',\n",
       "       u'opportunity_record_type', u'opportunity_currency',\n",
       "       u'opportunity_name', u'opportunity_value_range',\n",
       "       u'opportunity_access_level', u'confine_opportunity_assignment',\n",
       "       u'merged/cloned_from_opportunity', u'last_stage_change_date', u'stage',\n",
       "       u'stage_duration', u'expected_book_date', u'expected_book_date_(2)',\n",
       "       u'created_date', u'account:_created_date',\n",
       "       u'sales_account_view:_created_date', u'last_modified_date', u'end_date',\n",
       "       u'lost/cancelled_date/time', u'expiration_date', u'fy_start_date',\n",
       "       u'fiscal_month', u'fiscal_month_of_qtr', u'fiscal_period',\n",
       "       u'fiscal_quarter', u'fiscal_week', u'fiscal_week_of_month',\n",
       "       u'fiscal_year', u'deals_desk_status', u'close_probability_%', u'waves',\n",
       "       u'competitors', u'has_competitors', u'cloud_deal?',\n",
       "       u'is_cisco_capital_engaged?', u'sfdc_account_id', u'source_account_id',\n",
       "       u'parent_account_id', u'de_dup_winning_account_id',\n",
       "       u'parent_account_id1'],\n",
       "      dtype='object')"
      ]
     },
     "execution_count": 10,
     "metadata": {},
     "output_type": "execute_result"
    }
   ],
   "source": [
    "df_funnel.columns = [name.lower().strip().replace('.','') for name in df_funnel.columns]\n",
    "df_funnel.columns = [re.sub('\\s+', '_', name) for name in df_funnel.columns]\n",
    "df_funnel.columns"
   ]
  },
  {
   "cell_type": "code",
   "execution_count": null,
   "metadata": {
    "collapsed": true
   },
   "outputs": [],
   "source": [
    "df_funnel"
   ]
  }
 ],
 "metadata": {
  "anaconda-cloud": {},
  "kernelspec": {
   "display_name": "Python [Root]",
   "language": "python",
   "name": "Python [Root]"
  },
  "language_info": {
   "codemirror_mode": {
    "name": "ipython",
    "version": 2
   },
   "file_extension": ".py",
   "mimetype": "text/x-python",
   "name": "python",
   "nbconvert_exporter": "python",
   "pygments_lexer": "ipython2",
   "version": "2.7.11"
  }
 },
 "nbformat": 4,
 "nbformat_minor": 0
}
