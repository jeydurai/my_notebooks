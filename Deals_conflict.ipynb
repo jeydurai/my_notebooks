{
 "cells": [
  {
   "cell_type": "code",
   "execution_count": 1,
   "metadata": {
    "collapsed": true
   },
   "outputs": [],
   "source": [
    "%matplotlib inline\n",
    "from pandas import Series, DataFrame\n",
    "import pandas as pd\n",
    "import numpy as np\n",
    "import matplotlib.pyplot as plt\n",
    "from pandas import set_option\n",
    "import string\n",
    "import re\n",
    "set_option('display.max_rows', 16)\n",
    "LARGE_FIGSIZE = (12, 8)"
   ]
  },
  {
   "cell_type": "code",
   "execution_count": 4,
   "metadata": {
    "collapsed": true
   },
   "outputs": [],
   "source": [
    "apath = 'C:\\\\Jeyaraj\\\\Analysis\\\\SFDC_Dump\\\\FY16Q4M3_Funnel\\\\'"
   ]
  },
  {
   "cell_type": "code",
   "execution_count": 36,
   "metadata": {
    "collapsed": false
   },
   "outputs": [],
   "source": [
    "file_name = apath+'Compiled_FY16Q4M3_Funnel.xlsx'\n",
    "sheet_name = 'Filtered2'\n",
    "xl = pd.ExcelFile(file_name)\n",
    "df_chan_arch = xl.parse(sheet_name)"
   ]
  },
  {
   "cell_type": "code",
   "execution_count": 41,
   "metadata": {
    "collapsed": false
   },
   "outputs": [],
   "source": [
    "file_name = apath+'funnel_report_2016-07-12.xlsx'\n",
    "sheet_name = 'Com_FY16Q4M3'\n",
    "xl = pd.ExcelFile(file_name)\n",
    "df_sfdc = xl.parse(sheet_name)"
   ]
  },
  {
   "cell_type": "code",
   "execution_count": 48,
   "metadata": {
    "collapsed": false
   },
   "outputs": [
    {
     "data": {
      "text/plain": [
       "Index([                         u'Sr_No',                     u'From_Where',\n",
       "                        u'Compare_Level',              u'Opportunity Owner',\n",
       "                             u'PAM Name',             u'Level 04 Territory',\n",
       "                   u'Level 05 Territory',                u'Primary Partner',\n",
       "                         u'Account Name',            u'Unique Account Name',\n",
       "                      u'Forecast Status', u'Expected Product $ (converted)',\n",
       "       u'Expected Service $ (converted)',            u'Products / Services',\n",
       "                                u'Month',           u'Fiscal Week of Month',\n",
       "                         u'Technologies',                        u'Deal ID',\n",
       "           u'Expected Product Discount%',                        u'Remarks',\n",
       "                            u'File_Name'],\n",
       "      dtype='object')"
      ]
     },
     "execution_count": 48,
     "metadata": {},
     "output_type": "execute_result"
    }
   ],
   "source": [
    "change_cols = {\n",
    "    'RM Name': 'Opportunity Owner',\n",
    "    'Vertical': 'Level 05 Territory',\n",
    "    'Segment': 'Level 04 Territory',\n",
    "    'Partner': 'Primary Partner',\n",
    "    'Week': 'Fiscal Week of Month',\n",
    "    'Arch': 'Technologies',\n",
    "    'Discount': 'Expected Product Discount%',\n",
    "    'Deal_ID': 'Deal ID'\n",
    "}\n",
    "df_chan_arch.rename(columns=change_cols, inplace=True)\n",
    "df_chan_arch.columns"
   ]
  },
  {
   "cell_type": "code",
   "execution_count": 49,
   "metadata": {
    "collapsed": true
   },
   "outputs": [],
   "source": [
    "df_chan_arch['Level 01 Territory'] = 'APJ'\n",
    "df_chan_arch['Level 02 Territory'] = 'INDIA_AREA'\n",
    "df_chan_arch['Level 03 Territory'] = 'INDIA_COMM_1'\n",
    "df_chan_arch['Fiscal Period'] = 'Q4-2016'\n",
    "df_chan_arch['Fiscal Quarter'] = '4'\n",
    "df_chan_arch['Fiscal Year'] = 2016\n",
    "map_week = {\n",
    "    'W3': 3,\n",
    "    'W4': 4,\n",
    "    'W5': 5\n",
    "}\n",
    "map_l4 = {\n",
    "    'EU1': 'INDIA_COMM_EU1_SOUTH',\n",
    "    'EU2': 'INDIA_COMM_EU2_WEST',\n",
    "    'EU3': 'INDIA_COMM_EU3_NE_SAARC',\n",
    "    'CBN': 'CBN',\n",
    "    'Ent': 'ENT',\n",
    "    'POS': 'POS'\n",
    "}\n",
    "df_chan_arch['Level 04 Territory'] = df_chan_arch['Level 04 Territory'].map(map_l4)\n",
    "df_chan_arch['Fiscal Week of Month'] = df_chan_arch['Fiscal Week of Month'].map(map_week)"
   ]
  },
  {
   "cell_type": "code",
   "execution_count": 51,
   "metadata": {
    "collapsed": false
   },
   "outputs": [
    {
     "data": {
      "text/plain": [
       "Index([                         u'Sr_No',                     u'From_Where',\n",
       "                        u'Compare_Level',              u'Opportunity Owner',\n",
       "                             u'PAM Name',             u'Level 04 Territory',\n",
       "                   u'Level 05 Territory',                u'Primary Partner',\n",
       "                         u'Account Name',            u'Unique Account Name',\n",
       "                      u'Forecast Status', u'Expected Product $ (converted)',\n",
       "       u'Expected Service $ (converted)',            u'Products / Services',\n",
       "                                u'Month',           u'Fiscal Week of Month',\n",
       "                         u'Technologies',                        u'Deal ID',\n",
       "           u'Expected Product Discount%',                        u'Remarks',\n",
       "                            u'File_Name',             u'Level 01 Territory',\n",
       "                   u'Level 02 Territory',             u'Level 03 Territory',\n",
       "                        u'Fiscal Period',                 u'Fiscal Quarter',\n",
       "                          u'Fiscal Year'],\n",
       "      dtype='object')"
      ]
     },
     "execution_count": 51,
     "metadata": {},
     "output_type": "execute_result"
    }
   ],
   "source": [
    "df_chan_arch['Level 02 Territory'] = 'INDIA_AREA'\n",
    "df_chan_arch.columns"
   ]
  },
  {
   "cell_type": "code",
   "execution_count": 45,
   "metadata": {
    "collapsed": false
   },
   "outputs": [
    {
     "data": {
      "text/plain": [
       "Index([                                  u'Sr_No',\n",
       "                           u'Sales Coverage Code',\n",
       "                            u'Level 01 Territory',\n",
       "                            u'Level 02 Territory',\n",
       "                            u'Level 03 Territory',\n",
       "                            u'Level 04 Territory',\n",
       "                            u'Level 05 Territory',\n",
       "                            u'Level 06 Territory',\n",
       "                            u'Level 07 Territory',\n",
       "                             u'Opportunity Owner',\n",
       "                       u'Opportunity Owner Alias',\n",
       "                          u'Forecasting Position',\n",
       "                         u'Forecasting Positions',\n",
       "                                  u'Account Name',\n",
       "                           u'Unique Account Name',\n",
       "                        u'Account Name (English)',\n",
       "                               u'Primary Partner',\n",
       "                                  u'Has Partners',\n",
       "                                     u'Partner 2',\n",
       "                                     u'Partner 3',\n",
       "       u'Expected Product $ (converted) Currency',\n",
       "                u'Expected Product $ (converted)',\n",
       "                    u'Expected Product Discount%',\n",
       "       u'Expected Service $ (converted) Currency',\n",
       "                u'Expected Service $ (converted)',\n",
       "         u'Expected Total $ (converted) Currency',\n",
       "                  u'Expected Total $ (converted)',\n",
       "                                       u'Deal ID',\n",
       "                   u'Deal ID Obtainted Timestamp',\n",
       "                                    u'Sales Path',\n",
       "                                  u'Technologies',\n",
       "                                      u'Services',\n",
       "                        u'Technology  Total Mix%',\n",
       "                            u'Service Total Mix%',\n",
       "                            u'Opportunity Status',\n",
       "                                u'Opportunity ID',\n",
       "                               u'Forecast Status',\n",
       "                                 u'Forecast City',\n",
       "                              u'Forecast Country',\n",
       "                                u'Forecast State',\n",
       "                      u'Forecast Zip Postal Code',\n",
       "                         u'Forecast Account Name',\n",
       "                       u'Forecast Address Line 1',\n",
       "                       u'Forecast Address Line 2',\n",
       "                      u'Opportunity Owner: Title',\n",
       "                 u'Opportunity Owner: Department',\n",
       "                    u'Opportunity Owner: Profile',\n",
       "                     u'Opportunity Owner: Active',\n",
       "                   u'Opportunity Owner: Division',\n",
       "                      u'Opportunity Owner: Phone',\n",
       "               u'Opportunity Owner: Mobile Phone',\n",
       "                       u'Opportunity Owner Email',\n",
       "                             u'Opportunity Count',\n",
       "                             u'Opportunity Flags',\n",
       "                   u'Opportunity Visibility Days',\n",
       "                          u'Opportunity Quantity',\n",
       "                       u'Opportunity Record Type',\n",
       "                          u'Opportunity Currency',\n",
       "                              u'Opportunity Name',\n",
       "                       u'Opportunity Value Range',\n",
       "                      u'Opportunity Access Level',\n",
       "                u'Confine Opportunity Assignment',\n",
       "                u'Merged/Cloned from Opportunity',\n",
       "                        u'Last Stage Change Date',\n",
       "                                         u'Stage',\n",
       "                                u'Stage Duration',\n",
       "                            u'Expected Book Date',\n",
       "                        u'Expected Book Date (2)',\n",
       "                                  u'Created Date',\n",
       "                         u'Account: Created Date',\n",
       "              u'Sales Account View: Created Date',\n",
       "                            u'Last Modified Date',\n",
       "                                      u'End Date',\n",
       "                      u'Lost/Cancelled Date/Time',\n",
       "                               u'Expiration Date',\n",
       "                                 u'FY Start Date',\n",
       "                                  u'Fiscal Month',\n",
       "                           u'Fiscal Month of QTR',\n",
       "                                 u'Fiscal Period',\n",
       "                                u'Fiscal Quarter',\n",
       "                                   u'Fiscal Week',\n",
       "                          u'Fiscal Week of Month',\n",
       "                                   u'Fiscal Year',\n",
       "                             u'Deals Desk Status',\n",
       "                           u'Close Probability %',\n",
       "                                         u'Waves',\n",
       "                                   u'Competitors',\n",
       "                               u'Has Competitors',\n",
       "                                   u'Cloud Deal?',\n",
       "                     u'Is Cisco Capital Engaged?',\n",
       "                               u'SFDC Account ID',\n",
       "                             u'Source Account ID',\n",
       "                             u'Parent Account ID',\n",
       "                     u'De Dup Winning Account ID',\n",
       "                           u'Parent Account ID.1',\n",
       "                                     u'File_Name',\n",
       "                                    u'From_Where',\n",
       "                                 u'Compare_Level'],\n",
       "      dtype='object')"
      ]
     },
     "execution_count": 45,
     "metadata": {},
     "output_type": "execute_result"
    }
   ],
   "source": [
    "df_sfdc['File_Name'] = 'funnel_report_2016-07-12'\n",
    "df_sfdc['From_Where'] = 'SFDC'\n",
    "df_sfdc['Compare_Level'] = 'SFDC_FUNNEL'\n",
    "df_sfdc.columns\n",
    "df_sfdc.head()"
   ]
  },
  {
   "cell_type": "code",
   "execution_count": 52,
   "metadata": {
    "collapsed": true
   },
   "outputs": [],
   "source": [
    "df = pd.concat([df_sfdc,df_chan_arch])"
   ]
  },
  {
   "cell_type": "code",
   "execution_count": 53,
   "metadata": {
    "collapsed": true
   },
   "outputs": [],
   "source": [
    "writer = pd.ExcelWriter(apath+'Funnel_Findings.xlsx', engine='xlsxwriter')\n",
    "df.to_excel(writer, sheet_name='SFDC+CHAN&ARCHS')\n",
    "df_chan_arch.to_excel(writer, sheet_name='CHAN&ARCHS')\n",
    "df_sfdc.to_excel(writer, sheet_name='SFDC')\n",
    "writer.save()"
   ]
  },
  {
   "cell_type": "code",
   "execution_count": 27,
   "metadata": {
    "collapsed": false
   },
   "outputs": [],
   "source": [
    "#df_funnel.groupby(['Unique End Customer', 'From_Where'])['Commit'].sum()\n",
    "df_commit = df_funnel[pd.notnull(df_funnel.Commit)]\n",
    "df_commit_no_duplicates = df_commit.drop_duplicates(['Unique End Customer', 'Commit'], keep=False)"
   ]
  },
  {
   "cell_type": "code",
   "execution_count": 30,
   "metadata": {
    "collapsed": false
   },
   "outputs": [],
   "source": [
    "df_commit_duplicates = pd.concat([df_commit_no_duplicates, df_commit]).drop_duplicates('Sr_No', keep=False)"
   ]
  },
  {
   "cell_type": "code",
   "execution_count": 33,
   "metadata": {
    "collapsed": true
   },
   "outputs": [],
   "source": [
    "df_upside = df_funnel[pd.notnull(df_funnel.Upside)]\n",
    "df_upside_no_duplicates = df_upside.drop_duplicates(['Unique End Customer', 'Upside'], keep=False)"
   ]
  },
  {
   "cell_type": "code",
   "execution_count": 34,
   "metadata": {
    "collapsed": true
   },
   "outputs": [],
   "source": [
    "df_upside_duplicates = pd.concat([df_upside_no_duplicates, df_upside]).drop_duplicates('Sr_No', keep=False)"
   ]
  },
  {
   "cell_type": "code",
   "execution_count": 35,
   "metadata": {
    "collapsed": true
   },
   "outputs": [],
   "source": [
    "writer = pd.ExcelWriter(apath+'Funnel_Findings.xlsx', engine='xlsxwriter')\n",
    "df_commit_no_duplicates.to_excel(writer, sheet_name='Commit_No_Dup')\n",
    "df_commit_duplicates.to_excel(writer, sheet_name='Commit_Dup')\n",
    "df_upside_no_duplicates.to_excel(writer, sheet_name='Upside_No_Dup')\n",
    "df_upside_duplicates.to_excel(writer, sheet_name='Upside_Dup')\n",
    "writer.save()"
   ]
  },
  {
   "cell_type": "code",
   "execution_count": null,
   "metadata": {
    "collapsed": true
   },
   "outputs": [],
   "source": []
  }
 ],
 "metadata": {
  "anaconda-cloud": {},
  "kernelspec": {
   "display_name": "Python [Root]",
   "language": "python",
   "name": "Python [Root]"
  },
  "language_info": {
   "codemirror_mode": {
    "name": "ipython",
    "version": 2
   },
   "file_extension": ".py",
   "mimetype": "text/x-python",
   "name": "python",
   "nbconvert_exporter": "python",
   "pygments_lexer": "ipython2",
   "version": "2.7.11"
  }
 },
 "nbformat": 4,
 "nbformat_minor": 0
}
