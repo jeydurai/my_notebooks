{
 "cells": [
  {
   "cell_type": "code",
   "execution_count": 1,
   "metadata": {
    "collapsed": false
   },
   "outputs": [
    {
     "name": "stdout",
     "output_type": "stream",
     "text": [
      "Populating the interactive namespace from numpy and matplotlib\n"
     ]
    }
   ],
   "source": [
    "from pandas import Series, DataFrame\n",
    "import pandas as pd\n",
    "import numpy as np\n",
    "from sqlalchemy import create_engine\n",
    "import csv\n",
    "from IPython.display import display, HTML\n",
    "from matplotlib import pyplot as plt\n",
    "%pylab inline\n",
    "pylab.rcParams['figure.figsize'] = (10, 6)\n",
    "import string\n",
    "import re\n",
    "pd.options.display.float_format = '${:10,.0f}'.format"
   ]
  },
  {
   "cell_type": "code",
   "execution_count": 2,
   "metadata": {
    "collapsed": false,
    "scrolled": true
   },
   "outputs": [],
   "source": [
    "xl = pd.ExcelFile('../com_booking_mapped_2016_Q3M3W4.xlsx')\n",
    "df_com = xl.parse('com_booking_mapped_2016')"
   ]
  },
  {
   "cell_type": "code",
   "execution_count": 3,
   "metadata": {
    "collapsed": false,
    "scrolled": true
   },
   "outputs": [],
   "source": [
    "xl = pd.ExcelFile('../ent_booking_mapped_2016_Q3M3W4.xlsx')\n",
    "df_ent = xl.parse('ent_booking_mapped_2016')"
   ]
  },
  {
   "cell_type": "code",
   "execution_count": 4,
   "metadata": {
    "collapsed": false
   },
   "outputs": [
    {
     "data": {
      "text/plain": [
       "321075780.12855506"
      ]
     },
     "execution_count": 4,
     "metadata": {},
     "output_type": "execute_result"
    }
   ],
   "source": [
    "grouped_a = df_com.groupby('fiscal_quarter_id')['booking_net'].sum()\n",
    "grouped_a.sum()"
   ]
  },
  {
   "cell_type": "code",
   "execution_count": 5,
   "metadata": {
    "collapsed": false
   },
   "outputs": [
    {
     "data": {
      "text/plain": [
       "324155585.8466296"
      ]
     },
     "execution_count": 5,
     "metadata": {},
     "output_type": "execute_result"
    }
   ],
   "source": [
    "grouped_b = df_ent.groupby('fiscal_quarter_id')['booking_net'].sum()\n",
    "grouped_b.sum()"
   ]
  },
  {
   "cell_type": "code",
   "execution_count": 6,
   "metadata": {
    "collapsed": false
   },
   "outputs": [
    {
     "data": {
      "text/plain": [
       "310435"
      ]
     },
     "execution_count": 6,
     "metadata": {},
     "output_type": "execute_result"
    }
   ],
   "source": [
    "len(df_com.index)"
   ]
  },
  {
   "cell_type": "code",
   "execution_count": 7,
   "metadata": {
    "collapsed": false
   },
   "outputs": [
    {
     "data": {
      "text/plain": [
       "226850"
      ]
     },
     "execution_count": 7,
     "metadata": {},
     "output_type": "execute_result"
    }
   ],
   "source": [
    "len(df_ent.index)"
   ]
  },
  {
   "cell_type": "code",
   "execution_count": 8,
   "metadata": {
    "collapsed": false
   },
   "outputs": [
    {
     "data": {
      "text/plain": [
       "Index([u'id', u'bookings_adjustments_code',\n",
       "       u'bookings_adjustments_description', u'bookings_adjustments_type',\n",
       "       u'at_attach', u'business_unit', u'customer_name', u'erp_deal_id',\n",
       "       u'sales_order_number_detail', u'fiscal_period_id', u'fiscal_quarter_id',\n",
       "       u'fiscal_week_id', u'partner_name', u'product_family', u'product_id',\n",
       "       u'tbm', u'sales_level_2', u'sales_level_3', u'sales_level_4',\n",
       "       u'sales_level_5', u'sales_level_6', u'scms', u'sub_scms',\n",
       "       u'tms_level_1_sales_allocated', u'tms_level_2_sales_allocated',\n",
       "       u'tms_level_3_sales_allocated', u'tms_level_4_sales_allocated',\n",
       "       u'technology_group', u'partner_tier_code', u'partner_certification',\n",
       "       u'partner_type', u'bill_to_site_city', u'ship_to_city', u'cbn_flag',\n",
       "       u'booking_net', u'internal_business_entity_name',\n",
       "       u'internal_sub_business_entity_name', u'services_indicator',\n",
       "       u'unique_name', u'mapable', u'mapped_name', u'gaining_sub_scms',\n",
       "       u'remarks', u'where_to', u'gaining_sales_level_2',\n",
       "       u'gaining_sales_level_3', u'gaining_sales_level_4',\n",
       "       u'gaining_sales_level_5', u'gaining_sales_level_6',\n",
       "       u'gaining_new_sales_level_2', u'gaining_new_sales_level_3',\n",
       "       u'gaining_new_sales_level_4', u'gaining_new_sales_level_5',\n",
       "       u'gaining_new_sales_level_6'],\n",
       "      dtype='object')"
      ]
     },
     "execution_count": 8,
     "metadata": {},
     "output_type": "execute_result"
    }
   ],
   "source": [
    "df_ent.columns"
   ]
  },
  {
   "cell_type": "code",
   "execution_count": 9,
   "metadata": {
    "collapsed": false
   },
   "outputs": [],
   "source": [
    "def create_new_com_cols(df):\n",
    "    #df.gaining_sales_level_2.fillna(df.new_sales_level_2, inplace=True)\n",
    "    df.gaining_sales_level_3.fillna(df.sales_level_3, inplace=True)\n",
    "    df.gaining_sales_level_4.fillna(df.sales_level_4, inplace=True)\n",
    "    df.gaining_sales_level_5.fillna(df.sales_level_5, inplace=True)\n",
    "    df.gaining_sales_level_6.fillna(df.sales_level_6, inplace=True)\n",
    "    return df\n",
    "\n",
    "def create_new_com_cols2(df):\n",
    "    #df.gaining_sales_level_2.fillna(df.sales_level_2, inplace=True)\n",
    "    df.gaining_sales_level_3.fillna(df.sales_level_3, inplace=True)\n",
    "    df.gaining_sales_level_4.fillna(df.sales_level_4, inplace=True)\n",
    "    df.gaining_sales_level_5.fillna(df.sales_level_5, inplace=True)\n",
    "    df.gaining_sales_level_6.fillna(df.sales_level_6, inplace=True)\n",
    "    return df\n",
    "\n",
    "df_com1 = create_new_com_cols(df_com)\n",
    "df_ent1 = create_new_com_cols2(df_ent)\n"
   ]
  },
  {
   "cell_type": "code",
   "execution_count": 10,
   "metadata": {
    "collapsed": true
   },
   "outputs": [],
   "source": [
    "df_com_no_cloud = df_com1[-df_com1.bookings_adjustments_code.str.startswith('LC')]\n",
    "df_ent_no_cloud = df_ent1[-df_ent1.bookings_adjustments_code.str.startswith('LC')]"
   ]
  },
  {
   "cell_type": "code",
   "execution_count": 11,
   "metadata": {
    "collapsed": false
   },
   "outputs": [],
   "source": [
    "df_com_prod_no_cloud = df_com[-df_com.bookings_adjustments_code.str.startswith('LC') & (df_com.services_indicator == 'N') & -(df_com.fiscal_period_id == 201612) & (df_com.mapable == 'Yes')]\n",
    "df_ent_prod_no_cloud = df_ent[-df_ent.bookings_adjustments_code.str.startswith('LC') & (df_ent.services_indicator == 'N') & -(df_ent.fiscal_period_id == 201612) & (df_ent.mapable == 'Yes')]"
   ]
  },
  {
   "cell_type": "code",
   "execution_count": null,
   "metadata": {
    "collapsed": false
   },
   "outputs": [],
   "source": [
    "cols = ['sales_level_2','sales_level_3','sales_level_4', 'sales_level_5','sales_level_6',\n",
    "        'customer_name', 'mapped_name', 'mapable', 'booking_net', 'sales_order_number_detail', 'tbm',\n",
    "       'gaining_sales_level_2','gaining_sales_level_3','gaining_sales_level_4', 'gaining_sales_level_5','gaining_sales_level_6',]\n",
    "df_com_moving_out = df_com_prod_no_cloud[cols]\n",
    "df_ent_moving_out = df_ent_prod_no_cloud[cols]\n",
    "df_com_moving_out.sales_level_2 = 'INDIA_AREA'\n",
    "df_com_moving_out.gaining_sales_level_5 = 'UNKNOWN'\n",
    "df_com_moving_out.gaining_sales_level_6 = 'UNKNOWN'\n",
    "df_ent_moving_out.sales_level_2 = 'INDIA_AREA'\n",
    "#df_ent_moving_out.gaining_sales_level_5 = 'UNKNOWN'\n",
    "#df_ent_moving_out.gaining_sales_level_6 = 'UNKNOWN'"
   ]
  },
  {
   "cell_type": "code",
   "execution_count": 15,
   "metadata": {
    "collapsed": false
   },
   "outputs": [
    {
     "data": {
      "text/plain": [
       "mapable\n",
       "Yes   $38,760,431\n",
       "Name: booking_net, dtype: float64"
      ]
     },
     "execution_count": 15,
     "metadata": {},
     "output_type": "execute_result"
    }
   ],
   "source": [
    "cols2 = ['sales_level_2','sales_level_3','sales_level_4', 'sales_level_5','sales_level_6',\n",
    "        'customer_name', 'mapped_name', 'sales_order_number_detail', 'tbm',\n",
    "       'gaining_sales_level_2','gaining_sales_level_3','gaining_sales_level_4', 'gaining_sales_level_5','gaining_sales_level_6',]\n",
    "df_ent_moving_out_grouped = DataFrame({'booking': df_ent_moving_out.groupby(cols2).booking_net.sum()}).reset_index()\n",
    "df_com_moving_out_grouped = DataFrame({'booking': df_com_moving_out.groupby(cols2).booking_net.sum()}).reset_index()\n",
    "df_com_moving_out.groupby(['mapable']).booking_net.sum()\n"
   ]
  },
  {
   "cell_type": "code",
   "execution_count": 16,
   "metadata": {
    "collapsed": true
   },
   "outputs": [],
   "source": [
    "writer = pd.ExcelWriter('../unique_com_account_movement_2016.xlsx', engine='xlsxwriter')\n",
    "df_com_moving_out_grouped.to_excel(writer, sheet_name='Moving_Out')\n",
    "df_ent_moving_out_grouped.to_excel(writer, sheet_name='Moving_In')\n",
    "writer.save()"
   ]
  },
  {
   "cell_type": "code",
   "execution_count": 17,
   "metadata": {
    "collapsed": true
   },
   "outputs": [],
   "source": [
    "df_all = pd.concat([df_com1, df_ent1])"
   ]
  },
  {
   "cell_type": "code",
   "execution_count": 18,
   "metadata": {
    "collapsed": true
   },
   "outputs": [],
   "source": [
    "df_all_no_cloud = pd.concat([df_com_no_cloud, df_ent_no_cloud])"
   ]
  },
  {
   "cell_type": "code",
   "execution_count": 21,
   "metadata": {
    "collapsed": false
   },
   "outputs": [
    {
     "data": {
      "text/html": [
       "<div>\n",
       "<table border=\"1\" class=\"dataframe\">\n",
       "  <thead>\n",
       "    <tr style=\"text-align: right;\">\n",
       "      <th>gaining_sales_level_3</th>\n",
       "      <th>INDIA_AREA-MISCL3</th>\n",
       "      <th>INDIA_COMM_1</th>\n",
       "      <th>INDIA_ENTERPRISE_1</th>\n",
       "      <th>INDIA_GROWTH_VERTICA</th>\n",
       "      <th>INDIA_MISC</th>\n",
       "      <th>All</th>\n",
       "    </tr>\n",
       "    <tr>\n",
       "      <th>mapable</th>\n",
       "      <th></th>\n",
       "      <th></th>\n",
       "      <th></th>\n",
       "      <th></th>\n",
       "      <th></th>\n",
       "      <th></th>\n",
       "    </tr>\n",
       "  </thead>\n",
       "  <tbody>\n",
       "    <tr>\n",
       "      <th>No</th>\n",
       "      <td>$   -61,071</td>\n",
       "      <td>$         0</td>\n",
       "      <td>$340,298,868</td>\n",
       "      <td>$13,266,036</td>\n",
       "      <td>$-30,552,840</td>\n",
       "      <td>$322,950,993</td>\n",
       "    </tr>\n",
       "    <tr>\n",
       "      <th>Yes</th>\n",
       "      <td>$         0</td>\n",
       "      <td>$11,718,791</td>\n",
       "      <td>$         0</td>\n",
       "      <td>$         0</td>\n",
       "      <td>$         0</td>\n",
       "      <td>$11,718,791</td>\n",
       "    </tr>\n",
       "    <tr>\n",
       "      <th>All</th>\n",
       "      <td>$   -61,071</td>\n",
       "      <td>$11,718,791</td>\n",
       "      <td>$340,298,868</td>\n",
       "      <td>$13,266,036</td>\n",
       "      <td>$-30,552,840</td>\n",
       "      <td>$334,669,784</td>\n",
       "    </tr>\n",
       "  </tbody>\n",
       "</table>\n",
       "</div>"
      ],
      "text/plain": [
       "gaining_sales_level_3  INDIA_AREA-MISCL3  INDIA_COMM_1  INDIA_ENTERPRISE_1  \\\n",
       "mapable                                                                      \n",
       "No                           $   -61,071   $         0        $340,298,868   \n",
       "Yes                          $         0   $11,718,791         $         0   \n",
       "All                          $   -61,071   $11,718,791        $340,298,868   \n",
       "\n",
       "gaining_sales_level_3  INDIA_GROWTH_VERTICA   INDIA_MISC          All  \n",
       "mapable                                                                \n",
       "No                              $13,266,036 $-30,552,840 $322,950,993  \n",
       "Yes                             $         0  $         0  $11,718,791  \n",
       "All                             $13,266,036 $-30,552,840 $334,669,784  "
      ]
     },
     "execution_count": 21,
     "metadata": {},
     "output_type": "execute_result"
    }
   ],
   "source": [
    "df_ent_no_cloud.pivot_table('booking_net', index=['mapable'], columns=['gaining_sales_level_3'], aggfunc=sum, margins=True, fill_value=0)"
   ]
  },
  {
   "cell_type": "code",
   "execution_count": 20,
   "metadata": {
    "collapsed": false
   },
   "outputs": [
    {
     "data": {
      "text/html": [
       "<div>\n",
       "<table border=\"1\" class=\"dataframe\">\n",
       "  <thead>\n",
       "    <tr style=\"text-align: right;\">\n",
       "      <th>fiscal_quarter_id</th>\n",
       "      <th>2016Q1</th>\n",
       "      <th>2016Q2</th>\n",
       "      <th>2016Q3</th>\n",
       "      <th>2016Q4</th>\n",
       "      <th>All</th>\n",
       "    </tr>\n",
       "    <tr>\n",
       "      <th>sales_level_3</th>\n",
       "      <th></th>\n",
       "      <th></th>\n",
       "      <th></th>\n",
       "      <th></th>\n",
       "      <th></th>\n",
       "    </tr>\n",
       "  </thead>\n",
       "  <tbody>\n",
       "    <tr>\n",
       "      <th>CLOUD OFFSET INDIA A</th>\n",
       "      <td>$-3,932,963</td>\n",
       "      <td>$-5,828,150</td>\n",
       "      <td>$-6,539,560</td>\n",
       "      <td>$-3,228,840</td>\n",
       "      <td>$-19,529,513</td>\n",
       "    </tr>\n",
       "    <tr>\n",
       "      <th>INDIA_AREA-MISCL3</th>\n",
       "      <td>$         0</td>\n",
       "      <td>$         0</td>\n",
       "      <td>$   -11,772</td>\n",
       "      <td>$   -49,298</td>\n",
       "      <td>$   -61,071</td>\n",
       "    </tr>\n",
       "    <tr>\n",
       "      <th>INDIA_COMM_1</th>\n",
       "      <td>$71,976,542</td>\n",
       "      <td>$76,795,124</td>\n",
       "      <td>$90,426,648</td>\n",
       "      <td>$81,877,466</td>\n",
       "      <td>$321,075,780</td>\n",
       "    </tr>\n",
       "    <tr>\n",
       "      <th>INDIA_ENTERPRISE_1</th>\n",
       "      <td>$73,582,364</td>\n",
       "      <td>$94,969,394</td>\n",
       "      <td>$108,192,484</td>\n",
       "      <td>$84,214,791</td>\n",
       "      <td>$360,959,033</td>\n",
       "    </tr>\n",
       "    <tr>\n",
       "      <th>INDIA_GROWTH_VERTICA</th>\n",
       "      <td>$ 3,605,264</td>\n",
       "      <td>$ 7,709,337</td>\n",
       "      <td>$   -60,951</td>\n",
       "      <td>$ 2,041,358</td>\n",
       "      <td>$13,295,007</td>\n",
       "    </tr>\n",
       "    <tr>\n",
       "      <th>INDIA_MISC</th>\n",
       "      <td>$-7,836,981</td>\n",
       "      <td>$-8,822,129</td>\n",
       "      <td>$-7,720,161</td>\n",
       "      <td>$-6,128,599</td>\n",
       "      <td>$-30,507,870</td>\n",
       "    </tr>\n",
       "    <tr>\n",
       "      <th>All</th>\n",
       "      <td>$137,394,226</td>\n",
       "      <td>$164,823,575</td>\n",
       "      <td>$184,286,688</td>\n",
       "      <td>$158,726,877</td>\n",
       "      <td>$645,231,366</td>\n",
       "    </tr>\n",
       "  </tbody>\n",
       "</table>\n",
       "</div>"
      ],
      "text/plain": [
       "fiscal_quarter_id          2016Q1       2016Q2       2016Q3       2016Q4  \\\n",
       "sales_level_3                                                              \n",
       "CLOUD OFFSET INDIA A  $-3,932,963  $-5,828,150  $-6,539,560  $-3,228,840   \n",
       "INDIA_AREA-MISCL3     $         0  $         0  $   -11,772  $   -49,298   \n",
       "INDIA_COMM_1          $71,976,542  $76,795,124  $90,426,648  $81,877,466   \n",
       "INDIA_ENTERPRISE_1    $73,582,364  $94,969,394 $108,192,484  $84,214,791   \n",
       "INDIA_GROWTH_VERTICA  $ 3,605,264  $ 7,709,337  $   -60,951  $ 2,041,358   \n",
       "INDIA_MISC            $-7,836,981  $-8,822,129  $-7,720,161  $-6,128,599   \n",
       "All                  $137,394,226 $164,823,575 $184,286,688 $158,726,877   \n",
       "\n",
       "fiscal_quarter_id             All  \n",
       "sales_level_3                      \n",
       "CLOUD OFFSET INDIA A $-19,529,513  \n",
       "INDIA_AREA-MISCL3     $   -61,071  \n",
       "INDIA_COMM_1         $321,075,780  \n",
       "INDIA_ENTERPRISE_1   $360,959,033  \n",
       "INDIA_GROWTH_VERTICA  $13,295,007  \n",
       "INDIA_MISC           $-30,507,870  \n",
       "All                  $645,231,366  "
      ]
     },
     "execution_count": 20,
     "metadata": {},
     "output_type": "execute_result"
    }
   ],
   "source": [
    "df_all.pivot_table(values='booking_net', index='sales_level_3', columns='fiscal_quarter_id', aggfunc=sum, margins=True)"
   ]
  },
  {
   "cell_type": "code",
   "execution_count": 22,
   "metadata": {
    "collapsed": false
   },
   "outputs": [
    {
     "data": {
      "text/html": [
       "<div>\n",
       "<table border=\"1\" class=\"dataframe\">\n",
       "  <thead>\n",
       "    <tr style=\"text-align: right;\">\n",
       "      <th>gaining_sales_level_3</th>\n",
       "      <th>GSP</th>\n",
       "      <th>INDIA_AREA-MISCL3</th>\n",
       "      <th>INDIA_COMM_1</th>\n",
       "      <th>INDIA_ENTERPRISE_1</th>\n",
       "      <th>INDIA_GROWTH_VERTICA</th>\n",
       "      <th>INDIA_MISC</th>\n",
       "      <th>All</th>\n",
       "    </tr>\n",
       "    <tr>\n",
       "      <th>mapable</th>\n",
       "      <th></th>\n",
       "      <th></th>\n",
       "      <th></th>\n",
       "      <th></th>\n",
       "      <th></th>\n",
       "      <th></th>\n",
       "      <th></th>\n",
       "    </tr>\n",
       "  </thead>\n",
       "  <tbody>\n",
       "    <tr>\n",
       "      <th>No</th>\n",
       "      <td>$         0</td>\n",
       "      <td>$   -61,071</td>\n",
       "      <td>$257,424,473</td>\n",
       "      <td>$340,298,868</td>\n",
       "      <td>$13,266,036</td>\n",
       "      <td>$-30,552,840</td>\n",
       "      <td>$580,375,466</td>\n",
       "    </tr>\n",
       "    <tr>\n",
       "      <th>Yes</th>\n",
       "      <td>$ 1,763,602</td>\n",
       "      <td>$         0</td>\n",
       "      <td>$11,718,791</td>\n",
       "      <td>$51,373,508</td>\n",
       "      <td>$         0</td>\n",
       "      <td>$         0</td>\n",
       "      <td>$64,855,900</td>\n",
       "    </tr>\n",
       "    <tr>\n",
       "      <th>All</th>\n",
       "      <td>$ 1,763,602</td>\n",
       "      <td>$   -61,071</td>\n",
       "      <td>$269,143,263</td>\n",
       "      <td>$391,672,375</td>\n",
       "      <td>$13,266,036</td>\n",
       "      <td>$-30,552,840</td>\n",
       "      <td>$645,231,366</td>\n",
       "    </tr>\n",
       "  </tbody>\n",
       "</table>\n",
       "</div>"
      ],
      "text/plain": [
       "gaining_sales_level_3         GSP  INDIA_AREA-MISCL3  INDIA_COMM_1  \\\n",
       "mapable                                                              \n",
       "No                    $         0        $   -61,071  $257,424,473   \n",
       "Yes                   $ 1,763,602        $         0   $11,718,791   \n",
       "All                   $ 1,763,602        $   -61,071  $269,143,263   \n",
       "\n",
       "gaining_sales_level_3  INDIA_ENTERPRISE_1  INDIA_GROWTH_VERTICA   INDIA_MISC  \\\n",
       "mapable                                                                        \n",
       "No                           $340,298,868           $13,266,036 $-30,552,840   \n",
       "Yes                           $51,373,508           $         0  $         0   \n",
       "All                          $391,672,375           $13,266,036 $-30,552,840   \n",
       "\n",
       "gaining_sales_level_3          All  \n",
       "mapable                             \n",
       "No                    $580,375,466  \n",
       "Yes                    $64,855,900  \n",
       "All                   $645,231,366  "
      ]
     },
     "execution_count": 22,
     "metadata": {},
     "output_type": "execute_result"
    }
   ],
   "source": [
    "df_all_no_cloud.pivot_table('booking_net', index=['mapable'], columns=['gaining_sales_level_3'], aggfunc=sum, margins=True, fill_value=0)"
   ]
  },
  {
   "cell_type": "code",
   "execution_count": 23,
   "metadata": {
    "collapsed": false
   },
   "outputs": [
    {
     "data": {
      "text/html": [
       "<div>\n",
       "<table border=\"1\" class=\"dataframe\">\n",
       "  <thead>\n",
       "    <tr style=\"text-align: right;\">\n",
       "      <th>sales_level_3</th>\n",
       "      <th>INDIA_AREA-MISCL3</th>\n",
       "      <th>INDIA_COMM_1</th>\n",
       "      <th>INDIA_ENTERPRISE_1</th>\n",
       "      <th>INDIA_GROWTH_VERTICA</th>\n",
       "      <th>INDIA_MISC</th>\n",
       "      <th>All</th>\n",
       "    </tr>\n",
       "    <tr>\n",
       "      <th>gaining_sales_level_3</th>\n",
       "      <th></th>\n",
       "      <th></th>\n",
       "      <th></th>\n",
       "      <th></th>\n",
       "      <th></th>\n",
       "      <th></th>\n",
       "    </tr>\n",
       "  </thead>\n",
       "  <tbody>\n",
       "    <tr>\n",
       "      <th>GSP</th>\n",
       "      <td>$         0</td>\n",
       "      <td>$ 1,763,602</td>\n",
       "      <td>$         0</td>\n",
       "      <td>$         0</td>\n",
       "      <td>$         0</td>\n",
       "      <td>$ 1,763,602</td>\n",
       "    </tr>\n",
       "    <tr>\n",
       "      <th>INDIA_AREA-MISCL3</th>\n",
       "      <td>$   -61,071</td>\n",
       "      <td>$         0</td>\n",
       "      <td>$         0</td>\n",
       "      <td>$         0</td>\n",
       "      <td>$         0</td>\n",
       "      <td>$   -61,071</td>\n",
       "    </tr>\n",
       "    <tr>\n",
       "      <th>INDIA_COMM_1</th>\n",
       "      <td>$         0</td>\n",
       "      <td>$257,424,473</td>\n",
       "      <td>$11,673,821</td>\n",
       "      <td>$         0</td>\n",
       "      <td>$    44,970</td>\n",
       "      <td>$269,143,263</td>\n",
       "    </tr>\n",
       "    <tr>\n",
       "      <th>INDIA_ENTERPRISE_1</th>\n",
       "      <td>$         0</td>\n",
       "      <td>$51,373,508</td>\n",
       "      <td>$340,298,868</td>\n",
       "      <td>$         0</td>\n",
       "      <td>$         0</td>\n",
       "      <td>$391,672,375</td>\n",
       "    </tr>\n",
       "    <tr>\n",
       "      <th>INDIA_GROWTH_VERTICA</th>\n",
       "      <td>$         0</td>\n",
       "      <td>$         0</td>\n",
       "      <td>$         0</td>\n",
       "      <td>$13,266,036</td>\n",
       "      <td>$         0</td>\n",
       "      <td>$13,266,036</td>\n",
       "    </tr>\n",
       "    <tr>\n",
       "      <th>INDIA_MISC</th>\n",
       "      <td>$         0</td>\n",
       "      <td>$         0</td>\n",
       "      <td>$         0</td>\n",
       "      <td>$         0</td>\n",
       "      <td>$-30,552,840</td>\n",
       "      <td>$-30,552,840</td>\n",
       "    </tr>\n",
       "    <tr>\n",
       "      <th>All</th>\n",
       "      <td>$   -61,071</td>\n",
       "      <td>$310,561,582</td>\n",
       "      <td>$351,972,688</td>\n",
       "      <td>$13,266,036</td>\n",
       "      <td>$-30,507,870</td>\n",
       "      <td>$645,231,366</td>\n",
       "    </tr>\n",
       "  </tbody>\n",
       "</table>\n",
       "</div>"
      ],
      "text/plain": [
       "sales_level_3          INDIA_AREA-MISCL3  INDIA_COMM_1  INDIA_ENTERPRISE_1  \\\n",
       "gaining_sales_level_3                                                        \n",
       "GSP                          $         0   $ 1,763,602         $         0   \n",
       "INDIA_AREA-MISCL3            $   -61,071   $         0         $         0   \n",
       "INDIA_COMM_1                 $         0  $257,424,473         $11,673,821   \n",
       "INDIA_ENTERPRISE_1           $         0   $51,373,508        $340,298,868   \n",
       "INDIA_GROWTH_VERTICA         $         0   $         0         $         0   \n",
       "INDIA_MISC                   $         0   $         0         $         0   \n",
       "All                          $   -61,071  $310,561,582        $351,972,688   \n",
       "\n",
       "sales_level_3          INDIA_GROWTH_VERTICA   INDIA_MISC          All  \n",
       "gaining_sales_level_3                                                  \n",
       "GSP                             $         0  $         0  $ 1,763,602  \n",
       "INDIA_AREA-MISCL3               $         0  $         0  $   -61,071  \n",
       "INDIA_COMM_1                    $         0  $    44,970 $269,143,263  \n",
       "INDIA_ENTERPRISE_1              $         0  $         0 $391,672,375  \n",
       "INDIA_GROWTH_VERTICA            $13,266,036  $         0  $13,266,036  \n",
       "INDIA_MISC                      $         0 $-30,552,840 $-30,552,840  \n",
       "All                             $13,266,036 $-30,507,870 $645,231,366  "
      ]
     },
     "execution_count": 23,
     "metadata": {},
     "output_type": "execute_result"
    }
   ],
   "source": [
    "df_all_no_cloud.pivot_table(values='booking_net', index=['gaining_sales_level_3'], columns='sales_level_3', aggfunc=sum, margins=True, fill_value=0)"
   ]
  },
  {
   "cell_type": "code",
   "execution_count": 24,
   "metadata": {
    "collapsed": true
   },
   "outputs": [],
   "source": [
    "df_prod_no_cloud = df_all_no_cloud[df_all_no_cloud.services_indicator == 'N']"
   ]
  },
  {
   "cell_type": "code",
   "execution_count": 25,
   "metadata": {
    "collapsed": false
   },
   "outputs": [
    {
     "data": {
      "text/html": [
       "<div>\n",
       "<table border=\"1\" class=\"dataframe\">\n",
       "  <thead>\n",
       "    <tr style=\"text-align: right;\">\n",
       "      <th>sales_level_3</th>\n",
       "      <th>INDIA_COMM_1</th>\n",
       "      <th>All</th>\n",
       "    </tr>\n",
       "    <tr>\n",
       "      <th>gaining_sales_level_3</th>\n",
       "      <th></th>\n",
       "      <th></th>\n",
       "    </tr>\n",
       "  </thead>\n",
       "  <tbody>\n",
       "    <tr>\n",
       "      <th>GSP</th>\n",
       "      <td>$   805,473</td>\n",
       "      <td>$   805,473</td>\n",
       "    </tr>\n",
       "    <tr>\n",
       "      <th>INDIA_COMM_1</th>\n",
       "      <td>$206,515,506</td>\n",
       "      <td>$206,515,506</td>\n",
       "    </tr>\n",
       "    <tr>\n",
       "      <th>INDIA_ENTERPRISE_1</th>\n",
       "      <td>$43,233,425</td>\n",
       "      <td>$43,233,425</td>\n",
       "    </tr>\n",
       "    <tr>\n",
       "      <th>All</th>\n",
       "      <td>$250,554,404</td>\n",
       "      <td>$250,554,404</td>\n",
       "    </tr>\n",
       "  </tbody>\n",
       "</table>\n",
       "</div>"
      ],
      "text/plain": [
       "sales_level_3          INDIA_COMM_1          All\n",
       "gaining_sales_level_3                           \n",
       "GSP                     $   805,473  $   805,473\n",
       "INDIA_COMM_1           $206,515,506 $206,515,506\n",
       "INDIA_ENTERPRISE_1      $43,233,425  $43,233,425\n",
       "All                    $250,554,404 $250,554,404"
      ]
     },
     "execution_count": 25,
     "metadata": {},
     "output_type": "execute_result"
    }
   ],
   "source": [
    "df_com_prod_no_cloud = df_com_no_cloud[df_com_no_cloud.services_indicator == 'N']\n",
    "df_com_prod_no_cloud.pivot_table(values='booking_net', index=['gaining_sales_level_3'], columns='sales_level_3', aggfunc=sum, margins=True, fill_value=0)"
   ]
  },
  {
   "cell_type": "code",
   "execution_count": 26,
   "metadata": {
    "collapsed": false
   },
   "outputs": [
    {
     "data": {
      "text/html": [
       "<div>\n",
       "<table border=\"1\" class=\"dataframe\">\n",
       "  <thead>\n",
       "    <tr style=\"text-align: right;\">\n",
       "      <th>sales_level_3</th>\n",
       "      <th>INDIA_AREA-MISCL3</th>\n",
       "      <th>INDIA_COMM_1</th>\n",
       "      <th>INDIA_ENTERPRISE_1</th>\n",
       "      <th>INDIA_GROWTH_VERTICA</th>\n",
       "      <th>INDIA_MISC</th>\n",
       "      <th>All</th>\n",
       "    </tr>\n",
       "    <tr>\n",
       "      <th>gaining_sales_level_3</th>\n",
       "      <th></th>\n",
       "      <th></th>\n",
       "      <th></th>\n",
       "      <th></th>\n",
       "      <th></th>\n",
       "      <th></th>\n",
       "    </tr>\n",
       "  </thead>\n",
       "  <tbody>\n",
       "    <tr>\n",
       "      <th>GSP</th>\n",
       "      <td>$         0</td>\n",
       "      <td>$   805,473</td>\n",
       "      <td>$         0</td>\n",
       "      <td>$         0</td>\n",
       "      <td>$         0</td>\n",
       "      <td>$   805,473</td>\n",
       "    </tr>\n",
       "    <tr>\n",
       "      <th>INDIA_AREA-MISCL3</th>\n",
       "      <td>$  -180,499</td>\n",
       "      <td>$         0</td>\n",
       "      <td>$         0</td>\n",
       "      <td>$         0</td>\n",
       "      <td>$         0</td>\n",
       "      <td>$  -180,499</td>\n",
       "    </tr>\n",
       "    <tr>\n",
       "      <th>INDIA_COMM_1</th>\n",
       "      <td>$         0</td>\n",
       "      <td>$206,515,506</td>\n",
       "      <td>$ 8,473,701</td>\n",
       "      <td>$         0</td>\n",
       "      <td>$   -20,238</td>\n",
       "      <td>$214,968,969</td>\n",
       "    </tr>\n",
       "    <tr>\n",
       "      <th>INDIA_ENTERPRISE_1</th>\n",
       "      <td>$         0</td>\n",
       "      <td>$43,233,425</td>\n",
       "      <td>$257,706,193</td>\n",
       "      <td>$         0</td>\n",
       "      <td>$         0</td>\n",
       "      <td>$300,939,619</td>\n",
       "    </tr>\n",
       "    <tr>\n",
       "      <th>INDIA_GROWTH_VERTICA</th>\n",
       "      <td>$         0</td>\n",
       "      <td>$         0</td>\n",
       "      <td>$         0</td>\n",
       "      <td>$12,928,981</td>\n",
       "      <td>$         0</td>\n",
       "      <td>$12,928,981</td>\n",
       "    </tr>\n",
       "    <tr>\n",
       "      <th>INDIA_MISC</th>\n",
       "      <td>$         0</td>\n",
       "      <td>$         0</td>\n",
       "      <td>$         0</td>\n",
       "      <td>$         0</td>\n",
       "      <td>$-23,194,159</td>\n",
       "      <td>$-23,194,159</td>\n",
       "    </tr>\n",
       "    <tr>\n",
       "      <th>All</th>\n",
       "      <td>$  -180,499</td>\n",
       "      <td>$250,554,404</td>\n",
       "      <td>$266,179,894</td>\n",
       "      <td>$12,928,981</td>\n",
       "      <td>$-23,214,397</td>\n",
       "      <td>$506,268,384</td>\n",
       "    </tr>\n",
       "  </tbody>\n",
       "</table>\n",
       "</div>"
      ],
      "text/plain": [
       "sales_level_3          INDIA_AREA-MISCL3  INDIA_COMM_1  INDIA_ENTERPRISE_1  \\\n",
       "gaining_sales_level_3                                                        \n",
       "GSP                          $         0   $   805,473         $         0   \n",
       "INDIA_AREA-MISCL3            $  -180,499   $         0         $         0   \n",
       "INDIA_COMM_1                 $         0  $206,515,506         $ 8,473,701   \n",
       "INDIA_ENTERPRISE_1           $         0   $43,233,425        $257,706,193   \n",
       "INDIA_GROWTH_VERTICA         $         0   $         0         $         0   \n",
       "INDIA_MISC                   $         0   $         0         $         0   \n",
       "All                          $  -180,499  $250,554,404        $266,179,894   \n",
       "\n",
       "sales_level_3          INDIA_GROWTH_VERTICA   INDIA_MISC          All  \n",
       "gaining_sales_level_3                                                  \n",
       "GSP                             $         0  $         0  $   805,473  \n",
       "INDIA_AREA-MISCL3               $         0  $         0  $  -180,499  \n",
       "INDIA_COMM_1                    $         0  $   -20,238 $214,968,969  \n",
       "INDIA_ENTERPRISE_1              $         0  $         0 $300,939,619  \n",
       "INDIA_GROWTH_VERTICA            $12,928,981  $         0  $12,928,981  \n",
       "INDIA_MISC                      $         0 $-23,194,159 $-23,194,159  \n",
       "All                             $12,928,981 $-23,214,397 $506,268,384  "
      ]
     },
     "execution_count": 26,
     "metadata": {},
     "output_type": "execute_result"
    }
   ],
   "source": [
    "df_prod_no_cloud.pivot_table(values='booking_net', index=['gaining_sales_level_3'], columns='sales_level_3', aggfunc=sum, margins=True, fill_value=0)"
   ]
  },
  {
   "cell_type": "code",
   "execution_count": 27,
   "metadata": {
    "collapsed": false
   },
   "outputs": [],
   "source": [
    "df_com_funnel = pd.read_excel('../com_funnel_mapped.xlsx')\n",
    "df_ent_funnel = pd.read_excel('../ent_funnel_mapped.xlsx')"
   ]
  },
  {
   "cell_type": "code",
   "execution_count": 28,
   "metadata": {
    "collapsed": false
   },
   "outputs": [
    {
     "data": {
      "text/plain": [
       "Index([u'sales coverage code', u'level 01 territory', u'level 02 territory',\n",
       "       u'level 03 territory', u'level 04 territory', u'level 05 territory',\n",
       "       u'level 06 territory', u'opportunity owner', u'opportunity owner alias',\n",
       "       u'forecasting position', u'customer_name', u'account name (english)',\n",
       "       u'primary partner', u'expected product ($000s) (converted) currency',\n",
       "       u'expected product ($000s) (converted)',\n",
       "       u'opportunity line value ($000s) (converted) currency',\n",
       "       u'opportunity line value ($000s) (converted)',\n",
       "       u'expected product discount%', u'deal id', u'sales path',\n",
       "       u'technology & service name', u'mix %', u'opportunity status',\n",
       "       u'forecast status', u'stage', u'opportunity name',\n",
       "       u'expected book date', u'created date', u'fiscal period',\n",
       "       u'fiscal month', u'fiscal week of month', u'fiscal week',\n",
       "       u'fiscal month of qtr', u'deals desk status',\n",
       "       u'opportunity owner email', u'opportunity id', u'product family',\n",
       "       u'close probability %', u'waves', u'competitors', u'cloud deal?',\n",
       "       u'is cisco capital engaged?', u'unique oppid', u'range', u'arch map',\n",
       "       u'account name.', u'sub be', u'fiscal week of qtr', u'account_id',\n",
       "       u'dl_date', u'unique_name', u'mapable', u'mapped_name',\n",
       "       u'gaining_sub_scms', u'remarks', u'where_to', u'gaining_sales_level_2',\n",
       "       u'gaining_sales_level_3', u'gaining_sales_level_4',\n",
       "       u'gaining_sales_level_5', u'gaining_sales_level_6',\n",
       "       u'gaining_new_sales_level_2', u'gaining_new_sales_level_3',\n",
       "       u'gaining_new_sales_level_4', u'gaining_new_sales_level_5',\n",
       "       u'gaining_new_sales_level_6'],\n",
       "      dtype='object')"
      ]
     },
     "execution_count": 28,
     "metadata": {},
     "output_type": "execute_result"
    }
   ],
   "source": [
    "df_com_funnel.columns"
   ]
  },
  {
   "cell_type": "code",
   "execution_count": 29,
   "metadata": {
    "collapsed": false
   },
   "outputs": [
    {
     "data": {
      "text/html": [
       "<div>\n",
       "<table border=\"1\" class=\"dataframe\">\n",
       "  <thead>\n",
       "    <tr style=\"text-align: right;\">\n",
       "      <th>forecast status</th>\n",
       "      <th>Commit</th>\n",
       "      <th>Not Forecastable</th>\n",
       "      <th>Upside</th>\n",
       "      <th>All</th>\n",
       "    </tr>\n",
       "    <tr>\n",
       "      <th>level 03 territory</th>\n",
       "      <th></th>\n",
       "      <th></th>\n",
       "      <th></th>\n",
       "      <th></th>\n",
       "    </tr>\n",
       "  </thead>\n",
       "  <tbody>\n",
       "    <tr>\n",
       "      <th>INDIA_COMM_1</th>\n",
       "      <td>$    68,519</td>\n",
       "      <td>$    22,252</td>\n",
       "      <td>$   185,803</td>\n",
       "      <td>$   276,574</td>\n",
       "    </tr>\n",
       "    <tr>\n",
       "      <th>INDIA_ENTERPRISE_1</th>\n",
       "      <td>$   106,000</td>\n",
       "      <td>$   443,771</td>\n",
       "      <td>$   412,052</td>\n",
       "      <td>$   961,823</td>\n",
       "    </tr>\n",
       "    <tr>\n",
       "      <th>INDIA_GROWTH_VERTICAL</th>\n",
       "      <td>$     2,500</td>\n",
       "      <td>$    30,002</td>\n",
       "      <td>$    11,163</td>\n",
       "      <td>$    43,665</td>\n",
       "    </tr>\n",
       "    <tr>\n",
       "      <th>All</th>\n",
       "      <td>$   177,019</td>\n",
       "      <td>$   496,025</td>\n",
       "      <td>$   609,018</td>\n",
       "      <td>$ 1,282,062</td>\n",
       "    </tr>\n",
       "  </tbody>\n",
       "</table>\n",
       "</div>"
      ],
      "text/plain": [
       "forecast status            Commit  Not Forecastable      Upside         All\n",
       "level 03 territory                                                         \n",
       "INDIA_COMM_1          $    68,519       $    22,252 $   185,803 $   276,574\n",
       "INDIA_ENTERPRISE_1    $   106,000       $   443,771 $   412,052 $   961,823\n",
       "INDIA_GROWTH_VERTICAL $     2,500       $    30,002 $    11,163 $    43,665\n",
       "All                   $   177,019       $   496,025 $   609,018 $ 1,282,062"
      ]
     },
     "execution_count": 29,
     "metadata": {},
     "output_type": "execute_result"
    }
   ],
   "source": [
    "df_com_funnel.pivot_table(values='opportunity line value ($000s) (converted)', index='level 03 territory', columns='forecast status', aggfunc=sum, margins=True, fill_value=0)"
   ]
  },
  {
   "cell_type": "code",
   "execution_count": 30,
   "metadata": {
    "collapsed": false
   },
   "outputs": [
    {
     "data": {
      "text/html": [
       "<div>\n",
       "<table border=\"1\" class=\"dataframe\">\n",
       "  <thead>\n",
       "    <tr style=\"text-align: right;\">\n",
       "      <th>forecast status</th>\n",
       "      <th>Commit</th>\n",
       "      <th>Not Forecastable</th>\n",
       "      <th>Upside</th>\n",
       "      <th>All</th>\n",
       "    </tr>\n",
       "    <tr>\n",
       "      <th>level 03 territory</th>\n",
       "      <th></th>\n",
       "      <th></th>\n",
       "      <th></th>\n",
       "      <th></th>\n",
       "    </tr>\n",
       "  </thead>\n",
       "  <tbody>\n",
       "    <tr>\n",
       "      <th>INDIA_COMM_1</th>\n",
       "      <td>$    68,519</td>\n",
       "      <td>$    22,252</td>\n",
       "      <td>$   185,803</td>\n",
       "      <td>$   276,574</td>\n",
       "    </tr>\n",
       "    <tr>\n",
       "      <th>INDIA_ENTERPRISE_1</th>\n",
       "      <td>$   106,000</td>\n",
       "      <td>$   443,771</td>\n",
       "      <td>$   412,052</td>\n",
       "      <td>$   961,823</td>\n",
       "    </tr>\n",
       "    <tr>\n",
       "      <th>INDIA_GROWTH_VERTICAL</th>\n",
       "      <td>$     2,500</td>\n",
       "      <td>$    30,002</td>\n",
       "      <td>$    11,163</td>\n",
       "      <td>$    43,665</td>\n",
       "    </tr>\n",
       "    <tr>\n",
       "      <th>All</th>\n",
       "      <td>$   177,019</td>\n",
       "      <td>$   496,025</td>\n",
       "      <td>$   609,018</td>\n",
       "      <td>$ 1,282,062</td>\n",
       "    </tr>\n",
       "  </tbody>\n",
       "</table>\n",
       "</div>"
      ],
      "text/plain": [
       "forecast status            Commit  Not Forecastable      Upside         All\n",
       "level 03 territory                                                         \n",
       "INDIA_COMM_1          $    68,519       $    22,252 $   185,803 $   276,574\n",
       "INDIA_ENTERPRISE_1    $   106,000       $   443,771 $   412,052 $   961,823\n",
       "INDIA_GROWTH_VERTICAL $     2,500       $    30,002 $    11,163 $    43,665\n",
       "All                   $   177,019       $   496,025 $   609,018 $ 1,282,062"
      ]
     },
     "execution_count": 30,
     "metadata": {},
     "output_type": "execute_result"
    }
   ],
   "source": [
    "df_ent_funnel.pivot_table(values='opportunity line value ($000s) (converted)', index='level 03 territory', columns='forecast status', aggfunc=sum, margins=True, fill_value=0)"
   ]
  },
  {
   "cell_type": "code",
   "execution_count": 31,
   "metadata": {
    "collapsed": true
   },
   "outputs": [],
   "source": [
    "df_com_funnel = df_com_funnel[df_com_funnel['level 03 territory'] == 'INDIA_COMM_1']\n",
    "df_ent_funnel = df_ent_funnel[-(df_ent_funnel['level 03 territory'] == 'INDIA_COMM_1')]"
   ]
  },
  {
   "cell_type": "code",
   "execution_count": 32,
   "metadata": {
    "collapsed": false
   },
   "outputs": [
    {
     "data": {
      "text/html": [
       "<div>\n",
       "<table border=\"1\" class=\"dataframe\">\n",
       "  <thead>\n",
       "    <tr style=\"text-align: right;\">\n",
       "      <th>forecast status</th>\n",
       "      <th>Commit</th>\n",
       "      <th>Not Forecastable</th>\n",
       "      <th>Upside</th>\n",
       "      <th>All</th>\n",
       "    </tr>\n",
       "    <tr>\n",
       "      <th>level 03 territory</th>\n",
       "      <th></th>\n",
       "      <th></th>\n",
       "      <th></th>\n",
       "      <th></th>\n",
       "    </tr>\n",
       "  </thead>\n",
       "  <tbody>\n",
       "    <tr>\n",
       "      <th>INDIA_COMM_1</th>\n",
       "      <td>$    68,519</td>\n",
       "      <td>$    22,252</td>\n",
       "      <td>$   185,803</td>\n",
       "      <td>$   276,574</td>\n",
       "    </tr>\n",
       "    <tr>\n",
       "      <th>All</th>\n",
       "      <td>$    68,519</td>\n",
       "      <td>$    22,252</td>\n",
       "      <td>$   185,803</td>\n",
       "      <td>$   276,574</td>\n",
       "    </tr>\n",
       "  </tbody>\n",
       "</table>\n",
       "</div>"
      ],
      "text/plain": [
       "forecast status         Commit  Not Forecastable      Upside         All\n",
       "level 03 territory                                                      \n",
       "INDIA_COMM_1       $    68,519       $    22,252 $   185,803 $   276,574\n",
       "All                $    68,519       $    22,252 $   185,803 $   276,574"
      ]
     },
     "execution_count": 32,
     "metadata": {},
     "output_type": "execute_result"
    }
   ],
   "source": [
    "df_com_funnel.pivot_table(values='opportunity line value ($000s) (converted)', index='level 03 territory', columns='forecast status', aggfunc=sum, margins=True, fill_value=0)"
   ]
  },
  {
   "cell_type": "code",
   "execution_count": 33,
   "metadata": {
    "collapsed": false
   },
   "outputs": [
    {
     "data": {
      "text/html": [
       "<div>\n",
       "<table border=\"1\" class=\"dataframe\">\n",
       "  <thead>\n",
       "    <tr style=\"text-align: right;\">\n",
       "      <th>forecast status</th>\n",
       "      <th>Commit</th>\n",
       "      <th>Not Forecastable</th>\n",
       "      <th>Upside</th>\n",
       "      <th>All</th>\n",
       "    </tr>\n",
       "    <tr>\n",
       "      <th>level 03 territory</th>\n",
       "      <th></th>\n",
       "      <th></th>\n",
       "      <th></th>\n",
       "      <th></th>\n",
       "    </tr>\n",
       "  </thead>\n",
       "  <tbody>\n",
       "    <tr>\n",
       "      <th>INDIA_ENTERPRISE_1</th>\n",
       "      <td>$   106,000</td>\n",
       "      <td>$   443,771</td>\n",
       "      <td>$   412,052</td>\n",
       "      <td>$   961,823</td>\n",
       "    </tr>\n",
       "    <tr>\n",
       "      <th>INDIA_GROWTH_VERTICAL</th>\n",
       "      <td>$     2,500</td>\n",
       "      <td>$    30,002</td>\n",
       "      <td>$    11,163</td>\n",
       "      <td>$    43,665</td>\n",
       "    </tr>\n",
       "    <tr>\n",
       "      <th>All</th>\n",
       "      <td>$   108,500</td>\n",
       "      <td>$   473,773</td>\n",
       "      <td>$   423,215</td>\n",
       "      <td>$ 1,005,488</td>\n",
       "    </tr>\n",
       "  </tbody>\n",
       "</table>\n",
       "</div>"
      ],
      "text/plain": [
       "forecast status            Commit  Not Forecastable      Upside         All\n",
       "level 03 territory                                                         \n",
       "INDIA_ENTERPRISE_1    $   106,000       $   443,771 $   412,052 $   961,823\n",
       "INDIA_GROWTH_VERTICAL $     2,500       $    30,002 $    11,163 $    43,665\n",
       "All                   $   108,500       $   473,773 $   423,215 $ 1,005,488"
      ]
     },
     "execution_count": 33,
     "metadata": {},
     "output_type": "execute_result"
    }
   ],
   "source": [
    "df_ent_funnel.pivot_table(values='opportunity line value ($000s) (converted)', index='level 03 territory', columns='forecast status', aggfunc=sum, margins=True, fill_value=0)"
   ]
  },
  {
   "cell_type": "code",
   "execution_count": 34,
   "metadata": {
    "collapsed": true
   },
   "outputs": [],
   "source": [
    "df_funnel = pd.concat([df_com_funnel, df_ent_funnel])"
   ]
  },
  {
   "cell_type": "code",
   "execution_count": 35,
   "metadata": {
    "collapsed": false
   },
   "outputs": [
    {
     "data": {
      "text/html": [
       "<div>\n",
       "<table border=\"1\" class=\"dataframe\">\n",
       "  <thead>\n",
       "    <tr>\n",
       "      <th>forecast status</th>\n",
       "      <th colspan=\"5\" halign=\"left\">Commit</th>\n",
       "      <th colspan=\"5\" halign=\"left\">Not Forecastable</th>\n",
       "      <th colspan=\"5\" halign=\"left\">Upside</th>\n",
       "      <th>All</th>\n",
       "    </tr>\n",
       "    <tr>\n",
       "      <th>fiscal period</th>\n",
       "      <th>Q1-2017</th>\n",
       "      <th>Q2-2017</th>\n",
       "      <th>Q3-2017</th>\n",
       "      <th>Q4-2016</th>\n",
       "      <th>Q4-2017</th>\n",
       "      <th>Q1-2017</th>\n",
       "      <th>Q2-2017</th>\n",
       "      <th>Q3-2017</th>\n",
       "      <th>Q4-2016</th>\n",
       "      <th>Q4-2017</th>\n",
       "      <th>Q1-2017</th>\n",
       "      <th>Q2-2017</th>\n",
       "      <th>Q3-2017</th>\n",
       "      <th>Q4-2016</th>\n",
       "      <th>Q4-2017</th>\n",
       "      <th></th>\n",
       "    </tr>\n",
       "    <tr>\n",
       "      <th>gaining_sales_level_3</th>\n",
       "      <th></th>\n",
       "      <th></th>\n",
       "      <th></th>\n",
       "      <th></th>\n",
       "      <th></th>\n",
       "      <th></th>\n",
       "      <th></th>\n",
       "      <th></th>\n",
       "      <th></th>\n",
       "      <th></th>\n",
       "      <th></th>\n",
       "      <th></th>\n",
       "      <th></th>\n",
       "      <th></th>\n",
       "      <th></th>\n",
       "      <th></th>\n",
       "    </tr>\n",
       "  </thead>\n",
       "  <tbody>\n",
       "    <tr>\n",
       "      <th>GET</th>\n",
       "      <td>$         0</td>\n",
       "      <td>$         0</td>\n",
       "      <td>$         0</td>\n",
       "      <td>$         0</td>\n",
       "      <td>$         0</td>\n",
       "      <td>$         0</td>\n",
       "      <td>$         0</td>\n",
       "      <td>$         0</td>\n",
       "      <td>$        10</td>\n",
       "      <td>$         0</td>\n",
       "      <td>$         0</td>\n",
       "      <td>$         0</td>\n",
       "      <td>$         0</td>\n",
       "      <td>$         0</td>\n",
       "      <td>$         0</td>\n",
       "      <td>$        10</td>\n",
       "    </tr>\n",
       "    <tr>\n",
       "      <th>GSP</th>\n",
       "      <td>$        37</td>\n",
       "      <td>$       242</td>\n",
       "      <td>$       220</td>\n",
       "      <td>$        25</td>\n",
       "      <td>$        60</td>\n",
       "      <td>$       200</td>\n",
       "      <td>$         0</td>\n",
       "      <td>$       100</td>\n",
       "      <td>$        20</td>\n",
       "      <td>$         0</td>\n",
       "      <td>$       536</td>\n",
       "      <td>$     1,697</td>\n",
       "      <td>$         0</td>\n",
       "      <td>$       146</td>\n",
       "      <td>$         0</td>\n",
       "      <td>$     3,283</td>\n",
       "    </tr>\n",
       "    <tr>\n",
       "      <th>INDIA_COMM_1</th>\n",
       "      <td>$       337</td>\n",
       "      <td>$       171</td>\n",
       "      <td>$         0</td>\n",
       "      <td>$       846</td>\n",
       "      <td>$         2</td>\n",
       "      <td>$       175</td>\n",
       "      <td>$        18</td>\n",
       "      <td>$        16</td>\n",
       "      <td>$       475</td>\n",
       "      <td>$        20</td>\n",
       "      <td>$     2,937</td>\n",
       "      <td>$     2,740</td>\n",
       "      <td>$       800</td>\n",
       "      <td>$     1,423</td>\n",
       "      <td>$     1,100</td>\n",
       "      <td>$    11,060</td>\n",
       "    </tr>\n",
       "    <tr>\n",
       "      <th>INDIA_ENTERPRISE_1</th>\n",
       "      <td>$     2,293</td>\n",
       "      <td>$       533</td>\n",
       "      <td>$       174</td>\n",
       "      <td>$     3,851</td>\n",
       "      <td>$        47</td>\n",
       "      <td>$       958</td>\n",
       "      <td>$        26</td>\n",
       "      <td>$        53</td>\n",
       "      <td>$       369</td>\n",
       "      <td>$         0</td>\n",
       "      <td>$     6,762</td>\n",
       "      <td>$     2,939</td>\n",
       "      <td>$         6</td>\n",
       "      <td>$     4,210</td>\n",
       "      <td>$    10,080</td>\n",
       "      <td>$    32,301</td>\n",
       "    </tr>\n",
       "    <tr>\n",
       "      <th>All</th>\n",
       "      <td>$     2,667</td>\n",
       "      <td>$       946</td>\n",
       "      <td>$       394</td>\n",
       "      <td>$     4,722</td>\n",
       "      <td>$       109</td>\n",
       "      <td>$     1,333</td>\n",
       "      <td>$        44</td>\n",
       "      <td>$       169</td>\n",
       "      <td>$       874</td>\n",
       "      <td>$        20</td>\n",
       "      <td>$    10,235</td>\n",
       "      <td>$     7,376</td>\n",
       "      <td>$       806</td>\n",
       "      <td>$     5,779</td>\n",
       "      <td>$    11,180</td>\n",
       "      <td>$    46,654</td>\n",
       "    </tr>\n",
       "  </tbody>\n",
       "</table>\n",
       "</div>"
      ],
      "text/plain": [
       "forecast status            Commit                                      \\\n",
       "fiscal period             Q1-2017     Q2-2017     Q3-2017     Q4-2016   \n",
       "gaining_sales_level_3                                                   \n",
       "GET                   $         0 $         0 $         0 $         0   \n",
       "GSP                   $        37 $       242 $       220 $        25   \n",
       "INDIA_COMM_1          $       337 $       171 $         0 $       846   \n",
       "INDIA_ENTERPRISE_1    $     2,293 $       533 $       174 $     3,851   \n",
       "All                   $     2,667 $       946 $       394 $     4,722   \n",
       "\n",
       "forecast status                   Not Forecastable                          \\\n",
       "fiscal period             Q4-2017          Q1-2017     Q2-2017     Q3-2017   \n",
       "gaining_sales_level_3                                                        \n",
       "GET                   $         0      $         0 $         0 $         0   \n",
       "GSP                   $        60      $       200 $         0 $       100   \n",
       "INDIA_COMM_1          $         2      $       175 $        18 $        16   \n",
       "INDIA_ENTERPRISE_1    $        47      $       958 $        26 $        53   \n",
       "All                   $       109      $     1,333 $        44 $       169   \n",
       "\n",
       "forecast status                                    Upside              \\\n",
       "fiscal period             Q4-2016     Q4-2017     Q1-2017     Q2-2017   \n",
       "gaining_sales_level_3                                                   \n",
       "GET                   $        10 $         0 $         0 $         0   \n",
       "GSP                   $        20 $         0 $       536 $     1,697   \n",
       "INDIA_COMM_1          $       475 $        20 $     2,937 $     2,740   \n",
       "INDIA_ENTERPRISE_1    $       369 $         0 $     6,762 $     2,939   \n",
       "All                   $       874 $        20 $    10,235 $     7,376   \n",
       "\n",
       "forecast status                                                   All  \n",
       "fiscal period             Q3-2017     Q4-2016     Q4-2017              \n",
       "gaining_sales_level_3                                                  \n",
       "GET                   $         0 $         0 $         0 $        10  \n",
       "GSP                   $         0 $       146 $         0 $     3,283  \n",
       "INDIA_COMM_1          $       800 $     1,423 $     1,100 $    11,060  \n",
       "INDIA_ENTERPRISE_1    $         6 $     4,210 $    10,080 $    32,301  \n",
       "All                   $       806 $     5,779 $    11,180 $    46,654  "
      ]
     },
     "execution_count": 35,
     "metadata": {},
     "output_type": "execute_result"
    }
   ],
   "source": [
    "#df_funnel.columns\n",
    "df_funnel.pivot_table(values='opportunity line value ($000s) (converted)', index='gaining_sales_level_3', columns=['forecast status','fiscal period'], aggfunc=sum, margins=True, fill_value=0)"
   ]
  },
  {
   "cell_type": "code",
   "execution_count": 36,
   "metadata": {
    "collapsed": true
   },
   "outputs": [],
   "source": [
    "def create_new_com_cols(df):\n",
    "    #df.gaining_sales_level_2.fillna(df.new_sales_level_2, inplace=True)\n",
    "    df.gaining_sales_level_3.fillna(df['level 03 territory'], inplace=True)\n",
    "    df.gaining_sales_level_4.fillna(df['level 04 territory'], inplace=True)\n",
    "    df.gaining_sales_level_5.fillna(df['level 05 territory'], inplace=True)\n",
    "    df.gaining_sales_level_6.fillna(df['level 06 territory'], inplace=True)\n",
    "    return df\n",
    "\n",
    "df_funnel = create_new_com_cols(df_funnel)"
   ]
  },
  {
   "cell_type": "code",
   "execution_count": 37,
   "metadata": {
    "collapsed": false
   },
   "outputs": [
    {
     "data": {
      "text/html": [
       "<div>\n",
       "<table border=\"1\" class=\"dataframe\">\n",
       "  <thead>\n",
       "    <tr>\n",
       "      <th>forecast status</th>\n",
       "      <th colspan=\"5\" halign=\"left\">Commit</th>\n",
       "      <th colspan=\"5\" halign=\"left\">Not Forecastable</th>\n",
       "      <th colspan=\"5\" halign=\"left\">Upside</th>\n",
       "      <th>All</th>\n",
       "    </tr>\n",
       "    <tr>\n",
       "      <th>fiscal period</th>\n",
       "      <th>Q1-2017</th>\n",
       "      <th>Q2-2017</th>\n",
       "      <th>Q3-2017</th>\n",
       "      <th>Q4-2016</th>\n",
       "      <th>Q4-2017</th>\n",
       "      <th>Q1-2017</th>\n",
       "      <th>Q2-2017</th>\n",
       "      <th>Q3-2017</th>\n",
       "      <th>Q4-2016</th>\n",
       "      <th>Q4-2017</th>\n",
       "      <th>Q1-2017</th>\n",
       "      <th>Q2-2017</th>\n",
       "      <th>Q3-2017</th>\n",
       "      <th>Q4-2016</th>\n",
       "      <th>Q4-2017</th>\n",
       "      <th></th>\n",
       "    </tr>\n",
       "    <tr>\n",
       "      <th>gaining_sales_level_4</th>\n",
       "      <th></th>\n",
       "      <th></th>\n",
       "      <th></th>\n",
       "      <th></th>\n",
       "      <th></th>\n",
       "      <th></th>\n",
       "      <th></th>\n",
       "      <th></th>\n",
       "      <th></th>\n",
       "      <th></th>\n",
       "      <th></th>\n",
       "      <th></th>\n",
       "      <th></th>\n",
       "      <th></th>\n",
       "      <th></th>\n",
       "      <th></th>\n",
       "    </tr>\n",
       "  </thead>\n",
       "  <tbody>\n",
       "    <tr>\n",
       "      <th>GET</th>\n",
       "      <td>$         0</td>\n",
       "      <td>$         0</td>\n",
       "      <td>$         0</td>\n",
       "      <td>$         0</td>\n",
       "      <td>$         0</td>\n",
       "      <td>$         0</td>\n",
       "      <td>$         0</td>\n",
       "      <td>$         0</td>\n",
       "      <td>$        10</td>\n",
       "      <td>$         0</td>\n",
       "      <td>$         0</td>\n",
       "      <td>$         0</td>\n",
       "      <td>$         0</td>\n",
       "      <td>$         0</td>\n",
       "      <td>$         0</td>\n",
       "      <td>$        10</td>\n",
       "    </tr>\n",
       "    <tr>\n",
       "      <th>GSP</th>\n",
       "      <td>$        37</td>\n",
       "      <td>$       242</td>\n",
       "      <td>$       220</td>\n",
       "      <td>$        25</td>\n",
       "      <td>$        60</td>\n",
       "      <td>$       200</td>\n",
       "      <td>$         0</td>\n",
       "      <td>$       100</td>\n",
       "      <td>$        20</td>\n",
       "      <td>$         0</td>\n",
       "      <td>$       536</td>\n",
       "      <td>$     1,697</td>\n",
       "      <td>$         0</td>\n",
       "      <td>$       146</td>\n",
       "      <td>$         0</td>\n",
       "      <td>$     3,283</td>\n",
       "    </tr>\n",
       "    <tr>\n",
       "      <th>INDIA_COMM_EU1_SOUTH</th>\n",
       "      <td>$     8,526</td>\n",
       "      <td>$     4,740</td>\n",
       "      <td>$     1,791</td>\n",
       "      <td>$     8,455</td>\n",
       "      <td>$       859</td>\n",
       "      <td>$     1,967</td>\n",
       "      <td>$       504</td>\n",
       "      <td>$       385</td>\n",
       "      <td>$     2,212</td>\n",
       "      <td>$        33</td>\n",
       "      <td>$    17,309</td>\n",
       "      <td>$     8,670</td>\n",
       "      <td>$     1,312</td>\n",
       "      <td>$     6,563</td>\n",
       "      <td>$     1,319</td>\n",
       "      <td>$    64,645</td>\n",
       "    </tr>\n",
       "    <tr>\n",
       "      <th>INDIA_COMM_EU2_WEST</th>\n",
       "      <td>$     3,767</td>\n",
       "      <td>$       394</td>\n",
       "      <td>$         0</td>\n",
       "      <td>$     5,715</td>\n",
       "      <td>$       927</td>\n",
       "      <td>$       511</td>\n",
       "      <td>$       287</td>\n",
       "      <td>$     1,116</td>\n",
       "      <td>$     3,752</td>\n",
       "      <td>$         0</td>\n",
       "      <td>$    22,707</td>\n",
       "      <td>$     4,031</td>\n",
       "      <td>$     2,740</td>\n",
       "      <td>$    10,431</td>\n",
       "      <td>$     2,651</td>\n",
       "      <td>$    59,029</td>\n",
       "    </tr>\n",
       "    <tr>\n",
       "      <th>INDIA_COMM_EU3_NE_SAARC</th>\n",
       "      <td>$     9,823</td>\n",
       "      <td>$     8,011</td>\n",
       "      <td>$       814</td>\n",
       "      <td>$     6,120</td>\n",
       "      <td>$     2,451</td>\n",
       "      <td>$     1,588</td>\n",
       "      <td>$     1,771</td>\n",
       "      <td>$     3,211</td>\n",
       "      <td>$     3,350</td>\n",
       "      <td>$       533</td>\n",
       "      <td>$    45,527</td>\n",
       "      <td>$    32,716</td>\n",
       "      <td>$     2,269</td>\n",
       "      <td>$     8,635</td>\n",
       "      <td>$     1,547</td>\n",
       "      <td>$   128,366</td>\n",
       "    </tr>\n",
       "    <tr>\n",
       "      <th>INDIA_ENT_FSI</th>\n",
       "      <td>$     3,987</td>\n",
       "      <td>$     2,747</td>\n",
       "      <td>$        46</td>\n",
       "      <td>$     5,187</td>\n",
       "      <td>$     1,583</td>\n",
       "      <td>$       330</td>\n",
       "      <td>$       255</td>\n",
       "      <td>$       139</td>\n",
       "      <td>$     1,474</td>\n",
       "      <td>$        50</td>\n",
       "      <td>$    12,238</td>\n",
       "      <td>$     7,959</td>\n",
       "      <td>$       750</td>\n",
       "      <td>$       820</td>\n",
       "      <td>$     1,386</td>\n",
       "      <td>$    38,951</td>\n",
       "    </tr>\n",
       "    <tr>\n",
       "      <th>INDIA_ENT_FSI_MFG_ECOMM</th>\n",
       "      <td>$       627</td>\n",
       "      <td>$       235</td>\n",
       "      <td>$         0</td>\n",
       "      <td>$       193</td>\n",
       "      <td>$         0</td>\n",
       "      <td>$       265</td>\n",
       "      <td>$        23</td>\n",
       "      <td>$        26</td>\n",
       "      <td>$       339</td>\n",
       "      <td>$         0</td>\n",
       "      <td>$     2,772</td>\n",
       "      <td>$     1,602</td>\n",
       "      <td>$         0</td>\n",
       "      <td>$     1,130</td>\n",
       "      <td>$    10,000</td>\n",
       "      <td>$    17,212</td>\n",
       "    </tr>\n",
       "    <tr>\n",
       "      <th>INDIA_ENT_GI</th>\n",
       "      <td>$     1,666</td>\n",
       "      <td>$       298</td>\n",
       "      <td>$       174</td>\n",
       "      <td>$     3,658</td>\n",
       "      <td>$        47</td>\n",
       "      <td>$       693</td>\n",
       "      <td>$         3</td>\n",
       "      <td>$        27</td>\n",
       "      <td>$        30</td>\n",
       "      <td>$         0</td>\n",
       "      <td>$     3,990</td>\n",
       "      <td>$     1,337</td>\n",
       "      <td>$         6</td>\n",
       "      <td>$     3,080</td>\n",
       "      <td>$        80</td>\n",
       "      <td>$    15,089</td>\n",
       "    </tr>\n",
       "    <tr>\n",
       "      <th>INDIA_ENT_ITS _INDST</th>\n",
       "      <td>$       466</td>\n",
       "      <td>$       828</td>\n",
       "      <td>$       125</td>\n",
       "      <td>$     2,490</td>\n",
       "      <td>$         0</td>\n",
       "      <td>$       406</td>\n",
       "      <td>$     1,555</td>\n",
       "      <td>$     1,559</td>\n",
       "      <td>$     1,450</td>\n",
       "      <td>$         0</td>\n",
       "      <td>$     2,381</td>\n",
       "      <td>$     3,193</td>\n",
       "      <td>$     2,404</td>\n",
       "      <td>$     9,844</td>\n",
       "      <td>$       685</td>\n",
       "      <td>$    27,386</td>\n",
       "    </tr>\n",
       "    <tr>\n",
       "      <th>INDIA_GROWTH_TELECOM</th>\n",
       "      <td>$         0</td>\n",
       "      <td>$         0</td>\n",
       "      <td>$         0</td>\n",
       "      <td>$     2,500</td>\n",
       "      <td>$         0</td>\n",
       "      <td>$         0</td>\n",
       "      <td>$    30,000</td>\n",
       "      <td>$         2</td>\n",
       "      <td>$         0</td>\n",
       "      <td>$         0</td>\n",
       "      <td>$        53</td>\n",
       "      <td>$     1,000</td>\n",
       "      <td>$         0</td>\n",
       "      <td>$    10,110</td>\n",
       "      <td>$         0</td>\n",
       "      <td>$    43,665</td>\n",
       "    </tr>\n",
       "    <tr>\n",
       "      <th>INDIA_ITS_STRATEGIC</th>\n",
       "      <td>$     4,558</td>\n",
       "      <td>$       175</td>\n",
       "      <td>$       520</td>\n",
       "      <td>$     5,246</td>\n",
       "      <td>$       126</td>\n",
       "      <td>$       279</td>\n",
       "      <td>$       402</td>\n",
       "      <td>$       195</td>\n",
       "      <td>$         0</td>\n",
       "      <td>$         0</td>\n",
       "      <td>$     2,944</td>\n",
       "      <td>$     1,076</td>\n",
       "      <td>$         0</td>\n",
       "      <td>$     2,995</td>\n",
       "      <td>$     2,400</td>\n",
       "      <td>$    20,916</td>\n",
       "    </tr>\n",
       "    <tr>\n",
       "      <th>INDIA_ITS_TA_ACCTS</th>\n",
       "      <td>$    15,537</td>\n",
       "      <td>$    11,110</td>\n",
       "      <td>$    10,700</td>\n",
       "      <td>$     3,200</td>\n",
       "      <td>$    11,371</td>\n",
       "      <td>$    12,550</td>\n",
       "      <td>$     5,010</td>\n",
       "      <td>$        20</td>\n",
       "      <td>$     3,151</td>\n",
       "      <td>$     4,900</td>\n",
       "      <td>$     9,688</td>\n",
       "      <td>$    17,453</td>\n",
       "      <td>$     4,500</td>\n",
       "      <td>$    12,998</td>\n",
       "      <td>$     1,101</td>\n",
       "      <td>$   123,289</td>\n",
       "    </tr>\n",
       "    <tr>\n",
       "      <th>INDIA_PS</th>\n",
       "      <td>$     4,770</td>\n",
       "      <td>$     4,793</td>\n",
       "      <td>$     3,038</td>\n",
       "      <td>$     7,230</td>\n",
       "      <td>$     4,811</td>\n",
       "      <td>$    13,652</td>\n",
       "      <td>$    53,682</td>\n",
       "      <td>$    15,661</td>\n",
       "      <td>$     2,260</td>\n",
       "      <td>$   324,087</td>\n",
       "      <td>$    76,000</td>\n",
       "      <td>$    26,257</td>\n",
       "      <td>$    21,767</td>\n",
       "      <td>$    10,696</td>\n",
       "      <td>$   171,517</td>\n",
       "      <td>$   740,221</td>\n",
       "    </tr>\n",
       "    <tr>\n",
       "      <th>All</th>\n",
       "      <td>$    53,764</td>\n",
       "      <td>$    33,573</td>\n",
       "      <td>$    17,428</td>\n",
       "      <td>$    50,019</td>\n",
       "      <td>$    22,235</td>\n",
       "      <td>$    32,441</td>\n",
       "      <td>$    93,492</td>\n",
       "      <td>$    22,441</td>\n",
       "      <td>$    18,048</td>\n",
       "      <td>$   329,603</td>\n",
       "      <td>$   196,145</td>\n",
       "      <td>$   106,991</td>\n",
       "      <td>$    35,748</td>\n",
       "      <td>$    77,448</td>\n",
       "      <td>$   192,686</td>\n",
       "      <td>$ 1,282,062</td>\n",
       "    </tr>\n",
       "  </tbody>\n",
       "</table>\n",
       "</div>"
      ],
      "text/plain": [
       "forecast status              Commit                                      \\\n",
       "fiscal period               Q1-2017     Q2-2017     Q3-2017     Q4-2016   \n",
       "gaining_sales_level_4                                                     \n",
       "GET                     $         0 $         0 $         0 $         0   \n",
       "GSP                     $        37 $       242 $       220 $        25   \n",
       "INDIA_COMM_EU1_SOUTH    $     8,526 $     4,740 $     1,791 $     8,455   \n",
       "INDIA_COMM_EU2_WEST     $     3,767 $       394 $         0 $     5,715   \n",
       "INDIA_COMM_EU3_NE_SAARC $     9,823 $     8,011 $       814 $     6,120   \n",
       "INDIA_ENT_FSI           $     3,987 $     2,747 $        46 $     5,187   \n",
       "INDIA_ENT_FSI_MFG_ECOMM $       627 $       235 $         0 $       193   \n",
       "INDIA_ENT_GI            $     1,666 $       298 $       174 $     3,658   \n",
       "INDIA_ENT_ITS _INDST    $       466 $       828 $       125 $     2,490   \n",
       "INDIA_GROWTH_TELECOM    $         0 $         0 $         0 $     2,500   \n",
       "INDIA_ITS_STRATEGIC     $     4,558 $       175 $       520 $     5,246   \n",
       "INDIA_ITS_TA_ACCTS      $    15,537 $    11,110 $    10,700 $     3,200   \n",
       "INDIA_PS                $     4,770 $     4,793 $     3,038 $     7,230   \n",
       "All                     $    53,764 $    33,573 $    17,428 $    50,019   \n",
       "\n",
       "forecast status                     Not Forecastable                          \\\n",
       "fiscal period               Q4-2017          Q1-2017     Q2-2017     Q3-2017   \n",
       "gaining_sales_level_4                                                          \n",
       "GET                     $         0      $         0 $         0 $         0   \n",
       "GSP                     $        60      $       200 $         0 $       100   \n",
       "INDIA_COMM_EU1_SOUTH    $       859      $     1,967 $       504 $       385   \n",
       "INDIA_COMM_EU2_WEST     $       927      $       511 $       287 $     1,116   \n",
       "INDIA_COMM_EU3_NE_SAARC $     2,451      $     1,588 $     1,771 $     3,211   \n",
       "INDIA_ENT_FSI           $     1,583      $       330 $       255 $       139   \n",
       "INDIA_ENT_FSI_MFG_ECOMM $         0      $       265 $        23 $        26   \n",
       "INDIA_ENT_GI            $        47      $       693 $         3 $        27   \n",
       "INDIA_ENT_ITS _INDST    $         0      $       406 $     1,555 $     1,559   \n",
       "INDIA_GROWTH_TELECOM    $         0      $         0 $    30,000 $         2   \n",
       "INDIA_ITS_STRATEGIC     $       126      $       279 $       402 $       195   \n",
       "INDIA_ITS_TA_ACCTS      $    11,371      $    12,550 $     5,010 $        20   \n",
       "INDIA_PS                $     4,811      $    13,652 $    53,682 $    15,661   \n",
       "All                     $    22,235      $    32,441 $    93,492 $    22,441   \n",
       "\n",
       "forecast status                                      Upside              \\\n",
       "fiscal period               Q4-2016     Q4-2017     Q1-2017     Q2-2017   \n",
       "gaining_sales_level_4                                                     \n",
       "GET                     $        10 $         0 $         0 $         0   \n",
       "GSP                     $        20 $         0 $       536 $     1,697   \n",
       "INDIA_COMM_EU1_SOUTH    $     2,212 $        33 $    17,309 $     8,670   \n",
       "INDIA_COMM_EU2_WEST     $     3,752 $         0 $    22,707 $     4,031   \n",
       "INDIA_COMM_EU3_NE_SAARC $     3,350 $       533 $    45,527 $    32,716   \n",
       "INDIA_ENT_FSI           $     1,474 $        50 $    12,238 $     7,959   \n",
       "INDIA_ENT_FSI_MFG_ECOMM $       339 $         0 $     2,772 $     1,602   \n",
       "INDIA_ENT_GI            $        30 $         0 $     3,990 $     1,337   \n",
       "INDIA_ENT_ITS _INDST    $     1,450 $         0 $     2,381 $     3,193   \n",
       "INDIA_GROWTH_TELECOM    $         0 $         0 $        53 $     1,000   \n",
       "INDIA_ITS_STRATEGIC     $         0 $         0 $     2,944 $     1,076   \n",
       "INDIA_ITS_TA_ACCTS      $     3,151 $     4,900 $     9,688 $    17,453   \n",
       "INDIA_PS                $     2,260 $   324,087 $    76,000 $    26,257   \n",
       "All                     $    18,048 $   329,603 $   196,145 $   106,991   \n",
       "\n",
       "forecast status                                                     All  \n",
       "fiscal period               Q3-2017     Q4-2016     Q4-2017              \n",
       "gaining_sales_level_4                                                    \n",
       "GET                     $         0 $         0 $         0 $        10  \n",
       "GSP                     $         0 $       146 $         0 $     3,283  \n",
       "INDIA_COMM_EU1_SOUTH    $     1,312 $     6,563 $     1,319 $    64,645  \n",
       "INDIA_COMM_EU2_WEST     $     2,740 $    10,431 $     2,651 $    59,029  \n",
       "INDIA_COMM_EU3_NE_SAARC $     2,269 $     8,635 $     1,547 $   128,366  \n",
       "INDIA_ENT_FSI           $       750 $       820 $     1,386 $    38,951  \n",
       "INDIA_ENT_FSI_MFG_ECOMM $         0 $     1,130 $    10,000 $    17,212  \n",
       "INDIA_ENT_GI            $         6 $     3,080 $        80 $    15,089  \n",
       "INDIA_ENT_ITS _INDST    $     2,404 $     9,844 $       685 $    27,386  \n",
       "INDIA_GROWTH_TELECOM    $         0 $    10,110 $         0 $    43,665  \n",
       "INDIA_ITS_STRATEGIC     $         0 $     2,995 $     2,400 $    20,916  \n",
       "INDIA_ITS_TA_ACCTS      $     4,500 $    12,998 $     1,101 $   123,289  \n",
       "INDIA_PS                $    21,767 $    10,696 $   171,517 $   740,221  \n",
       "All                     $    35,748 $    77,448 $   192,686 $ 1,282,062  "
      ]
     },
     "execution_count": 37,
     "metadata": {},
     "output_type": "execute_result"
    }
   ],
   "source": [
    "df_funnel.pivot_table(values='opportunity line value ($000s) (converted)', index='gaining_sales_level_4', columns=['forecast status','fiscal period'], aggfunc=sum, margins=True, fill_value=0)"
   ]
  },
  {
   "cell_type": "code",
   "execution_count": 38,
   "metadata": {
    "collapsed": false
   },
   "outputs": [
    {
     "data": {
      "text/plain": [
       "gaining_sales_level_3\n",
       "INDIA_COMM_1   $    10,075\n",
       "All            $    10,075\n",
       "Name: opportunity line value ($000s) (converted), dtype: float64"
      ]
     },
     "execution_count": 38,
     "metadata": {},
     "output_type": "execute_result"
    }
   ],
   "source": [
    "#df_funnel\n",
    "#df_funnel.pivot_table(values='opportunity line value ($000s) (converted)', index='gaining_sales_level_3', columns='fiscal period', aggfunc=sum, margins=True, fill_value=0)\n",
    "df_funnel_q4_m12 = df_funnel[(df_funnel['fiscal period'] == 'Q4-2016') & (df_funnel['fiscal week of month'] == 5) & (df_funnel['forecast status'] == 'Commit') & (df_funnel['gaining_sales_level_3'] == 'INDIA_COMM_1')]\n",
    "df_funnel_q4_m12.pivot_table(values='opportunity line value ($000s) (converted)', index='gaining_sales_level_3', aggfunc=sum, margins=True, fill_value=0)"
   ]
  },
  {
   "cell_type": "code",
   "execution_count": null,
   "metadata": {
    "collapsed": false
   },
   "outputs": [],
   "source": [
    "def correct_quarter(val):\n",
    "    val = val[-4:] + val[:2]\n",
    "    return val\n",
    "\n",
    "def correct_month(val):\n",
    "    val = '2016'+str(val)\n",
    "    return val\n",
    "\n",
    "def correct_week(val):\n",
    "    val = '2016'+str(val)\n",
    "    return val\n",
    "\n",
    "#df_funnel_q4_m12['fiscal week']\n",
    "df_funnel_q4_m12['opportunity line value ($000s) (converted)'] = df_funnel_q4_m12['opportunity line value ($000s) (converted)'].apply(lambda x: x*1000)\n",
    "df_funnel_q4_m12['fiscal period'] = df_funnel_q4_m12['fiscal period'].apply(lambda x: correct_quarter(x))\n",
    "df_funnel_q4_m12['fiscal month'] = df_funnel_q4_m12['fiscal month'].apply(lambda x: correct_month(x))\n",
    "df_funnel_q4_m12['fiscal week'] = df_funnel_q4_m12['fiscal week'].apply(lambda x: correct_week(x))\n",
    "df_funnel_q4_m12[['fiscal period', 'fiscal month', 'fiscal week']]"
   ]
  },
  {
   "cell_type": "code",
   "execution_count": null,
   "metadata": {
    "collapsed": false
   },
   "outputs": [],
   "source": [
    "cols_change = {\n",
    "    'level 02 territory' : 'sales_level_2',\n",
    "    'level 03 territory' : 'sales_level_3',\n",
    "    'level 04 territory' : 'sales_level_4',\n",
    "    'level 05 territory' : 'sales_level_5',\n",
    "    'level 06 territory' : 'sales_level_6',\n",
    "    #'gaining_sales_level_2': 'gaining_sales_level_2_y',\n",
    "    #'gaining_sales_level_3': 'gaining_sales_level_3_y',\n",
    "    #'gaining_sales_level_4': 'gaining_sales_level_4_y',\n",
    "    #'gaining_sales_level_5': 'gaining_sales_level_5_y',\n",
    "    #'gaining_sales_level_6': 'gaining_sales_level_6_y',\n",
    "    'opportunity line value ($000s) (converted)' : 'booking_net',\n",
    "    'opportunity owner': 'sales agent name',\n",
    "    'deal id' : 'erp_deal_id',\n",
    "    'technology & service name': 'internal_sub_business_entity_name',\n",
    "    'fiscal period' : 'fiscal_quarter_id',\n",
    "    'fiscal month' : 'fiscal_period_id',\n",
    "    'fiscal week': 'fiscal_week_id',\n",
    "    'product family': 'product_family'\n",
    "}\n",
    "df_funnel_q4_m12.rename(columns=cols_change, inplace=True)\n",
    "#df_funnel_q4_m12.columns"
   ]
  },
  {
   "cell_type": "code",
   "execution_count": null,
   "metadata": {
    "collapsed": false,
    "scrolled": false
   },
   "outputs": [],
   "source": [
    "df_prod_no_cloud['record_type'] = 'booking'\n",
    "df_funnel_q4_m12['record_type'] = 'forecast'"
   ]
  },
  {
   "cell_type": "code",
   "execution_count": 42,
   "metadata": {
    "collapsed": false
   },
   "outputs": [],
   "source": [
    "def create_new_com_cols(df):\n",
    "    df.sales_level_2 = df.gaining_sales_level_2\n",
    "    df.sales_level_3 = df.gaining_sales_level_3\n",
    "    df.sales_level_4 = df.gaining_sales_level_4\n",
    "    df.sales_level_5 = df.gaining_sales_level_5\n",
    "    df.sales_level_6 = df.gaining_sales_level_6\n",
    "    return df\n",
    "\n",
    "df_prod_no_cloud = create_new_com_cols(df_prod_no_cloud)\n",
    "df_funnel_q4_m12 = create_new_com_cols(df_funnel_q4_m12)"
   ]
  },
  {
   "cell_type": "code",
   "execution_count": 43,
   "metadata": {
    "collapsed": true
   },
   "outputs": [],
   "source": [
    "df_fy16_exit_proj = pd.concat([df_prod_no_cloud, df_funnel_q4_m12])"
   ]
  },
  {
   "cell_type": "code",
   "execution_count": 45,
   "metadata": {
    "collapsed": false,
    "scrolled": true
   },
   "outputs": [
    {
     "data": {
      "text/html": [
       "<div>\n",
       "<table border=\"1\" class=\"dataframe\">\n",
       "  <thead>\n",
       "    <tr style=\"text-align: right;\">\n",
       "      <th>record_type</th>\n",
       "      <th>booking</th>\n",
       "      <th>forecast</th>\n",
       "      <th>All</th>\n",
       "    </tr>\n",
       "    <tr>\n",
       "      <th>sales_level_3</th>\n",
       "      <th></th>\n",
       "      <th></th>\n",
       "      <th></th>\n",
       "    </tr>\n",
       "  </thead>\n",
       "  <tbody>\n",
       "    <tr>\n",
       "      <th>GSP</th>\n",
       "      <td>$   805,473</td>\n",
       "      <td>$         0</td>\n",
       "      <td>$   805,473</td>\n",
       "    </tr>\n",
       "    <tr>\n",
       "      <th>INDIA_AREA-MISCL3</th>\n",
       "      <td>$  -180,499</td>\n",
       "      <td>$         0</td>\n",
       "      <td>$  -180,499</td>\n",
       "    </tr>\n",
       "    <tr>\n",
       "      <th>INDIA_COMM_1</th>\n",
       "      <td>$214,968,969</td>\n",
       "      <td>$10,075,000</td>\n",
       "      <td>$225,043,969</td>\n",
       "    </tr>\n",
       "    <tr>\n",
       "      <th>INDIA_ENTERPRISE_1</th>\n",
       "      <td>$300,939,619</td>\n",
       "      <td>$         0</td>\n",
       "      <td>$300,939,619</td>\n",
       "    </tr>\n",
       "    <tr>\n",
       "      <th>INDIA_GROWTH_VERTICA</th>\n",
       "      <td>$12,928,981</td>\n",
       "      <td>$         0</td>\n",
       "      <td>$12,928,981</td>\n",
       "    </tr>\n",
       "    <tr>\n",
       "      <th>INDIA_MISC</th>\n",
       "      <td>$-23,194,159</td>\n",
       "      <td>$         0</td>\n",
       "      <td>$-23,194,159</td>\n",
       "    </tr>\n",
       "    <tr>\n",
       "      <th>All</th>\n",
       "      <td>$506,268,384</td>\n",
       "      <td>$10,075,000</td>\n",
       "      <td>$516,343,384</td>\n",
       "    </tr>\n",
       "  </tbody>\n",
       "</table>\n",
       "</div>"
      ],
      "text/plain": [
       "record_type               booking    forecast          All\n",
       "sales_level_3                                             \n",
       "GSP                   $   805,473 $         0  $   805,473\n",
       "INDIA_AREA-MISCL3     $  -180,499 $         0  $  -180,499\n",
       "INDIA_COMM_1         $214,968,969 $10,075,000 $225,043,969\n",
       "INDIA_ENTERPRISE_1   $300,939,619 $         0 $300,939,619\n",
       "INDIA_GROWTH_VERTICA  $12,928,981 $         0  $12,928,981\n",
       "INDIA_MISC           $-23,194,159 $         0 $-23,194,159\n",
       "All                  $506,268,384 $10,075,000 $516,343,384"
      ]
     },
     "execution_count": 45,
     "metadata": {},
     "output_type": "execute_result"
    }
   ],
   "source": [
    "df_fy16_exit_proj.pivot_table(values='booking_net', index=['sales_level_3'], columns='record_type', aggfunc=sum, margins=True, fill_value=0)"
   ]
  },
  {
   "cell_type": "code",
   "execution_count": 46,
   "metadata": {
    "collapsed": false
   },
   "outputs": [],
   "source": [
    "df_fy16_exit_proj.to_csv('../FY16_Restated_Projected_Exit_tillQ4M3W4.csv', sep=',', encoding='utf8')"
   ]
  },
  {
   "cell_type": "code",
   "execution_count": 94,
   "metadata": {
    "collapsed": false
   },
   "outputs": [
    {
     "data": {
      "text/plain": [
       "<matplotlib.axes._subplots.AxesSubplot at 0x120d2c18>"
      ]
     },
     "execution_count": 94,
     "metadata": {},
     "output_type": "execute_result"
    },
    {
     "data": {
      "image/png": "[encoded data removed]",
      "text/plain": [
       "<matplotlib.figure.Figure at 0x120d2320>"
      ]
     },
     "metadata": {},
     "output_type": "display_data"
    }
   ],
   "source": [
    "result = df_fy16_exit_proj.groupby(['sales_level_3','fiscal_week_id'])['booking_net'].sum()\n",
    "result.unstack('sales_level_3').fillna(0).cumsum().plot()"
   ]
  },
  {
   "cell_type": "code",
   "execution_count": null,
   "metadata": {
    "collapsed": true
   },
   "outputs": [],
   "source": []
  }
 ],
 "metadata": {
  "anaconda-cloud": {},
  "kernelspec": {
   "display_name": "Python [Root]",
   "language": "python",
   "name": "Python [Root]"
  },
  "language_info": {
   "codemirror_mode": {
    "name": "ipython",
    "version": 2
   },
   "file_extension": ".py",
   "mimetype": "text/x-python",
   "name": "python",
   "nbconvert_exporter": "python",
   "pygments_lexer": "ipython2",
   "version": "2.7.11"
  }
 },
 "nbformat": 4,
 "nbformat_minor": 0
}
